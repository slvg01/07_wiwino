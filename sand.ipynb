{
 "cells": [
  {
   "cell_type": "code",
   "execution_count": 23,
   "metadata": {},
   "outputs": [],
   "source": [
    "import sqlite3\n",
    "import pandas as pd\n",
    "import plotly.express as px\n",
    "import nbformat\n",
    "import statsmodels\n",
    "import plotly.graph_objects as go\n",
    "\n",
    "# Connect to the SQLite database\n",
    "connexion = sqlite3.connect('db/vivino.db')\n",
    "cursor = connexion.cursor()\n"
   ]
  },
  {
   "cell_type": "code",
   "execution_count": 143,
   "metadata": {},
   "outputs": [
    {
     "name": "stdout",
     "output_type": "stream",
     "text": [
      "Number of rows: 10\n",
      "[(1, 50.46808243727597, 186), (2, 91.26720430107531, 186), (3, 131.56037634408605, 186), (4, 181.5922580645162, 186), (5, 241.4904838709678, 186), (6, 328.49162162162173, 185), (7, 446.144, 185), (8, 635.586162162162, 185), (9, 964.2643243243243, 185), (10, 2686.8456216216214, 185)]\n"
     ]
    },
    {
     "data": {
      "text/html": [
       "<div>\n",
       "<style scoped>\n",
       "    .dataframe tbody tr th:only-of-type {\n",
       "        vertical-align: middle;\n",
       "    }\n",
       "\n",
       "    .dataframe tbody tr th {\n",
       "        vertical-align: top;\n",
       "    }\n",
       "\n",
       "    .dataframe thead th {\n",
       "        text-align: right;\n",
       "    }\n",
       "</style>\n",
       "<table border=\"1\" class=\"dataframe\">\n",
       "  <thead>\n",
       "    <tr style=\"text-align: right;\">\n",
       "      <th></th>\n",
       "      <th>price_bucket</th>\n",
       "      <th>avg_price</th>\n",
       "      <th>wines_count</th>\n",
       "    </tr>\n",
       "  </thead>\n",
       "  <tbody>\n",
       "    <tr>\n",
       "      <th>0</th>\n",
       "      <td>1</td>\n",
       "      <td>50.468082</td>\n",
       "      <td>186</td>\n",
       "    </tr>\n",
       "    <tr>\n",
       "      <th>1</th>\n",
       "      <td>2</td>\n",
       "      <td>91.267204</td>\n",
       "      <td>186</td>\n",
       "    </tr>\n",
       "    <tr>\n",
       "      <th>2</th>\n",
       "      <td>3</td>\n",
       "      <td>131.560376</td>\n",
       "      <td>186</td>\n",
       "    </tr>\n",
       "    <tr>\n",
       "      <th>3</th>\n",
       "      <td>4</td>\n",
       "      <td>181.592258</td>\n",
       "      <td>186</td>\n",
       "    </tr>\n",
       "    <tr>\n",
       "      <th>4</th>\n",
       "      <td>5</td>\n",
       "      <td>241.490484</td>\n",
       "      <td>186</td>\n",
       "    </tr>\n",
       "    <tr>\n",
       "      <th>5</th>\n",
       "      <td>6</td>\n",
       "      <td>328.491622</td>\n",
       "      <td>185</td>\n",
       "    </tr>\n",
       "    <tr>\n",
       "      <th>6</th>\n",
       "      <td>7</td>\n",
       "      <td>446.144000</td>\n",
       "      <td>185</td>\n",
       "    </tr>\n",
       "    <tr>\n",
       "      <th>7</th>\n",
       "      <td>8</td>\n",
       "      <td>635.586162</td>\n",
       "      <td>185</td>\n",
       "    </tr>\n",
       "    <tr>\n",
       "      <th>8</th>\n",
       "      <td>9</td>\n",
       "      <td>964.264324</td>\n",
       "      <td>185</td>\n",
       "    </tr>\n",
       "    <tr>\n",
       "      <th>9</th>\n",
       "      <td>10</td>\n",
       "      <td>2686.845622</td>\n",
       "      <td>185</td>\n",
       "    </tr>\n",
       "  </tbody>\n",
       "</table>\n",
       "</div>"
      ],
      "text/plain": [
       "   price_bucket    avg_price  wines_count\n",
       "0             1    50.468082          186\n",
       "1             2    91.267204          186\n",
       "2             3   131.560376          186\n",
       "3             4   181.592258          186\n",
       "4             5   241.490484          186\n",
       "5             6   328.491622          185\n",
       "6             7   446.144000          185\n",
       "7             8   635.586162          185\n",
       "8             9   964.264324          185\n",
       "9            10  2686.845622          185"
      ]
     },
     "execution_count": 143,
     "metadata": {},
     "output_type": "execute_result"
    }
   ],
   "source": [
    "# 1a - Marketing push - price distribution\n",
    "query1a = (\"\"\"\n",
    "WITH price_buckets AS (\n",
    "    SELECT  NTILE(10) OVER (ORDER BY price_euros) AS price_bucket,\n",
    "            price_euros\n",
    "    FROM    vintages\n",
    "    WHERE   bottle_volume_ml = 750\n",
    ")\n",
    "\n",
    "SELECT  price_bucket,\n",
    "        AVG(price_euros) AS avg_price,\n",
    "        COUNT(*) AS wines_count\n",
    "FROM    price_buckets\n",
    "GROUP BY price_bucket  \n",
    "ORDER BY price_bucket\n",
    "\"\"\")\n",
    "\n",
    "cursor.execute(query1a)\n",
    "result = cursor.fetchall()\n",
    "print(\"Number of rows:\", len(result))\n",
    "print (result)\n",
    "df = pd.read_sql_query(query1a, connexion)\n",
    "df\n",
    "\n"
   ]
  },
  {
   "cell_type": "code",
   "execution_count": 150,
   "metadata": {},
   "outputs": [
    {
     "name": "stdout",
     "output_type": "stream",
     "text": [
      "Number of rows: 10\n",
      "[(1, 4.4, 4.4, 4.399999999999989, 140), (2, 4.4, 4.4, 4.399999999999989, 140), (3, 4.4, 4.5, 4.437142857142854, 140), (4, 4.5, 4.5, 4.5, 140), (5, 4.5, 4.5, 4.5, 140), (6, 4.5, 4.5, 4.5, 140), (7, 4.5, 4.6, 4.593525179856127, 139), (8, 4.6, 4.6, 4.600000000000012, 139), (9, 4.6, 4.7, 4.656115107913673, 139), (10, 4.7, 4.9, 4.722302158273366, 139)]\n"
     ]
    },
    {
     "data": {
      "text/html": [
       "<div>\n",
       "<style scoped>\n",
       "    .dataframe tbody tr th:only-of-type {\n",
       "        vertical-align: middle;\n",
       "    }\n",
       "\n",
       "    .dataframe tbody tr th {\n",
       "        vertical-align: top;\n",
       "    }\n",
       "\n",
       "    .dataframe thead th {\n",
       "        text-align: right;\n",
       "    }\n",
       "</style>\n",
       "<table border=\"1\" class=\"dataframe\">\n",
       "  <thead>\n",
       "    <tr style=\"text-align: right;\">\n",
       "      <th></th>\n",
       "      <th>ratings_bucket</th>\n",
       "      <th>avg_ratings</th>\n",
       "      <th>avg_ratings</th>\n",
       "      <th>avg_ratings</th>\n",
       "      <th>wines_count</th>\n",
       "    </tr>\n",
       "  </thead>\n",
       "  <tbody>\n",
       "    <tr>\n",
       "      <th>0</th>\n",
       "      <td>1</td>\n",
       "      <td>4.4</td>\n",
       "      <td>4.4</td>\n",
       "      <td>4.400000</td>\n",
       "      <td>140</td>\n",
       "    </tr>\n",
       "    <tr>\n",
       "      <th>1</th>\n",
       "      <td>2</td>\n",
       "      <td>4.4</td>\n",
       "      <td>4.4</td>\n",
       "      <td>4.400000</td>\n",
       "      <td>140</td>\n",
       "    </tr>\n",
       "    <tr>\n",
       "      <th>2</th>\n",
       "      <td>3</td>\n",
       "      <td>4.4</td>\n",
       "      <td>4.5</td>\n",
       "      <td>4.437143</td>\n",
       "      <td>140</td>\n",
       "    </tr>\n",
       "    <tr>\n",
       "      <th>3</th>\n",
       "      <td>4</td>\n",
       "      <td>4.5</td>\n",
       "      <td>4.5</td>\n",
       "      <td>4.500000</td>\n",
       "      <td>140</td>\n",
       "    </tr>\n",
       "    <tr>\n",
       "      <th>4</th>\n",
       "      <td>5</td>\n",
       "      <td>4.5</td>\n",
       "      <td>4.5</td>\n",
       "      <td>4.500000</td>\n",
       "      <td>140</td>\n",
       "    </tr>\n",
       "    <tr>\n",
       "      <th>5</th>\n",
       "      <td>6</td>\n",
       "      <td>4.5</td>\n",
       "      <td>4.5</td>\n",
       "      <td>4.500000</td>\n",
       "      <td>140</td>\n",
       "    </tr>\n",
       "    <tr>\n",
       "      <th>6</th>\n",
       "      <td>7</td>\n",
       "      <td>4.5</td>\n",
       "      <td>4.6</td>\n",
       "      <td>4.593525</td>\n",
       "      <td>139</td>\n",
       "    </tr>\n",
       "    <tr>\n",
       "      <th>7</th>\n",
       "      <td>8</td>\n",
       "      <td>4.6</td>\n",
       "      <td>4.6</td>\n",
       "      <td>4.600000</td>\n",
       "      <td>139</td>\n",
       "    </tr>\n",
       "    <tr>\n",
       "      <th>8</th>\n",
       "      <td>9</td>\n",
       "      <td>4.6</td>\n",
       "      <td>4.7</td>\n",
       "      <td>4.656115</td>\n",
       "      <td>139</td>\n",
       "    </tr>\n",
       "    <tr>\n",
       "      <th>9</th>\n",
       "      <td>10</td>\n",
       "      <td>4.7</td>\n",
       "      <td>4.9</td>\n",
       "      <td>4.722302</td>\n",
       "      <td>139</td>\n",
       "    </tr>\n",
       "  </tbody>\n",
       "</table>\n",
       "</div>"
      ],
      "text/plain": [
       "   ratings_bucket  avg_ratings  avg_ratings  avg_ratings  wines_count\n",
       "0               1          4.4          4.4     4.400000          140\n",
       "1               2          4.4          4.4     4.400000          140\n",
       "2               3          4.4          4.5     4.437143          140\n",
       "3               4          4.5          4.5     4.500000          140\n",
       "4               5          4.5          4.5     4.500000          140\n",
       "5               6          4.5          4.5     4.500000          140\n",
       "6               7          4.5          4.6     4.593525          139\n",
       "7               8          4.6          4.6     4.600000          139\n",
       "8               9          4.6          4.7     4.656115          139\n",
       "9              10          4.7          4.9     4.722302          139"
      ]
     },
     "execution_count": 150,
     "metadata": {},
     "output_type": "execute_result"
    }
   ],
   "source": [
    "# 1b - Marketing push - ratings distribution\n",
    "query1b = (\"\"\"\n",
    "WITH ratings_avg_buckets AS (\n",
    "    SELECT  NTILE(10) OVER (ORDER BY ratings_average) AS ratings_bucket,\n",
    "            ratings_average\n",
    "    FROM    vintages\n",
    "    WHERE   bottle_volume_ml = 750  and ratings_average > 0\n",
    ")\n",
    "\n",
    "SELECT  ratings_bucket,\n",
    "        MIN(ratings_average) AS avg_ratings,\n",
    "        MAX(ratings_average) AS avg_ratings,\n",
    "        AVG(ratings_average) AS avg_ratings,\n",
    "        COUNT(*) AS wines_count\n",
    "FROM    ratings_avg_buckets\n",
    "GROUP BY ratings_bucket  \n",
    "ORDER BY ratings_bucket\n",
    "\"\"\")\n",
    "\n",
    "cursor.execute(query1b)\n",
    "result = cursor.fetchall()\n",
    "print(\"Number of rows:\", len(result))\n",
    "print (result)\n",
    "df = pd.read_sql_query(query1b, connexion)\n",
    "df\n"
   ]
  },
  {
   "cell_type": "code",
   "execution_count": 149,
   "metadata": {},
   "outputs": [
    {
     "name": "stdout",
     "output_type": "stream",
     "text": [
      "Number of rows: 10\n",
      "[(1, 0, 8, 3.629032258064516, 186), (2, 8, 18, 12.688172043010752, 186), (3, 18, 39, 26.704301075268816, 186), (4, 39, 81, 56.36021505376344, 186), (5, 83, 149, 116.70430107526882, 186), (6, 149, 212, 178.71891891891892, 185), (7, 212, 309, 253.30810810810812, 185), (8, 309, 498, 393.64864864864865, 185), (9, 499, 954, 692.4918918918919, 185), (10, 959, 36681, 3299.7837837837837, 185)]\n"
     ]
    },
    {
     "data": {
      "text/html": [
       "<div>\n",
       "<style scoped>\n",
       "    .dataframe tbody tr th:only-of-type {\n",
       "        vertical-align: middle;\n",
       "    }\n",
       "\n",
       "    .dataframe tbody tr th {\n",
       "        vertical-align: top;\n",
       "    }\n",
       "\n",
       "    .dataframe thead th {\n",
       "        text-align: right;\n",
       "    }\n",
       "</style>\n",
       "<table border=\"1\" class=\"dataframe\">\n",
       "  <thead>\n",
       "    <tr style=\"text-align: right;\">\n",
       "      <th></th>\n",
       "      <th>ratings_count_bucket</th>\n",
       "      <th>ratings_count</th>\n",
       "      <th>ratings_count</th>\n",
       "      <th>ratings_count</th>\n",
       "      <th>wines_count</th>\n",
       "    </tr>\n",
       "  </thead>\n",
       "  <tbody>\n",
       "    <tr>\n",
       "      <th>0</th>\n",
       "      <td>1</td>\n",
       "      <td>0</td>\n",
       "      <td>8</td>\n",
       "      <td>3.629032</td>\n",
       "      <td>186</td>\n",
       "    </tr>\n",
       "    <tr>\n",
       "      <th>1</th>\n",
       "      <td>2</td>\n",
       "      <td>8</td>\n",
       "      <td>18</td>\n",
       "      <td>12.688172</td>\n",
       "      <td>186</td>\n",
       "    </tr>\n",
       "    <tr>\n",
       "      <th>2</th>\n",
       "      <td>3</td>\n",
       "      <td>18</td>\n",
       "      <td>39</td>\n",
       "      <td>26.704301</td>\n",
       "      <td>186</td>\n",
       "    </tr>\n",
       "    <tr>\n",
       "      <th>3</th>\n",
       "      <td>4</td>\n",
       "      <td>39</td>\n",
       "      <td>81</td>\n",
       "      <td>56.360215</td>\n",
       "      <td>186</td>\n",
       "    </tr>\n",
       "    <tr>\n",
       "      <th>4</th>\n",
       "      <td>5</td>\n",
       "      <td>83</td>\n",
       "      <td>149</td>\n",
       "      <td>116.704301</td>\n",
       "      <td>186</td>\n",
       "    </tr>\n",
       "    <tr>\n",
       "      <th>5</th>\n",
       "      <td>6</td>\n",
       "      <td>149</td>\n",
       "      <td>212</td>\n",
       "      <td>178.718919</td>\n",
       "      <td>185</td>\n",
       "    </tr>\n",
       "    <tr>\n",
       "      <th>6</th>\n",
       "      <td>7</td>\n",
       "      <td>212</td>\n",
       "      <td>309</td>\n",
       "      <td>253.308108</td>\n",
       "      <td>185</td>\n",
       "    </tr>\n",
       "    <tr>\n",
       "      <th>7</th>\n",
       "      <td>8</td>\n",
       "      <td>309</td>\n",
       "      <td>498</td>\n",
       "      <td>393.648649</td>\n",
       "      <td>185</td>\n",
       "    </tr>\n",
       "    <tr>\n",
       "      <th>8</th>\n",
       "      <td>9</td>\n",
       "      <td>499</td>\n",
       "      <td>954</td>\n",
       "      <td>692.491892</td>\n",
       "      <td>185</td>\n",
       "    </tr>\n",
       "    <tr>\n",
       "      <th>9</th>\n",
       "      <td>10</td>\n",
       "      <td>959</td>\n",
       "      <td>36681</td>\n",
       "      <td>3299.783784</td>\n",
       "      <td>185</td>\n",
       "    </tr>\n",
       "  </tbody>\n",
       "</table>\n",
       "</div>"
      ],
      "text/plain": [
       "   ratings_count_bucket  ratings_count  ratings_count  ratings_count  \\\n",
       "0                     1              0              8       3.629032   \n",
       "1                     2              8             18      12.688172   \n",
       "2                     3             18             39      26.704301   \n",
       "3                     4             39             81      56.360215   \n",
       "4                     5             83            149     116.704301   \n",
       "5                     6            149            212     178.718919   \n",
       "6                     7            212            309     253.308108   \n",
       "7                     8            309            498     393.648649   \n",
       "8                     9            499            954     692.491892   \n",
       "9                    10            959          36681    3299.783784   \n",
       "\n",
       "   wines_count  \n",
       "0          186  \n",
       "1          186  \n",
       "2          186  \n",
       "3          186  \n",
       "4          186  \n",
       "5          185  \n",
       "6          185  \n",
       "7          185  \n",
       "8          185  \n",
       "9          185  "
      ]
     },
     "execution_count": 149,
     "metadata": {},
     "output_type": "execute_result"
    }
   ],
   "source": [
    "# 1c - Marketing push - ratings count distribution\n",
    "query1c = (\"\"\"\n",
    "WITH ratings_count_buckets AS (\n",
    "    SELECT  NTILE(10) OVER (ORDER BY ratings_count) AS ratings_count_bucket,\n",
    "            ratings_count\n",
    "    FROM    vintages\n",
    "    WHERE   bottle_volume_ml = 750\n",
    ")\n",
    "\n",
    "SELECT  ratings_count_bucket,\n",
    "        MIN(ratings_count) AS ratings_count,\n",
    "        MAX(ratings_count) AS ratings_count,\n",
    "        AVG(ratings_count) AS ratings_count,\n",
    "        COUNT(*) AS wines_count\n",
    "FROM    ratings_count_buckets\n",
    "        \n",
    "GROUP BY ratings_count_bucket  \n",
    "ORDER BY ratings_count_bucket\n",
    "\"\"\")\n",
    "\n",
    "cursor.execute(query1c)\n",
    "result = cursor.fetchall()\n",
    "print(\"Number of rows:\", len(result))\n",
    "print (result)\n",
    "df = pd.read_sql_query(query1c, connexion)\n",
    "df\n"
   ]
  },
  {
   "cell_type": "code",
   "execution_count": 180,
   "metadata": {},
   "outputs": [
    {
     "name": "stdout",
     "output_type": "stream",
     "text": [
      "Number of rows: 10\n",
      "[(1485238, 'Krug Rosé', 'top_lists.EditorialTopList.2017999.name', 6, 349.0, 4.6, 3605, None), (1776981, 'Burmester Tordiz 40 Year Old Tawny Port', \"Vivino's 2020 Wine Style Awards: Portuguese Tawny Port\", 1, 337.5, 4.6, 474, None), (2674920, 'Ruinart Dom Ruinart Blanc de Blancs Brut Champagne 2010', \"Vivino's 2016 Wine Style Awards: French Champagne\", 10, 287.0, 4.6, 465, None), (5128110, 'Giacomo Conterno Barolo Cascina Francia 2012', \"Vivino's 2019 Wine Style Awards: Italian Barolo\", 9, 420.0, 4.6, 559, None), (12776766, 'Cerbaiona Brunello di Montalcino 2012', \"Vivino's 2019 Wine Style Awards: Italian Brunello\", 8, 276.25, 4.6, 380, None), (20315417, 'Achaval-Ferrer Finca Altamira Malbec 2015', \"Vivino's 2020 Wine Style Awards: Argentinian Malbec\", 6, 99.95, 4.6, 666, None), (25043149, 'Cardinale Red 2014', \"Vivino's 2020 Wine Style Awards: Napa Valley Bordeaux Blend\", 9, 399.0, 4.6, 378, None), (85559438, 'Antinori Tignanello 2016', \"Vivino's 2020 Wine Style Awards: Tuscan Red\", 10, 420.0, 4.6, 13709, None), (152069724, 'Gitana Lupi Rezerva 2017', 'Bestsellers in Arizona', 15, 36.55, 4.6, 1155, None), (164942599, 'Krug Grande Cuvée', \"Vivino's 2020 Wine Style Awards: French Champagne N.V.\", 6, 245.0, 4.6, 28513, None)]\n"
     ]
    },
    {
     "data": {
      "text/html": [
       "<div>\n",
       "<style scoped>\n",
       "    .dataframe tbody tr th:only-of-type {\n",
       "        vertical-align: middle;\n",
       "    }\n",
       "\n",
       "    .dataframe tbody tr th {\n",
       "        vertical-align: top;\n",
       "    }\n",
       "\n",
       "    .dataframe thead th {\n",
       "        text-align: right;\n",
       "    }\n",
       "</style>\n",
       "<table border=\"1\" class=\"dataframe\">\n",
       "  <thead>\n",
       "    <tr style=\"text-align: right;\">\n",
       "      <th></th>\n",
       "      <th>id</th>\n",
       "      <th>name</th>\n",
       "      <th>toplist_name</th>\n",
       "      <th>rank</th>\n",
       "      <th>price_euros</th>\n",
       "      <th>ratings_average</th>\n",
       "      <th>ratings_count</th>\n",
       "      <th>discount_rate</th>\n",
       "    </tr>\n",
       "  </thead>\n",
       "  <tbody>\n",
       "    <tr>\n",
       "      <th>0</th>\n",
       "      <td>1485238</td>\n",
       "      <td>Krug Rosé</td>\n",
       "      <td>top_lists.EditorialTopList.2017999.name</td>\n",
       "      <td>6</td>\n",
       "      <td>349.00</td>\n",
       "      <td>4.6</td>\n",
       "      <td>3605</td>\n",
       "      <td>None</td>\n",
       "    </tr>\n",
       "    <tr>\n",
       "      <th>1</th>\n",
       "      <td>1776981</td>\n",
       "      <td>Burmester Tordiz 40 Year Old Tawny Port</td>\n",
       "      <td>Vivino's 2020 Wine Style Awards: Portuguese Ta...</td>\n",
       "      <td>1</td>\n",
       "      <td>337.50</td>\n",
       "      <td>4.6</td>\n",
       "      <td>474</td>\n",
       "      <td>None</td>\n",
       "    </tr>\n",
       "    <tr>\n",
       "      <th>2</th>\n",
       "      <td>2674920</td>\n",
       "      <td>Ruinart Dom Ruinart Blanc de Blancs Brut Champ...</td>\n",
       "      <td>Vivino's 2016 Wine Style Awards: French Champagne</td>\n",
       "      <td>10</td>\n",
       "      <td>287.00</td>\n",
       "      <td>4.6</td>\n",
       "      <td>465</td>\n",
       "      <td>None</td>\n",
       "    </tr>\n",
       "    <tr>\n",
       "      <th>3</th>\n",
       "      <td>5128110</td>\n",
       "      <td>Giacomo Conterno Barolo Cascina Francia 2012</td>\n",
       "      <td>Vivino's 2019 Wine Style Awards: Italian Barolo</td>\n",
       "      <td>9</td>\n",
       "      <td>420.00</td>\n",
       "      <td>4.6</td>\n",
       "      <td>559</td>\n",
       "      <td>None</td>\n",
       "    </tr>\n",
       "    <tr>\n",
       "      <th>4</th>\n",
       "      <td>12776766</td>\n",
       "      <td>Cerbaiona Brunello di Montalcino 2012</td>\n",
       "      <td>Vivino's 2019 Wine Style Awards: Italian Brunello</td>\n",
       "      <td>8</td>\n",
       "      <td>276.25</td>\n",
       "      <td>4.6</td>\n",
       "      <td>380</td>\n",
       "      <td>None</td>\n",
       "    </tr>\n",
       "    <tr>\n",
       "      <th>5</th>\n",
       "      <td>20315417</td>\n",
       "      <td>Achaval-Ferrer Finca Altamira Malbec 2015</td>\n",
       "      <td>Vivino's 2020 Wine Style Awards: Argentinian M...</td>\n",
       "      <td>6</td>\n",
       "      <td>99.95</td>\n",
       "      <td>4.6</td>\n",
       "      <td>666</td>\n",
       "      <td>None</td>\n",
       "    </tr>\n",
       "    <tr>\n",
       "      <th>6</th>\n",
       "      <td>25043149</td>\n",
       "      <td>Cardinale Red 2014</td>\n",
       "      <td>Vivino's 2020 Wine Style Awards: Napa Valley B...</td>\n",
       "      <td>9</td>\n",
       "      <td>399.00</td>\n",
       "      <td>4.6</td>\n",
       "      <td>378</td>\n",
       "      <td>None</td>\n",
       "    </tr>\n",
       "    <tr>\n",
       "      <th>7</th>\n",
       "      <td>85559438</td>\n",
       "      <td>Antinori Tignanello 2016</td>\n",
       "      <td>Vivino's 2020 Wine Style Awards: Tuscan Red</td>\n",
       "      <td>10</td>\n",
       "      <td>420.00</td>\n",
       "      <td>4.6</td>\n",
       "      <td>13709</td>\n",
       "      <td>None</td>\n",
       "    </tr>\n",
       "    <tr>\n",
       "      <th>8</th>\n",
       "      <td>152069724</td>\n",
       "      <td>Gitana Lupi Rezerva 2017</td>\n",
       "      <td>Bestsellers in Arizona</td>\n",
       "      <td>15</td>\n",
       "      <td>36.55</td>\n",
       "      <td>4.6</td>\n",
       "      <td>1155</td>\n",
       "      <td>None</td>\n",
       "    </tr>\n",
       "    <tr>\n",
       "      <th>9</th>\n",
       "      <td>164942599</td>\n",
       "      <td>Krug Grande Cuvée</td>\n",
       "      <td>Vivino's 2020 Wine Style Awards: French Champa...</td>\n",
       "      <td>6</td>\n",
       "      <td>245.00</td>\n",
       "      <td>4.6</td>\n",
       "      <td>28513</td>\n",
       "      <td>None</td>\n",
       "    </tr>\n",
       "  </tbody>\n",
       "</table>\n",
       "</div>"
      ],
      "text/plain": [
       "          id                                               name  \\\n",
       "0    1485238                                          Krug Rosé   \n",
       "1    1776981            Burmester Tordiz 40 Year Old Tawny Port   \n",
       "2    2674920  Ruinart Dom Ruinart Blanc de Blancs Brut Champ...   \n",
       "3    5128110       Giacomo Conterno Barolo Cascina Francia 2012   \n",
       "4   12776766              Cerbaiona Brunello di Montalcino 2012   \n",
       "5   20315417          Achaval-Ferrer Finca Altamira Malbec 2015   \n",
       "6   25043149                                 Cardinale Red 2014   \n",
       "7   85559438                           Antinori Tignanello 2016   \n",
       "8  152069724                           Gitana Lupi Rezerva 2017   \n",
       "9  164942599                                  Krug Grande Cuvée   \n",
       "\n",
       "                                        toplist_name  rank  price_euros  \\\n",
       "0            top_lists.EditorialTopList.2017999.name     6       349.00   \n",
       "1  Vivino's 2020 Wine Style Awards: Portuguese Ta...     1       337.50   \n",
       "2  Vivino's 2016 Wine Style Awards: French Champagne    10       287.00   \n",
       "3    Vivino's 2019 Wine Style Awards: Italian Barolo     9       420.00   \n",
       "4  Vivino's 2019 Wine Style Awards: Italian Brunello     8       276.25   \n",
       "5  Vivino's 2020 Wine Style Awards: Argentinian M...     6        99.95   \n",
       "6  Vivino's 2020 Wine Style Awards: Napa Valley B...     9       399.00   \n",
       "7        Vivino's 2020 Wine Style Awards: Tuscan Red    10       420.00   \n",
       "8                             Bestsellers in Arizona    15        36.55   \n",
       "9  Vivino's 2020 Wine Style Awards: French Champa...     6       245.00   \n",
       "\n",
       "   ratings_average  ratings_count discount_rate  \n",
       "0              4.6           3605          None  \n",
       "1              4.6            474          None  \n",
       "2              4.6            465          None  \n",
       "3              4.6            559          None  \n",
       "4              4.6            380          None  \n",
       "5              4.6            666          None  \n",
       "6              4.6            378          None  \n",
       "7              4.6          13709          None  \n",
       "8              4.6           1155          None  \n",
       "9              4.6          28513          None  "
      ]
     },
     "execution_count": 180,
     "metadata": {},
     "output_type": "execute_result"
    }
   ],
   "source": [
    "# 1d - Marketing push - final selection - add  countries\n",
    "query1d = (\"\"\"\n",
    "SELECT  DISTINCT\n",
    "        vintages.id,\n",
    "        vintages.name,\n",
    "        toplists.name AS toplist_name,\n",
    "        vintage_toplists_rankings.rank,\n",
    "        vintages.price_euros,\n",
    "        vintages.ratings_average,\n",
    "        vintages.ratings_count,\n",
    "        vintages.price_discount_percentage AS discount_rate\n",
    "       \n",
    "           \n",
    "FROM    vintages\n",
    "        JOIN vintage_toplists_rankings ON vintages.id = vintage_toplists_rankings.vintage_id\n",
    "        JOIN toplists ON vintage_toplists_rankings.top_list_id = toplists.id\n",
    "               \n",
    "WHERE   \n",
    "        vintages.ratings_count > 200\n",
    "        AND vintages.ratings_average >= 4.6\n",
    "        AND vintages.price_euros < 425\n",
    "        AND vintages.bottle_volume_ml = 750\n",
    "           \n",
    "GROUP BY vintages.id\n",
    "\"\"\")\n",
    "\n",
    "cursor.execute(query1d)\n",
    "result = cursor.fetchall()\n",
    "print(\"Number of rows:\", len(result))\n",
    "print (result)\n",
    "df = pd.read_sql_query(query1d, connexion)\n",
    "df          "
   ]
  },
  {
   "cell_type": "code",
   "execution_count": 12,
   "metadata": {},
   "outputs": [
    {
     "name": "stdout",
     "output_type": "stream",
     "text": [
      "Number of rows: 17\n",
      "[(12273684, 'États-Unis', 4.506250000000001, 1528232, 300.36616071428574, 0.12), (5973301, 'France', 4.484049930651893, 9634864, 1025.3709986130377, 1.61), (4270717, 'Italie', 4.478492239467868, 11898245, 476.0170214338511, 2.79), (2549989, 'Allemagne', 4.475000000000001, 16609, 282.01666666666665, 0.01), (2264396, 'Espagne', 4.467175572519083, 1132535, 282.1422900763359, 0.5), (1601799, 'Suisse', 4.35, 1047, 123.42500000000001, 0.0), (1123535, 'Portugal', 4.429032258064517, 71717, 161.94903225806445, 0.06), (1022965, 'Australie', 4.5, 142532, 495.00937500000003, 0.14), (629532, 'Argentine', 4.42857142857143, 341337, 111.37749999999998, 0.54), (326757, 'Chili', 4.468, 363988, 129.70519999999996, 1.11), (269649, 'Afrique du Sud', 4.465625000000001, 80449, 87.73968749999997, 0.3), (228185, 'Roumanie', 4.4, 166, 36.08, 0.0), (150549, 'Israël', 4.5, 894, 37.05, 0.01), (102235, 'Hongrie', 4.4642857142857135, 48542, 106.825, 0.47), (95693, 'Grèce', 4.4, 610, 124.0, 0.01), (64223, 'Croatie', 4.3, 292, 35.4, 0.0), (13583, 'Moldavie', 4.471428571428571, 26463, 42.63714285714286, 1.95)]\n"
     ]
    },
    {
     "data": {
      "text/html": [
       "<div>\n",
       "<style scoped>\n",
       "    .dataframe tbody tr th:only-of-type {\n",
       "        vertical-align: middle;\n",
       "    }\n",
       "\n",
       "    .dataframe tbody tr th {\n",
       "        vertical-align: top;\n",
       "    }\n",
       "\n",
       "    .dataframe thead th {\n",
       "        text-align: right;\n",
       "    }\n",
       "</style>\n",
       "<table border=\"1\" class=\"dataframe\">\n",
       "  <thead>\n",
       "    <tr style=\"text-align: right;\">\n",
       "      <th></th>\n",
       "      <th>users_count</th>\n",
       "      <th>name</th>\n",
       "      <th>AVG(wines.ratings_average)</th>\n",
       "      <th>sum(wines.ratings_count)</th>\n",
       "      <th>AVG(vintages.price_euros)</th>\n",
       "      <th>ratings_per_user</th>\n",
       "    </tr>\n",
       "  </thead>\n",
       "  <tbody>\n",
       "    <tr>\n",
       "      <th>0</th>\n",
       "      <td>12273684</td>\n",
       "      <td>États-Unis</td>\n",
       "      <td>4.506250</td>\n",
       "      <td>1528232</td>\n",
       "      <td>300.366161</td>\n",
       "      <td>0.12</td>\n",
       "    </tr>\n",
       "    <tr>\n",
       "      <th>1</th>\n",
       "      <td>5973301</td>\n",
       "      <td>France</td>\n",
       "      <td>4.484050</td>\n",
       "      <td>9634864</td>\n",
       "      <td>1025.370999</td>\n",
       "      <td>1.61</td>\n",
       "    </tr>\n",
       "    <tr>\n",
       "      <th>2</th>\n",
       "      <td>4270717</td>\n",
       "      <td>Italie</td>\n",
       "      <td>4.478492</td>\n",
       "      <td>11898245</td>\n",
       "      <td>476.017021</td>\n",
       "      <td>2.79</td>\n",
       "    </tr>\n",
       "    <tr>\n",
       "      <th>3</th>\n",
       "      <td>2549989</td>\n",
       "      <td>Allemagne</td>\n",
       "      <td>4.475000</td>\n",
       "      <td>16609</td>\n",
       "      <td>282.016667</td>\n",
       "      <td>0.01</td>\n",
       "    </tr>\n",
       "    <tr>\n",
       "      <th>4</th>\n",
       "      <td>2264396</td>\n",
       "      <td>Espagne</td>\n",
       "      <td>4.467176</td>\n",
       "      <td>1132535</td>\n",
       "      <td>282.142290</td>\n",
       "      <td>0.50</td>\n",
       "    </tr>\n",
       "    <tr>\n",
       "      <th>5</th>\n",
       "      <td>1601799</td>\n",
       "      <td>Suisse</td>\n",
       "      <td>4.350000</td>\n",
       "      <td>1047</td>\n",
       "      <td>123.425000</td>\n",
       "      <td>0.00</td>\n",
       "    </tr>\n",
       "    <tr>\n",
       "      <th>6</th>\n",
       "      <td>1123535</td>\n",
       "      <td>Portugal</td>\n",
       "      <td>4.429032</td>\n",
       "      <td>71717</td>\n",
       "      <td>161.949032</td>\n",
       "      <td>0.06</td>\n",
       "    </tr>\n",
       "    <tr>\n",
       "      <th>7</th>\n",
       "      <td>1022965</td>\n",
       "      <td>Australie</td>\n",
       "      <td>4.500000</td>\n",
       "      <td>142532</td>\n",
       "      <td>495.009375</td>\n",
       "      <td>0.14</td>\n",
       "    </tr>\n",
       "    <tr>\n",
       "      <th>8</th>\n",
       "      <td>629532</td>\n",
       "      <td>Argentine</td>\n",
       "      <td>4.428571</td>\n",
       "      <td>341337</td>\n",
       "      <td>111.377500</td>\n",
       "      <td>0.54</td>\n",
       "    </tr>\n",
       "    <tr>\n",
       "      <th>9</th>\n",
       "      <td>326757</td>\n",
       "      <td>Chili</td>\n",
       "      <td>4.468000</td>\n",
       "      <td>363988</td>\n",
       "      <td>129.705200</td>\n",
       "      <td>1.11</td>\n",
       "    </tr>\n",
       "    <tr>\n",
       "      <th>10</th>\n",
       "      <td>269649</td>\n",
       "      <td>Afrique du Sud</td>\n",
       "      <td>4.465625</td>\n",
       "      <td>80449</td>\n",
       "      <td>87.739687</td>\n",
       "      <td>0.30</td>\n",
       "    </tr>\n",
       "    <tr>\n",
       "      <th>11</th>\n",
       "      <td>228185</td>\n",
       "      <td>Roumanie</td>\n",
       "      <td>4.400000</td>\n",
       "      <td>166</td>\n",
       "      <td>36.080000</td>\n",
       "      <td>0.00</td>\n",
       "    </tr>\n",
       "    <tr>\n",
       "      <th>12</th>\n",
       "      <td>150549</td>\n",
       "      <td>Israël</td>\n",
       "      <td>4.500000</td>\n",
       "      <td>894</td>\n",
       "      <td>37.050000</td>\n",
       "      <td>0.01</td>\n",
       "    </tr>\n",
       "    <tr>\n",
       "      <th>13</th>\n",
       "      <td>102235</td>\n",
       "      <td>Hongrie</td>\n",
       "      <td>4.464286</td>\n",
       "      <td>48542</td>\n",
       "      <td>106.825000</td>\n",
       "      <td>0.47</td>\n",
       "    </tr>\n",
       "    <tr>\n",
       "      <th>14</th>\n",
       "      <td>95693</td>\n",
       "      <td>Grèce</td>\n",
       "      <td>4.400000</td>\n",
       "      <td>610</td>\n",
       "      <td>124.000000</td>\n",
       "      <td>0.01</td>\n",
       "    </tr>\n",
       "    <tr>\n",
       "      <th>15</th>\n",
       "      <td>64223</td>\n",
       "      <td>Croatie</td>\n",
       "      <td>4.300000</td>\n",
       "      <td>292</td>\n",
       "      <td>35.400000</td>\n",
       "      <td>0.00</td>\n",
       "    </tr>\n",
       "    <tr>\n",
       "      <th>16</th>\n",
       "      <td>13583</td>\n",
       "      <td>Moldavie</td>\n",
       "      <td>4.471429</td>\n",
       "      <td>26463</td>\n",
       "      <td>42.637143</td>\n",
       "      <td>1.95</td>\n",
       "    </tr>\n",
       "  </tbody>\n",
       "</table>\n",
       "</div>"
      ],
      "text/plain": [
       "    users_count            name  AVG(wines.ratings_average)  \\\n",
       "0      12273684      États-Unis                    4.506250   \n",
       "1       5973301          France                    4.484050   \n",
       "2       4270717          Italie                    4.478492   \n",
       "3       2549989       Allemagne                    4.475000   \n",
       "4       2264396         Espagne                    4.467176   \n",
       "5       1601799          Suisse                    4.350000   \n",
       "6       1123535        Portugal                    4.429032   \n",
       "7       1022965       Australie                    4.500000   \n",
       "8        629532       Argentine                    4.428571   \n",
       "9        326757           Chili                    4.468000   \n",
       "10       269649  Afrique du Sud                    4.465625   \n",
       "11       228185        Roumanie                    4.400000   \n",
       "12       150549          Israël                    4.500000   \n",
       "13       102235         Hongrie                    4.464286   \n",
       "14        95693           Grèce                    4.400000   \n",
       "15        64223         Croatie                    4.300000   \n",
       "16        13583        Moldavie                    4.471429   \n",
       "\n",
       "    sum(wines.ratings_count)  AVG(vintages.price_euros)  ratings_per_user  \n",
       "0                    1528232                 300.366161              0.12  \n",
       "1                    9634864                1025.370999              1.61  \n",
       "2                   11898245                 476.017021              2.79  \n",
       "3                      16609                 282.016667              0.01  \n",
       "4                    1132535                 282.142290              0.50  \n",
       "5                       1047                 123.425000              0.00  \n",
       "6                      71717                 161.949032              0.06  \n",
       "7                     142532                 495.009375              0.14  \n",
       "8                     341337                 111.377500              0.54  \n",
       "9                     363988                 129.705200              1.11  \n",
       "10                     80449                  87.739687              0.30  \n",
       "11                       166                  36.080000              0.00  \n",
       "12                       894                  37.050000              0.01  \n",
       "13                     48542                 106.825000              0.47  \n",
       "14                       610                 124.000000              0.01  \n",
       "15                       292                  35.400000              0.00  \n",
       "16                     26463                  42.637143              1.95  "
      ]
     },
     "execution_count": 12,
     "metadata": {},
     "output_type": "execute_result"
    }
   ],
   "source": [
    "# 2 - countries Marketing priorities: \n",
    "\n",
    "query2a= (\"\"\"\n",
    "SELECT  countries.users_count,\n",
    "        countries.name, \n",
    "        AVG(wines.ratings_average), \n",
    "        sum(wines.ratings_count),\n",
    "        AVG(vintages.price_euros),\n",
    "        ROUND((SUM(wines.ratings_count)*1.0/countries.users_count), 2) AS ratings_per_user \n",
    "        \n",
    "FROM    wines\n",
    "        JOIN regions ON wines.region_id = regions.id\n",
    "        JOIN countries ON regions.country_code = countries.code\n",
    "        JOIN vintages ON wines.id = vintages.wine_id\n",
    "GROUP BY countries.name  \n",
    "ORDER BY countries.users_count DESC, AVG(wines.ratings_average) DESC, AVG(wines.ratings_count) DESC\n",
    "LIMIT 100\n",
    "\"\"\") \n",
    "\n",
    "# for row in cursor.execute(query3):\n",
    "#     print(row)\n",
    "cursor.execute(query2a)\n",
    "result = cursor.fetchall()\n",
    "print(\"Number of rows:\", len(result))\n",
    "print (result)\n",
    "df = pd.read_sql_query(query2a, connexion)\n",
    "df\n",
    "\n"
   ]
  },
  {
   "cell_type": "code",
   "execution_count": 13,
   "metadata": {},
   "outputs": [
    {
     "name": "stdout",
     "output_type": "stream",
     "text": [
      "Number of rows: 4\n"
     ]
    },
    {
     "data": {
      "text/html": [
       "<div>\n",
       "<style scoped>\n",
       "    .dataframe tbody tr th:only-of-type {\n",
       "        vertical-align: middle;\n",
       "    }\n",
       "\n",
       "    .dataframe tbody tr th {\n",
       "        vertical-align: top;\n",
       "    }\n",
       "\n",
       "    .dataframe thead th {\n",
       "        text-align: right;\n",
       "    }\n",
       "</style>\n",
       "<table border=\"1\" class=\"dataframe\">\n",
       "  <thead>\n",
       "    <tr style=\"text-align: right;\">\n",
       "      <th></th>\n",
       "      <th>winery_id</th>\n",
       "      <th>name</th>\n",
       "      <th>AVG(wines.ratings_average)</th>\n",
       "      <th>AVG(wines.ratings_count)</th>\n",
       "    </tr>\n",
       "  </thead>\n",
       "  <tbody>\n",
       "    <tr>\n",
       "      <th>0</th>\n",
       "      <td>1651</td>\n",
       "      <td>Tenuta Tignanello 'Solaia'</td>\n",
       "      <td>4.5</td>\n",
       "      <td>2472.0</td>\n",
       "    </tr>\n",
       "    <tr>\n",
       "      <th>1</th>\n",
       "      <td>75712</td>\n",
       "      <td>Corte di Cama Sforzato di Valtellina</td>\n",
       "      <td>4.5</td>\n",
       "      <td>58.0</td>\n",
       "    </tr>\n",
       "    <tr>\n",
       "      <th>2</th>\n",
       "      <td>1652</td>\n",
       "      <td>Tignanello</td>\n",
       "      <td>4.4</td>\n",
       "      <td>741.0</td>\n",
       "    </tr>\n",
       "    <tr>\n",
       "      <th>3</th>\n",
       "      <td>1471</td>\n",
       "      <td>Siepi</td>\n",
       "      <td>4.3</td>\n",
       "      <td>4981.0</td>\n",
       "    </tr>\n",
       "  </tbody>\n",
       "</table>\n",
       "</div>"
      ],
      "text/plain": [
       "   winery_id                                  name  \\\n",
       "0       1651            Tenuta Tignanello 'Solaia'   \n",
       "1      75712  Corte di Cama Sforzato di Valtellina   \n",
       "2       1652                            Tignanello   \n",
       "3       1471                                 Siepi   \n",
       "\n",
       "   AVG(wines.ratings_average)  AVG(wines.ratings_count)  \n",
       "0                         4.5                    2472.0  \n",
       "1                         4.5                      58.0  \n",
       "2                         4.4                     741.0  \n",
       "3                         4.3                    4981.0  "
      ]
     },
     "execution_count": 13,
     "metadata": {},
     "output_type": "execute_result"
    }
   ],
   "source": [
    "# 3 - best winery >> The winery Key and name are wrong in the database, join is useless\n",
    "query3a = (\"\"\"\n",
    "SELECT  wines.winery_id, \n",
    "        wineries.name ,\n",
    "        AVG(wines.ratings_average), \n",
    "        AVG(wines.ratings_count)        \n",
    "        \n",
    "FROM    wines\n",
    "        JOIN wineries ON wines.winery_id = wineries.id\n",
    "GROUP BY wines.winery_id  \n",
    "ORDER BY AVG(wines.ratings_average) DESC, AVG(wines.ratings_count) DESC\n",
    "LIMIT 100\n",
    "\"\"\") \n",
    "\n",
    "# for row in cursor.execute(query3):\n",
    "#     print(row)\n",
    "cursor.execute(query3a)\n",
    "result = cursor.fetchall()\n",
    "print(\"Number of rows:\", len(result))\n",
    "#print (result)\n",
    "df = pd.read_sql_query(query3a, connexion)\n",
    "df\n"
   ]
  },
  {
   "cell_type": "code",
   "execution_count": 14,
   "metadata": {},
   "outputs": [
    {
     "name": "stdout",
     "output_type": "stream",
     "text": [
      "Number of rows: 14\n",
      "[('Sassicaia', 5078, 'Tenuta San Guido Sassicaia 2005', 'Tenuta San Guido ', 1413, 4.599999999999998, 107646.0), ('Brut Champagne', 86684, 'Dom Pérignon Brut Champagne 2000', 'Dom Pérignon ', 212823, 4.625000000000001, 95089.75), ('60 Sessantanni Old Vines Primitivo di Manduria', 11890, 'San Marzano 60 Sessantanni Old Vines Primitivo di Manduria 2017', 'San Marzano ', 55648, 4.5, 94289.0), ('Special Selection Cabernet Sauvignon', 66294, 'Caymus Special Selection Cabernet Sauvignon 1997', 'Caymus ', 1301, 4.666666666666667, 80138.66666666667), ('Tignanello', 1652, 'Antinori Tignanello 2005', 'Antinori ', 1252, 4.505, 71223.8), ('Ribera del Duero', 77171, 'Alión Ribera del Duero 2019', 'Alión ', 11049, 4.5, 69278.0), ('Opus One', 1911534, 'Opus One Opus One 2012', ' Opus One', 1368, 4.585714285714286, 68446.0), ('Pauillac (Premier Grand Cru Classé)', 1684223, 'Château Mouton Rothschild Pauillac (Premier Grand Cru Classé) 2009', 'Château Mouton Rothschild ', 64252, 4.550000000000001, 62429.5), ('Unico', 77137, 'Vega Sicilia Unico 2012', 'Vega Sicilia ', 11050, 4.666666666666667, 49002.166666666664), ('Almaviva', 4086, 'Almaviva Almaviva 2014', ' Almaviva', 17605, 4.6, 48075.0), ('Bolgheri Superiore', 22447, 'Ornellaia Bolgheri Superiore 2006', 'Ornellaia ', 7941, 4.585714285714284, 46344.92857142857), ('Sauternes', 1153863, \"Château d'Yquem Sauternes 2005\", \"Château d'Yquem \", 8028, 4.7, 44126.0), ('Château Margaux (Premier Grand Cru Classé)', 1127795, 'Château Margaux Château Margaux (Premier Grand Cru Classé) 2009', 'Château Margaux ', 1319, 4.586666666666668, 43420.066666666666), ('Grand Vin Pauillac (Premier Grand Cru Classé)', 1655970, 'Château Latour Grand Vin Pauillac (Premier Grand Cru Classé) 2000', 'Château Latour ', 2107, 4.6000000000000005, 38521.0)]\n"
     ]
    },
    {
     "data": {
      "text/html": [
       "<div>\n",
       "<style scoped>\n",
       "    .dataframe tbody tr th:only-of-type {\n",
       "        vertical-align: middle;\n",
       "    }\n",
       "\n",
       "    .dataframe tbody tr th {\n",
       "        vertical-align: top;\n",
       "    }\n",
       "\n",
       "    .dataframe thead th {\n",
       "        text-align: right;\n",
       "    }\n",
       "</style>\n",
       "<table border=\"1\" class=\"dataframe\">\n",
       "  <thead>\n",
       "    <tr style=\"text-align: right;\">\n",
       "      <th></th>\n",
       "      <th>name</th>\n",
       "      <th>id</th>\n",
       "      <th>name</th>\n",
       "      <th>winery_name</th>\n",
       "      <th>winery_id</th>\n",
       "      <th>ratings_avg</th>\n",
       "      <th>ratings_cnt</th>\n",
       "    </tr>\n",
       "  </thead>\n",
       "  <tbody>\n",
       "    <tr>\n",
       "      <th>0</th>\n",
       "      <td>Sassicaia</td>\n",
       "      <td>5078</td>\n",
       "      <td>Tenuta San Guido Sassicaia 2005</td>\n",
       "      <td>Tenuta San Guido</td>\n",
       "      <td>1413</td>\n",
       "      <td>4.600000</td>\n",
       "      <td>107646.000000</td>\n",
       "    </tr>\n",
       "    <tr>\n",
       "      <th>1</th>\n",
       "      <td>Brut Champagne</td>\n",
       "      <td>86684</td>\n",
       "      <td>Dom Pérignon Brut Champagne 2000</td>\n",
       "      <td>Dom Pérignon</td>\n",
       "      <td>212823</td>\n",
       "      <td>4.625000</td>\n",
       "      <td>95089.750000</td>\n",
       "    </tr>\n",
       "    <tr>\n",
       "      <th>2</th>\n",
       "      <td>60 Sessantanni Old Vines Primitivo di Manduria</td>\n",
       "      <td>11890</td>\n",
       "      <td>San Marzano 60 Sessantanni Old Vines Primitivo...</td>\n",
       "      <td>San Marzano</td>\n",
       "      <td>55648</td>\n",
       "      <td>4.500000</td>\n",
       "      <td>94289.000000</td>\n",
       "    </tr>\n",
       "    <tr>\n",
       "      <th>3</th>\n",
       "      <td>Special Selection Cabernet Sauvignon</td>\n",
       "      <td>66294</td>\n",
       "      <td>Caymus Special Selection Cabernet Sauvignon 1997</td>\n",
       "      <td>Caymus</td>\n",
       "      <td>1301</td>\n",
       "      <td>4.666667</td>\n",
       "      <td>80138.666667</td>\n",
       "    </tr>\n",
       "    <tr>\n",
       "      <th>4</th>\n",
       "      <td>Tignanello</td>\n",
       "      <td>1652</td>\n",
       "      <td>Antinori Tignanello 2005</td>\n",
       "      <td>Antinori</td>\n",
       "      <td>1252</td>\n",
       "      <td>4.505000</td>\n",
       "      <td>71223.800000</td>\n",
       "    </tr>\n",
       "    <tr>\n",
       "      <th>5</th>\n",
       "      <td>Ribera del Duero</td>\n",
       "      <td>77171</td>\n",
       "      <td>Alión Ribera del Duero 2019</td>\n",
       "      <td>Alión</td>\n",
       "      <td>11049</td>\n",
       "      <td>4.500000</td>\n",
       "      <td>69278.000000</td>\n",
       "    </tr>\n",
       "    <tr>\n",
       "      <th>6</th>\n",
       "      <td>Opus One</td>\n",
       "      <td>1911534</td>\n",
       "      <td>Opus One Opus One 2012</td>\n",
       "      <td>Opus One</td>\n",
       "      <td>1368</td>\n",
       "      <td>4.585714</td>\n",
       "      <td>68446.000000</td>\n",
       "    </tr>\n",
       "    <tr>\n",
       "      <th>7</th>\n",
       "      <td>Pauillac (Premier Grand Cru Classé)</td>\n",
       "      <td>1684223</td>\n",
       "      <td>Château Mouton Rothschild Pauillac (Premier Gr...</td>\n",
       "      <td>Château Mouton Rothschild</td>\n",
       "      <td>64252</td>\n",
       "      <td>4.550000</td>\n",
       "      <td>62429.500000</td>\n",
       "    </tr>\n",
       "    <tr>\n",
       "      <th>8</th>\n",
       "      <td>Unico</td>\n",
       "      <td>77137</td>\n",
       "      <td>Vega Sicilia Unico 2012</td>\n",
       "      <td>Vega Sicilia</td>\n",
       "      <td>11050</td>\n",
       "      <td>4.666667</td>\n",
       "      <td>49002.166667</td>\n",
       "    </tr>\n",
       "    <tr>\n",
       "      <th>9</th>\n",
       "      <td>Almaviva</td>\n",
       "      <td>4086</td>\n",
       "      <td>Almaviva Almaviva 2014</td>\n",
       "      <td>Almaviva</td>\n",
       "      <td>17605</td>\n",
       "      <td>4.600000</td>\n",
       "      <td>48075.000000</td>\n",
       "    </tr>\n",
       "    <tr>\n",
       "      <th>10</th>\n",
       "      <td>Bolgheri Superiore</td>\n",
       "      <td>22447</td>\n",
       "      <td>Ornellaia Bolgheri Superiore 2006</td>\n",
       "      <td>Ornellaia</td>\n",
       "      <td>7941</td>\n",
       "      <td>4.585714</td>\n",
       "      <td>46344.928571</td>\n",
       "    </tr>\n",
       "    <tr>\n",
       "      <th>11</th>\n",
       "      <td>Sauternes</td>\n",
       "      <td>1153863</td>\n",
       "      <td>Château d'Yquem Sauternes 2005</td>\n",
       "      <td>Château d'Yquem</td>\n",
       "      <td>8028</td>\n",
       "      <td>4.700000</td>\n",
       "      <td>44126.000000</td>\n",
       "    </tr>\n",
       "    <tr>\n",
       "      <th>12</th>\n",
       "      <td>Château Margaux (Premier Grand Cru Classé)</td>\n",
       "      <td>1127795</td>\n",
       "      <td>Château Margaux Château Margaux (Premier Grand...</td>\n",
       "      <td>Château Margaux</td>\n",
       "      <td>1319</td>\n",
       "      <td>4.586667</td>\n",
       "      <td>43420.066667</td>\n",
       "    </tr>\n",
       "    <tr>\n",
       "      <th>13</th>\n",
       "      <td>Grand Vin Pauillac (Premier Grand Cru Classé)</td>\n",
       "      <td>1655970</td>\n",
       "      <td>Château Latour Grand Vin Pauillac (Premier Gra...</td>\n",
       "      <td>Château Latour</td>\n",
       "      <td>2107</td>\n",
       "      <td>4.600000</td>\n",
       "      <td>38521.000000</td>\n",
       "    </tr>\n",
       "  </tbody>\n",
       "</table>\n",
       "</div>"
      ],
      "text/plain": [
       "                                              name       id  \\\n",
       "0                                        Sassicaia     5078   \n",
       "1                                   Brut Champagne    86684   \n",
       "2   60 Sessantanni Old Vines Primitivo di Manduria    11890   \n",
       "3             Special Selection Cabernet Sauvignon    66294   \n",
       "4                                       Tignanello     1652   \n",
       "5                                 Ribera del Duero    77171   \n",
       "6                                         Opus One  1911534   \n",
       "7              Pauillac (Premier Grand Cru Classé)  1684223   \n",
       "8                                            Unico    77137   \n",
       "9                                         Almaviva     4086   \n",
       "10                              Bolgheri Superiore    22447   \n",
       "11                                       Sauternes  1153863   \n",
       "12      Château Margaux (Premier Grand Cru Classé)  1127795   \n",
       "13   Grand Vin Pauillac (Premier Grand Cru Classé)  1655970   \n",
       "\n",
       "                                                 name  \\\n",
       "0                     Tenuta San Guido Sassicaia 2005   \n",
       "1                    Dom Pérignon Brut Champagne 2000   \n",
       "2   San Marzano 60 Sessantanni Old Vines Primitivo...   \n",
       "3    Caymus Special Selection Cabernet Sauvignon 1997   \n",
       "4                            Antinori Tignanello 2005   \n",
       "5                         Alión Ribera del Duero 2019   \n",
       "6                              Opus One Opus One 2012   \n",
       "7   Château Mouton Rothschild Pauillac (Premier Gr...   \n",
       "8                             Vega Sicilia Unico 2012   \n",
       "9                              Almaviva Almaviva 2014   \n",
       "10                  Ornellaia Bolgheri Superiore 2006   \n",
       "11                     Château d'Yquem Sauternes 2005   \n",
       "12  Château Margaux Château Margaux (Premier Grand...   \n",
       "13  Château Latour Grand Vin Pauillac (Premier Gra...   \n",
       "\n",
       "                   winery_name  winery_id  ratings_avg    ratings_cnt  \n",
       "0            Tenuta San Guido        1413     4.600000  107646.000000  \n",
       "1                Dom Pérignon      212823     4.625000   95089.750000  \n",
       "2                 San Marzano       55648     4.500000   94289.000000  \n",
       "3                      Caymus        1301     4.666667   80138.666667  \n",
       "4                    Antinori        1252     4.505000   71223.800000  \n",
       "5                       Alión       11049     4.500000   69278.000000  \n",
       "6                     Opus One       1368     4.585714   68446.000000  \n",
       "7   Château Mouton Rothschild       64252     4.550000   62429.500000  \n",
       "8                Vega Sicilia       11050     4.666667   49002.166667  \n",
       "9                     Almaviva      17605     4.600000   48075.000000  \n",
       "10                  Ornellaia        7941     4.585714   46344.928571  \n",
       "11            Château d'Yquem        8028     4.700000   44126.000000  \n",
       "12            Château Margaux        1319     4.586667   43420.066667  \n",
       "13             Château Latour        2107     4.600000   38521.000000  "
      ]
     },
     "execution_count": 14,
     "metadata": {},
     "output_type": "execute_result"
    }
   ],
   "source": [
    "# 3 - best winery \n",
    "query3b = (\"\"\"\n",
    "SELECT  wines.name,\n",
    "        wines.id,\n",
    "        vintages.name,\n",
    "        CASE \n",
    "                WHEN INSTR(SUBSTR(vintages.name,1, LENGTH(vintages.name) - 5), wines.name) > 0 THEN\n",
    "                        SUBSTR(SUBSTR(vintages.name,1, LENGTH(vintages.name) - 5), 1, INSTR(SUBSTR(vintages.name,1, LENGTH(vintages.name) - 5), wines.name) - 1) || \n",
    "                        SUBSTR(SUBSTR(vintages.name,1, LENGTH(vintages.name) - 5), INSTR(SUBSTR(vintages.name,1, LENGTH(vintages.name) - 5), wines.name) + LENGTH(wines.name))\n",
    "                ELSE SUBSTR(vintages.name,1, LENGTH(vintages.name) - 5)\n",
    "        END AS winery_name,\n",
    "        wines.winery_id,\n",
    "        AVG(wines.ratings_average) AS ratings_avg,\n",
    "        AVG(wines.ratings_count) AS ratings_cnt\n",
    "        \n",
    "FROM    wines\n",
    "        JOIN vintages ON vintages.wine_id = wines.id\n",
    "       \n",
    "GROUP BY wines.winery_id  \n",
    "HAVING ratings_avg >= 4.5 and ratings_cnt> 35000  \n",
    "ORDER BY AVG(wines.ratings_count)  DESC, AVG(wines.ratings_average) DESC\n",
    "LIMIT 20\n",
    "\"\"\") \n",
    "\n",
    "cursor.execute(query3b)\n",
    "result = cursor.fetchall()\n",
    "print(\"Number of rows:\", len(result))\n",
    "print (result)\n",
    "df = pd.read_sql_query(query3b, connexion)\n",
    "df\n",
    "\n"
   ]
  },
  {
   "cell_type": "code",
   "execution_count": 126,
   "metadata": {},
   "outputs": [
    {
     "name": "stdout",
     "output_type": "stream",
     "text": [
      "Number of rows: 19\n",
      "[(7122486, 'primary', 'Grande Cuvée', 713, 5), (3630450, 'primary', 'Cuvée des Enchanteleurs Brut Champagne', 31, 5), (3102815, 'primary', 'P2 Plénitude Brut Champagne', 161, 5), (1692390, 'primary', 'Sir Winston Churchill Brut Champagne', 282, 5), (1441099, 'primary', 'Blanc des Millénaires', 160, 5), (1192720, 'primary', 'Dom Ruinart Blanc de Blancs Brut Champagne', 226, 5), (1167182, 'primary', 'MV', 10, 5), (1164702, 'primary', 'R.D Extra Brut Champagne (Récemment Dégorgé)', 163, 5), (1153863, 'primary', 'Sauternes', 13, 5), (1136950, 'primary', 'Comtes de Champagne Blanc de Blancs', 587, 5), (1135215, 'primary', 'Sauternes (Premier Grand Cru Classé)', 10, 5), (1127349, 'primary', 'Le Mesnil Blanc de Blancs (Cuvée S) Brut Champagne', 240, 5), (1105696, 'primary', \"Trebbiano d'Abruzzo\", 21, 5), (86684, 'primary', 'Brut Champagne', 2165, 5), (79836, 'primary', 'La Grande Dame Brut Champagne', 244, 5), (79631, 'primary', 'Vintage', 356, 5), (79162, 'primary', 'Belle Epoque Brut Champagne', 224, 5), (74304, 'primary', 'Cristal Brut Champagne (Millésimé)', 464, 5), (18931, 'primary', 'La Grande Année Brut Champagne', 525, 5)]\n"
     ]
    },
    {
     "data": {
      "text/html": [
       "<div>\n",
       "<style scoped>\n",
       "    .dataframe tbody tr th:only-of-type {\n",
       "        vertical-align: middle;\n",
       "    }\n",
       "\n",
       "    .dataframe tbody tr th {\n",
       "        vertical-align: top;\n",
       "    }\n",
       "\n",
       "    .dataframe thead th {\n",
       "        text-align: right;\n",
       "    }\n",
       "</style>\n",
       "<table border=\"1\" class=\"dataframe\">\n",
       "  <thead>\n",
       "    <tr style=\"text-align: right;\">\n",
       "      <th></th>\n",
       "      <th>id</th>\n",
       "      <th>keyword_type</th>\n",
       "      <th>name</th>\n",
       "      <th>count</th>\n",
       "      <th>flavor_count</th>\n",
       "    </tr>\n",
       "  </thead>\n",
       "  <tbody>\n",
       "    <tr>\n",
       "      <th>0</th>\n",
       "      <td>7122486</td>\n",
       "      <td>primary</td>\n",
       "      <td>Grande Cuvée</td>\n",
       "      <td>713</td>\n",
       "      <td>5</td>\n",
       "    </tr>\n",
       "    <tr>\n",
       "      <th>1</th>\n",
       "      <td>3630450</td>\n",
       "      <td>primary</td>\n",
       "      <td>Cuvée des Enchanteleurs Brut Champagne</td>\n",
       "      <td>31</td>\n",
       "      <td>5</td>\n",
       "    </tr>\n",
       "    <tr>\n",
       "      <th>2</th>\n",
       "      <td>3102815</td>\n",
       "      <td>primary</td>\n",
       "      <td>P2 Plénitude Brut Champagne</td>\n",
       "      <td>161</td>\n",
       "      <td>5</td>\n",
       "    </tr>\n",
       "    <tr>\n",
       "      <th>3</th>\n",
       "      <td>1692390</td>\n",
       "      <td>primary</td>\n",
       "      <td>Sir Winston Churchill Brut Champagne</td>\n",
       "      <td>282</td>\n",
       "      <td>5</td>\n",
       "    </tr>\n",
       "    <tr>\n",
       "      <th>4</th>\n",
       "      <td>1441099</td>\n",
       "      <td>primary</td>\n",
       "      <td>Blanc des Millénaires</td>\n",
       "      <td>160</td>\n",
       "      <td>5</td>\n",
       "    </tr>\n",
       "    <tr>\n",
       "      <th>5</th>\n",
       "      <td>1192720</td>\n",
       "      <td>primary</td>\n",
       "      <td>Dom Ruinart Blanc de Blancs Brut Champagne</td>\n",
       "      <td>226</td>\n",
       "      <td>5</td>\n",
       "    </tr>\n",
       "    <tr>\n",
       "      <th>6</th>\n",
       "      <td>1167182</td>\n",
       "      <td>primary</td>\n",
       "      <td>MV</td>\n",
       "      <td>10</td>\n",
       "      <td>5</td>\n",
       "    </tr>\n",
       "    <tr>\n",
       "      <th>7</th>\n",
       "      <td>1164702</td>\n",
       "      <td>primary</td>\n",
       "      <td>R.D Extra Brut Champagne (Récemment Dégorgé)</td>\n",
       "      <td>163</td>\n",
       "      <td>5</td>\n",
       "    </tr>\n",
       "    <tr>\n",
       "      <th>8</th>\n",
       "      <td>1153863</td>\n",
       "      <td>primary</td>\n",
       "      <td>Sauternes</td>\n",
       "      <td>13</td>\n",
       "      <td>5</td>\n",
       "    </tr>\n",
       "    <tr>\n",
       "      <th>9</th>\n",
       "      <td>1136950</td>\n",
       "      <td>primary</td>\n",
       "      <td>Comtes de Champagne Blanc de Blancs</td>\n",
       "      <td>587</td>\n",
       "      <td>5</td>\n",
       "    </tr>\n",
       "    <tr>\n",
       "      <th>10</th>\n",
       "      <td>1135215</td>\n",
       "      <td>primary</td>\n",
       "      <td>Sauternes (Premier Grand Cru Classé)</td>\n",
       "      <td>10</td>\n",
       "      <td>5</td>\n",
       "    </tr>\n",
       "    <tr>\n",
       "      <th>11</th>\n",
       "      <td>1127349</td>\n",
       "      <td>primary</td>\n",
       "      <td>Le Mesnil Blanc de Blancs (Cuvée S) Brut Champ...</td>\n",
       "      <td>240</td>\n",
       "      <td>5</td>\n",
       "    </tr>\n",
       "    <tr>\n",
       "      <th>12</th>\n",
       "      <td>1105696</td>\n",
       "      <td>primary</td>\n",
       "      <td>Trebbiano d'Abruzzo</td>\n",
       "      <td>21</td>\n",
       "      <td>5</td>\n",
       "    </tr>\n",
       "    <tr>\n",
       "      <th>13</th>\n",
       "      <td>86684</td>\n",
       "      <td>primary</td>\n",
       "      <td>Brut Champagne</td>\n",
       "      <td>2165</td>\n",
       "      <td>5</td>\n",
       "    </tr>\n",
       "    <tr>\n",
       "      <th>14</th>\n",
       "      <td>79836</td>\n",
       "      <td>primary</td>\n",
       "      <td>La Grande Dame Brut Champagne</td>\n",
       "      <td>244</td>\n",
       "      <td>5</td>\n",
       "    </tr>\n",
       "    <tr>\n",
       "      <th>15</th>\n",
       "      <td>79631</td>\n",
       "      <td>primary</td>\n",
       "      <td>Vintage</td>\n",
       "      <td>356</td>\n",
       "      <td>5</td>\n",
       "    </tr>\n",
       "    <tr>\n",
       "      <th>16</th>\n",
       "      <td>79162</td>\n",
       "      <td>primary</td>\n",
       "      <td>Belle Epoque Brut Champagne</td>\n",
       "      <td>224</td>\n",
       "      <td>5</td>\n",
       "    </tr>\n",
       "    <tr>\n",
       "      <th>17</th>\n",
       "      <td>74304</td>\n",
       "      <td>primary</td>\n",
       "      <td>Cristal Brut Champagne (Millésimé)</td>\n",
       "      <td>464</td>\n",
       "      <td>5</td>\n",
       "    </tr>\n",
       "    <tr>\n",
       "      <th>18</th>\n",
       "      <td>18931</td>\n",
       "      <td>primary</td>\n",
       "      <td>La Grande Année Brut Champagne</td>\n",
       "      <td>525</td>\n",
       "      <td>5</td>\n",
       "    </tr>\n",
       "  </tbody>\n",
       "</table>\n",
       "</div>"
      ],
      "text/plain": [
       "         id keyword_type                                               name  \\\n",
       "0   7122486      primary                                       Grande Cuvée   \n",
       "1   3630450      primary             Cuvée des Enchanteleurs Brut Champagne   \n",
       "2   3102815      primary                        P2 Plénitude Brut Champagne   \n",
       "3   1692390      primary               Sir Winston Churchill Brut Champagne   \n",
       "4   1441099      primary                              Blanc des Millénaires   \n",
       "5   1192720      primary         Dom Ruinart Blanc de Blancs Brut Champagne   \n",
       "6   1167182      primary                                                 MV   \n",
       "7   1164702      primary       R.D Extra Brut Champagne (Récemment Dégorgé)   \n",
       "8   1153863      primary                                          Sauternes   \n",
       "9   1136950      primary                Comtes de Champagne Blanc de Blancs   \n",
       "10  1135215      primary               Sauternes (Premier Grand Cru Classé)   \n",
       "11  1127349      primary  Le Mesnil Blanc de Blancs (Cuvée S) Brut Champ...   \n",
       "12  1105696      primary                                Trebbiano d'Abruzzo   \n",
       "13    86684      primary                                     Brut Champagne   \n",
       "14    79836      primary                      La Grande Dame Brut Champagne   \n",
       "15    79631      primary                                            Vintage   \n",
       "16    79162      primary                        Belle Epoque Brut Champagne   \n",
       "17    74304      primary                 Cristal Brut Champagne (Millésimé)   \n",
       "18    18931      primary                     La Grande Année Brut Champagne   \n",
       "\n",
       "    count  flavor_count  \n",
       "0     713             5  \n",
       "1      31             5  \n",
       "2     161             5  \n",
       "3     282             5  \n",
       "4     160             5  \n",
       "5     226             5  \n",
       "6      10             5  \n",
       "7     163             5  \n",
       "8      13             5  \n",
       "9     587             5  \n",
       "10     10             5  \n",
       "11    240             5  \n",
       "12     21             5  \n",
       "13   2165             5  \n",
       "14    244             5  \n",
       "15    356             5  \n",
       "16    224             5  \n",
       "17    464             5  \n",
       "18    525             5  "
      ]
     },
     "execution_count": 126,
     "metadata": {},
     "output_type": "execute_result"
    }
   ],
   "source": [
    "# 4a - identify wine with more than 10 users at least identofued the following taste : coffee, toast, green apple, cream, and citrus\n",
    "query4a = (\"\"\"\n",
    "\n",
    "SELECT \n",
    "    --keywords.name,\n",
    "    wines.id,\n",
    "    keywords_wine.keyword_type,\n",
    "    wines.name,\n",
    "    keywords_wine.count,\n",
    "    COUNT(DISTINCT keywords.name) as flavor_count   \n",
    "                 \n",
    "FROM    keywords_wine\n",
    "        JOIN keywords ON keywords.id = keywords_wine.keyword_id\n",
    "        JOIN wines ON wines.id = keywords_wine.wine_id\n",
    "\n",
    "WHERE keywords.name IN ('coffee', 'toast', 'green apple', 'cream', 'citrus') and keywords_wine.count >=10\n",
    "GROUP BY wines.id\n",
    "HAVING COUNT(DISTINCT keywords.name) >= 5\n",
    "ORDER BY flavor_count DESC\n",
    "\n",
    "\"\"\")\n",
    "\n",
    "cursor.execute(query4a)\n",
    "result = cursor.fetchall()\n",
    "print(\"Number of rows:\", len(result))\n",
    "print (result)\n",
    "df = pd.read_sql_query(query4a, connexion)\n",
    "to_csv = df.to_csv('db/taste2.csv', index = False)\n",
    "df"
   ]
  },
  {
   "cell_type": "code",
   "execution_count": null,
   "metadata": {},
   "outputs": [],
   "source": []
  },
  {
   "cell_type": "code",
   "execution_count": 137,
   "metadata": {},
   "outputs": [
    {
     "name": "stdout",
     "output_type": "stream",
     "text": [
      "Number of rows: 95\n",
      "[(18931, 'La Grande Année Brut Champagne', 417, 'toast', 417, 525), (18931, 'La Grande Année Brut Champagne', 117, 'coffee', 117, 32), (18931, 'La Grande Année Brut Champagne', 123, 'cream', 123, 425), (18931, 'La Grande Année Brut Champagne', 195, 'green apple', 195, 175), (18931, 'La Grande Année Brut Champagne', 106, 'citrus', 106, 454), (74304, 'Cristal Brut Champagne (Millésimé)', 417, 'toast', 417, 464), (74304, 'Cristal Brut Champagne (Millésimé)', 117, 'coffee', 117, 26), (74304, 'Cristal Brut Champagne (Millésimé)', 195, 'green apple', 195, 298), (74304, 'Cristal Brut Champagne (Millésimé)', 106, 'citrus', 106, 954), (74304, 'Cristal Brut Champagne (Millésimé)', 123, 'cream', 123, 496), (79162, 'Belle Epoque Brut Champagne', 195, 'green apple', 195, 224), (79162, 'Belle Epoque Brut Champagne', 417, 'toast', 417, 239), (79162, 'Belle Epoque Brut Champagne', 117, 'coffee', 117, 14), (79162, 'Belle Epoque Brut Champagne', 106, 'citrus', 106, 423), (79162, 'Belle Epoque Brut Champagne', 123, 'cream', 123, 207), (79631, 'Vintage', 417, 'toast', 417, 356), (79631, 'Vintage', 117, 'coffee', 117, 56), (79631, 'Vintage', 123, 'cream', 123, 240), (79631, 'Vintage', 195, 'green apple', 195, 96), (79631, 'Vintage', 106, 'citrus', 106, 406), (79836, 'La Grande Dame Brut Champagne', 417, 'toast', 417, 244), (79836, 'La Grande Dame Brut Champagne', 117, 'coffee', 117, 16), (79836, 'La Grande Dame Brut Champagne', 195, 'green apple', 195, 111), (79836, 'La Grande Dame Brut Champagne', 123, 'cream', 123, 178), (79836, 'La Grande Dame Brut Champagne', 106, 'citrus', 106, 326), (86684, 'Brut Champagne', 417, 'toast', 417, 2165), (86684, 'Brut Champagne', 117, 'coffee', 117, 145), (86684, 'Brut Champagne', 123, 'cream', 123, 1564), (86684, 'Brut Champagne', 195, 'green apple', 195, 893), (86684, 'Brut Champagne', 106, 'citrus', 106, 2596), (1105696, \"Trebbiano d'Abruzzo\", 117, 'coffee', 117, 21), (1105696, \"Trebbiano d'Abruzzo\", 195, 'green apple', 195, 14), (1105696, \"Trebbiano d'Abruzzo\", 106, 'citrus', 106, 55), (1105696, \"Trebbiano d'Abruzzo\", 417, 'toast', 417, 11), (1105696, \"Trebbiano d'Abruzzo\", 123, 'cream', 123, 27), (1127349, 'Le Mesnil Blanc de Blancs (Cuvée S) Brut Champagne', 106, 'citrus', 106, 240), (1127349, 'Le Mesnil Blanc de Blancs (Cuvée S) Brut Champagne', 417, 'toast', 417, 100), (1127349, 'Le Mesnil Blanc de Blancs (Cuvée S) Brut Champagne', 117, 'coffee', 117, 12), (1127349, 'Le Mesnil Blanc de Blancs (Cuvée S) Brut Champagne', 123, 'cream', 123, 118), (1127349, 'Le Mesnil Blanc de Blancs (Cuvée S) Brut Champagne', 195, 'green apple', 195, 76), (1135215, 'Sauternes (Premier Grand Cru Classé)', 195, 'green apple', 195, 10), (1135215, 'Sauternes (Premier Grand Cru Classé)', 117, 'coffee', 117, 16), (1135215, 'Sauternes (Premier Grand Cru Classé)', 417, 'toast', 417, 44), (1135215, 'Sauternes (Premier Grand Cru Classé)', 106, 'citrus', 106, 134), (1135215, 'Sauternes (Premier Grand Cru Classé)', 123, 'cream', 123, 126), (1136950, 'Comtes de Champagne Blanc de Blancs', 417, 'toast', 417, 587), (1136950, 'Comtes de Champagne Blanc de Blancs', 117, 'coffee', 117, 39), (1136950, 'Comtes de Champagne Blanc de Blancs', 123, 'cream', 123, 589), (1136950, 'Comtes de Champagne Blanc de Blancs', 106, 'citrus', 106, 720), (1136950, 'Comtes de Champagne Blanc de Blancs', 195, 'green apple', 195, 249), (1153863, 'Sauternes', 195, 'green apple', 195, 13), (1153863, 'Sauternes', 117, 'coffee', 117, 26), (1153863, 'Sauternes', 417, 'toast', 417, 49), (1153863, 'Sauternes', 106, 'citrus', 106, 201), (1153863, 'Sauternes', 123, 'cream', 123, 215), (1164702, 'R.D Extra Brut Champagne (Récemment Dégorgé)', 417, 'toast', 417, 163), (1164702, 'R.D Extra Brut Champagne (Récemment Dégorgé)', 117, 'coffee', 117, 17), (1164702, 'R.D Extra Brut Champagne (Récemment Dégorgé)', 123, 'cream', 123, 157), (1164702, 'R.D Extra Brut Champagne (Récemment Dégorgé)', 195, 'green apple', 195, 34), (1164702, 'R.D Extra Brut Champagne (Récemment Dégorgé)', 106, 'citrus', 106, 149), (1167182, 'MV', 117, 'coffee', 117, 10), (1167182, 'MV', 417, 'toast', 417, 113), (1167182, 'MV', 195, 'green apple', 195, 33), (1167182, 'MV', 123, 'cream', 123, 109), (1167182, 'MV', 106, 'citrus', 106, 131), (1192720, 'Dom Ruinart Blanc de Blancs Brut Champagne', 417, 'toast', 417, 226), (1192720, 'Dom Ruinart Blanc de Blancs Brut Champagne', 117, 'coffee', 117, 22), (1192720, 'Dom Ruinart Blanc de Blancs Brut Champagne', 123, 'cream', 123, 165), (1192720, 'Dom Ruinart Blanc de Blancs Brut Champagne', 195, 'green apple', 195, 86), (1192720, 'Dom Ruinart Blanc de Blancs Brut Champagne', 106, 'citrus', 106, 250), (1441099, 'Blanc des Millénaires', 417, 'toast', 417, 160), (1441099, 'Blanc des Millénaires', 117, 'coffee', 117, 27), (1441099, 'Blanc des Millénaires', 123, 'cream', 123, 149), (1441099, 'Blanc des Millénaires', 106, 'citrus', 106, 181), (1441099, 'Blanc des Millénaires', 195, 'green apple', 195, 66), (1692390, 'Sir Winston Churchill Brut Champagne', 417, 'toast', 417, 282), (1692390, 'Sir Winston Churchill Brut Champagne', 117, 'coffee', 117, 13), (1692390, 'Sir Winston Churchill Brut Champagne', 123, 'cream', 123, 290), (1692390, 'Sir Winston Churchill Brut Champagne', 195, 'green apple', 195, 127), (1692390, 'Sir Winston Churchill Brut Champagne', 106, 'citrus', 106, 408), (3102815, 'P2 Plénitude Brut Champagne', 417, 'toast', 417, 161), (3102815, 'P2 Plénitude Brut Champagne', 117, 'coffee', 117, 14), (3102815, 'P2 Plénitude Brut Champagne', 123, 'cream', 123, 135), (3102815, 'P2 Plénitude Brut Champagne', 195, 'green apple', 195, 30), (3102815, 'P2 Plénitude Brut Champagne', 106, 'citrus', 106, 141), (3630450, 'Cuvée des Enchanteleurs Brut Champagne', 417, 'toast', 417, 31), (3630450, 'Cuvée des Enchanteleurs Brut Champagne', 117, 'coffee', 117, 14), (3630450, 'Cuvée des Enchanteleurs Brut Champagne', 123, 'cream', 123, 37), (3630450, 'Cuvée des Enchanteleurs Brut Champagne', 195, 'green apple', 195, 11), (3630450, 'Cuvée des Enchanteleurs Brut Champagne', 106, 'citrus', 106, 25), (7122486, 'Grande Cuvée', 417, 'toast', 417, 713), (7122486, 'Grande Cuvée', 117, 'coffee', 117, 50), (7122486, 'Grande Cuvée', 123, 'cream', 123, 439), (7122486, 'Grande Cuvée', 106, 'citrus', 106, 916), (7122486, 'Grande Cuvée', 195, 'green apple', 195, 304)]\n"
     ]
    },
    {
     "data": {
      "text/html": [
       "<div>\n",
       "<style scoped>\n",
       "    .dataframe tbody tr th:only-of-type {\n",
       "        vertical-align: middle;\n",
       "    }\n",
       "\n",
       "    .dataframe tbody tr th {\n",
       "        vertical-align: top;\n",
       "    }\n",
       "\n",
       "    .dataframe thead th {\n",
       "        text-align: right;\n",
       "    }\n",
       "</style>\n",
       "<table border=\"1\" class=\"dataframe\">\n",
       "  <thead>\n",
       "    <tr style=\"text-align: right;\">\n",
       "      <th></th>\n",
       "      <th>id</th>\n",
       "      <th>name</th>\n",
       "      <th>id</th>\n",
       "      <th>name</th>\n",
       "      <th>keyword_id</th>\n",
       "      <th>count</th>\n",
       "    </tr>\n",
       "  </thead>\n",
       "  <tbody>\n",
       "    <tr>\n",
       "      <th>0</th>\n",
       "      <td>18931</td>\n",
       "      <td>La Grande Année Brut Champagne</td>\n",
       "      <td>417</td>\n",
       "      <td>toast</td>\n",
       "      <td>417</td>\n",
       "      <td>525</td>\n",
       "    </tr>\n",
       "    <tr>\n",
       "      <th>1</th>\n",
       "      <td>18931</td>\n",
       "      <td>La Grande Année Brut Champagne</td>\n",
       "      <td>117</td>\n",
       "      <td>coffee</td>\n",
       "      <td>117</td>\n",
       "      <td>32</td>\n",
       "    </tr>\n",
       "    <tr>\n",
       "      <th>2</th>\n",
       "      <td>18931</td>\n",
       "      <td>La Grande Année Brut Champagne</td>\n",
       "      <td>123</td>\n",
       "      <td>cream</td>\n",
       "      <td>123</td>\n",
       "      <td>425</td>\n",
       "    </tr>\n",
       "    <tr>\n",
       "      <th>3</th>\n",
       "      <td>18931</td>\n",
       "      <td>La Grande Année Brut Champagne</td>\n",
       "      <td>195</td>\n",
       "      <td>green apple</td>\n",
       "      <td>195</td>\n",
       "      <td>175</td>\n",
       "    </tr>\n",
       "    <tr>\n",
       "      <th>4</th>\n",
       "      <td>18931</td>\n",
       "      <td>La Grande Année Brut Champagne</td>\n",
       "      <td>106</td>\n",
       "      <td>citrus</td>\n",
       "      <td>106</td>\n",
       "      <td>454</td>\n",
       "    </tr>\n",
       "    <tr>\n",
       "      <th>...</th>\n",
       "      <td>...</td>\n",
       "      <td>...</td>\n",
       "      <td>...</td>\n",
       "      <td>...</td>\n",
       "      <td>...</td>\n",
       "      <td>...</td>\n",
       "    </tr>\n",
       "    <tr>\n",
       "      <th>90</th>\n",
       "      <td>7122486</td>\n",
       "      <td>Grande Cuvée</td>\n",
       "      <td>417</td>\n",
       "      <td>toast</td>\n",
       "      <td>417</td>\n",
       "      <td>713</td>\n",
       "    </tr>\n",
       "    <tr>\n",
       "      <th>91</th>\n",
       "      <td>7122486</td>\n",
       "      <td>Grande Cuvée</td>\n",
       "      <td>117</td>\n",
       "      <td>coffee</td>\n",
       "      <td>117</td>\n",
       "      <td>50</td>\n",
       "    </tr>\n",
       "    <tr>\n",
       "      <th>92</th>\n",
       "      <td>7122486</td>\n",
       "      <td>Grande Cuvée</td>\n",
       "      <td>123</td>\n",
       "      <td>cream</td>\n",
       "      <td>123</td>\n",
       "      <td>439</td>\n",
       "    </tr>\n",
       "    <tr>\n",
       "      <th>93</th>\n",
       "      <td>7122486</td>\n",
       "      <td>Grande Cuvée</td>\n",
       "      <td>106</td>\n",
       "      <td>citrus</td>\n",
       "      <td>106</td>\n",
       "      <td>916</td>\n",
       "    </tr>\n",
       "    <tr>\n",
       "      <th>94</th>\n",
       "      <td>7122486</td>\n",
       "      <td>Grande Cuvée</td>\n",
       "      <td>195</td>\n",
       "      <td>green apple</td>\n",
       "      <td>195</td>\n",
       "      <td>304</td>\n",
       "    </tr>\n",
       "  </tbody>\n",
       "</table>\n",
       "<p>95 rows × 6 columns</p>\n",
       "</div>"
      ],
      "text/plain": [
       "         id                            name   id         name  keyword_id  \\\n",
       "0     18931  La Grande Année Brut Champagne  417        toast         417   \n",
       "1     18931  La Grande Année Brut Champagne  117       coffee         117   \n",
       "2     18931  La Grande Année Brut Champagne  123        cream         123   \n",
       "3     18931  La Grande Année Brut Champagne  195  green apple         195   \n",
       "4     18931  La Grande Année Brut Champagne  106       citrus         106   \n",
       "..      ...                             ...  ...          ...         ...   \n",
       "90  7122486                    Grande Cuvée  417        toast         417   \n",
       "91  7122486                    Grande Cuvée  117       coffee         117   \n",
       "92  7122486                    Grande Cuvée  123        cream         123   \n",
       "93  7122486                    Grande Cuvée  106       citrus         106   \n",
       "94  7122486                    Grande Cuvée  195  green apple         195   \n",
       "\n",
       "    count  \n",
       "0     525  \n",
       "1      32  \n",
       "2     425  \n",
       "3     175  \n",
       "4     454  \n",
       "..    ...  \n",
       "90    713  \n",
       "91     50  \n",
       "92    439  \n",
       "93    916  \n",
       "94    304  \n",
       "\n",
       "[95 rows x 6 columns]"
      ]
     },
     "execution_count": 137,
     "metadata": {},
     "output_type": "execute_result"
    }
   ],
   "source": [
    "# 4b - verification of 4a\n",
    "query4b = (\"\"\"\n",
    "\n",
    "WITH taste_in_wine AS (\n",
    "SELECT \n",
    "    --keywords.name,\n",
    "    wines.id,\n",
    "    keywords_wine.keyword_type,\n",
    "    wines.name,\n",
    "    keywords_wine.count,\n",
    "    COUNT(DISTINCT keywords.name) as flavor_count   \n",
    "                 \n",
    "FROM    keywords_wine\n",
    "        JOIN keywords ON keywords.id = keywords_wine.keyword_id\n",
    "        JOIN wines ON wines.id = keywords_wine.wine_id\n",
    "\n",
    "WHERE keywords.name IN ('coffee', 'toast', 'green apple', 'cream', 'citrus') and keywords_wine.count >=10\n",
    "GROUP BY wines.id\n",
    "HAVING COUNT(DISTINCT keywords.name) >= 5\n",
    "ORDER BY flavor_count DESC\n",
    ")\n",
    "           \n",
    "SELECT DISTINCT\n",
    "        taste_in_wine.id,\n",
    "        taste_in_wine.name,\n",
    "        keywords.id,\n",
    "        keywords.name,\n",
    "        keywords_wine.keyword_id,\n",
    "        keywords_wine.count\n",
    "           \n",
    "FROM   taste_in_wine\n",
    "        JOIN keywords_wine ON taste_in_wine.id = keywords_wine.wine_id\n",
    "        JOIN keywords ON keywords.id = keywords_wine.keyword_id\n",
    "WHERE keywords.name IN ('coffee', 'toast', 'green apple', 'cream', 'citrus') \n",
    "ORDER BY taste_in_wine.id\n",
    "\n",
    "\n",
    "\"\"\")\n",
    "\n",
    "cursor.execute(query4b)\n",
    "result = cursor.fetchall()\n",
    "print(\"Number of rows:\", len(result))\n",
    "print (result)\n",
    "df = pd.read_sql_query(query4b, connexion)\n",
    "to_csv = df.to_csv('db/taste3.csv', index = False)\n",
    "df"
   ]
  },
  {
   "cell_type": "code",
   "execution_count": 15,
   "metadata": {},
   "outputs": [
    {
     "name": "stdout",
     "output_type": "stream",
     "text": [
      "Number of rows: 3\n",
      "[('Cabernet Sauvignon', 2, 801751), ('Chardonnay', 5, 604208), ('Pinot Noir', 14, 572334)]\n"
     ]
    },
    {
     "data": {
      "text/html": [
       "<div>\n",
       "<style scoped>\n",
       "    .dataframe tbody tr th:only-of-type {\n",
       "        vertical-align: middle;\n",
       "    }\n",
       "\n",
       "    .dataframe tbody tr th {\n",
       "        vertical-align: top;\n",
       "    }\n",
       "\n",
       "    .dataframe thead th {\n",
       "        text-align: right;\n",
       "    }\n",
       "</style>\n",
       "<table border=\"1\" class=\"dataframe\">\n",
       "  <thead>\n",
       "    <tr style=\"text-align: right;\">\n",
       "      <th></th>\n",
       "      <th>name</th>\n",
       "      <th>grape_id</th>\n",
       "      <th>grapes_count</th>\n",
       "    </tr>\n",
       "  </thead>\n",
       "  <tbody>\n",
       "    <tr>\n",
       "      <th>0</th>\n",
       "      <td>Cabernet Sauvignon</td>\n",
       "      <td>2</td>\n",
       "      <td>801751</td>\n",
       "    </tr>\n",
       "    <tr>\n",
       "      <th>1</th>\n",
       "      <td>Chardonnay</td>\n",
       "      <td>5</td>\n",
       "      <td>604208</td>\n",
       "    </tr>\n",
       "    <tr>\n",
       "      <th>2</th>\n",
       "      <td>Pinot Noir</td>\n",
       "      <td>14</td>\n",
       "      <td>572334</td>\n",
       "    </tr>\n",
       "  </tbody>\n",
       "</table>\n",
       "</div>"
      ],
      "text/plain": [
       "                 name  grape_id  grapes_count\n",
       "0  Cabernet Sauvignon         2        801751\n",
       "1          Chardonnay         5        604208\n",
       "2          Pinot Noir        14        572334"
      ]
     },
     "execution_count": 15,
     "metadata": {},
     "output_type": "execute_result"
    }
   ],
   "source": [
    "# 5a - Best 5 wines per type of grapes - most common grapes world wide\n",
    "query5a = (\"\"\"\n",
    "SELECT  DISTINCT \n",
    "        grapes.name,\n",
    "        most_used_grapes_per_country.grape_id,\n",
    "        most_used_grapes_per_country.wines_count AS grapes_count\n",
    "                \n",
    "FROM    most_used_grapes_per_country\n",
    "        JOIN grapes ON most_used_grapes_per_country.grape_id = grapes.id\n",
    "ORDER BY grapes_count DESC\n",
    "LIMIT 3\n",
    "\n",
    "\"\"\")\n",
    "cursor.execute(query5a)\n",
    "result = cursor.fetchall()\n",
    "print(\"Number of rows:\", len(result))\n",
    "print (result)\n",
    "df = pd.read_sql_query(query5a, connexion)\n",
    "df\n"
   ]
  },
  {
   "cell_type": "code",
   "execution_count": 16,
   "metadata": {},
   "outputs": [
    {
     "name": "stdout",
     "output_type": "stream",
     "text": [
      "Number of rows: 21\n",
      "[(2, 'ar'), (2, 'au'), (2, 'cl'), (2, 'es'), (2, 'gr'), (2, 'hr'), (2, 'hu'), (2, 'il'), (2, 'md'), (2, 'ro'), (2, 'us'), (2, 'za'), (5, 'ar'), (5, 'au'), (5, 'fr'), (5, 'it'), (5, 'md'), (5, 'us'), (14, 'ch'), (14, 'fr'), (14, 'us')]\n"
     ]
    },
    {
     "data": {
      "text/html": [
       "<div>\n",
       "<style scoped>\n",
       "    .dataframe tbody tr th:only-of-type {\n",
       "        vertical-align: middle;\n",
       "    }\n",
       "\n",
       "    .dataframe tbody tr th {\n",
       "        vertical-align: top;\n",
       "    }\n",
       "\n",
       "    .dataframe thead th {\n",
       "        text-align: right;\n",
       "    }\n",
       "</style>\n",
       "<table border=\"1\" class=\"dataframe\">\n",
       "  <thead>\n",
       "    <tr style=\"text-align: right;\">\n",
       "      <th></th>\n",
       "      <th>grape_id</th>\n",
       "      <th>country_code</th>\n",
       "    </tr>\n",
       "  </thead>\n",
       "  <tbody>\n",
       "    <tr>\n",
       "      <th>0</th>\n",
       "      <td>2</td>\n",
       "      <td>ar</td>\n",
       "    </tr>\n",
       "    <tr>\n",
       "      <th>1</th>\n",
       "      <td>2</td>\n",
       "      <td>au</td>\n",
       "    </tr>\n",
       "    <tr>\n",
       "      <th>2</th>\n",
       "      <td>2</td>\n",
       "      <td>cl</td>\n",
       "    </tr>\n",
       "    <tr>\n",
       "      <th>3</th>\n",
       "      <td>2</td>\n",
       "      <td>es</td>\n",
       "    </tr>\n",
       "    <tr>\n",
       "      <th>4</th>\n",
       "      <td>2</td>\n",
       "      <td>gr</td>\n",
       "    </tr>\n",
       "    <tr>\n",
       "      <th>5</th>\n",
       "      <td>2</td>\n",
       "      <td>hr</td>\n",
       "    </tr>\n",
       "    <tr>\n",
       "      <th>6</th>\n",
       "      <td>2</td>\n",
       "      <td>hu</td>\n",
       "    </tr>\n",
       "    <tr>\n",
       "      <th>7</th>\n",
       "      <td>2</td>\n",
       "      <td>il</td>\n",
       "    </tr>\n",
       "    <tr>\n",
       "      <th>8</th>\n",
       "      <td>2</td>\n",
       "      <td>md</td>\n",
       "    </tr>\n",
       "    <tr>\n",
       "      <th>9</th>\n",
       "      <td>2</td>\n",
       "      <td>ro</td>\n",
       "    </tr>\n",
       "    <tr>\n",
       "      <th>10</th>\n",
       "      <td>2</td>\n",
       "      <td>us</td>\n",
       "    </tr>\n",
       "    <tr>\n",
       "      <th>11</th>\n",
       "      <td>2</td>\n",
       "      <td>za</td>\n",
       "    </tr>\n",
       "    <tr>\n",
       "      <th>12</th>\n",
       "      <td>5</td>\n",
       "      <td>ar</td>\n",
       "    </tr>\n",
       "    <tr>\n",
       "      <th>13</th>\n",
       "      <td>5</td>\n",
       "      <td>au</td>\n",
       "    </tr>\n",
       "    <tr>\n",
       "      <th>14</th>\n",
       "      <td>5</td>\n",
       "      <td>fr</td>\n",
       "    </tr>\n",
       "    <tr>\n",
       "      <th>15</th>\n",
       "      <td>5</td>\n",
       "      <td>it</td>\n",
       "    </tr>\n",
       "    <tr>\n",
       "      <th>16</th>\n",
       "      <td>5</td>\n",
       "      <td>md</td>\n",
       "    </tr>\n",
       "    <tr>\n",
       "      <th>17</th>\n",
       "      <td>5</td>\n",
       "      <td>us</td>\n",
       "    </tr>\n",
       "    <tr>\n",
       "      <th>18</th>\n",
       "      <td>14</td>\n",
       "      <td>ch</td>\n",
       "    </tr>\n",
       "    <tr>\n",
       "      <th>19</th>\n",
       "      <td>14</td>\n",
       "      <td>fr</td>\n",
       "    </tr>\n",
       "    <tr>\n",
       "      <th>20</th>\n",
       "      <td>14</td>\n",
       "      <td>us</td>\n",
       "    </tr>\n",
       "  </tbody>\n",
       "</table>\n",
       "</div>"
      ],
      "text/plain": [
       "    grape_id country_code\n",
       "0          2           ar\n",
       "1          2           au\n",
       "2          2           cl\n",
       "3          2           es\n",
       "4          2           gr\n",
       "5          2           hr\n",
       "6          2           hu\n",
       "7          2           il\n",
       "8          2           md\n",
       "9          2           ro\n",
       "10         2           us\n",
       "11         2           za\n",
       "12         5           ar\n",
       "13         5           au\n",
       "14         5           fr\n",
       "15         5           it\n",
       "16         5           md\n",
       "17         5           us\n",
       "18        14           ch\n",
       "19        14           fr\n",
       "20        14           us"
      ]
     },
     "execution_count": 16,
     "metadata": {},
     "output_type": "execute_result"
    }
   ],
   "source": [
    "# 5b - Best 5 wines per type of grapes -  Country list related to  most common grapes world wide\n",
    "query5b = (\"\"\"\n",
    "\n",
    "WITH most_common_grapes_WW AS (\n",
    "        SELECT  DISTINCT \n",
    "                grapes.name,\n",
    "                most_used_grapes_per_country.grape_id,\n",
    "                most_used_grapes_per_country.wines_count AS grapes_count\n",
    "               \n",
    "        FROM    most_used_grapes_per_country\n",
    "                JOIN grapes ON most_used_grapes_per_country.grape_id = grapes.id\n",
    "        ORDER BY grapes_count DESC\n",
    "        LIMIT 3\n",
    ")          \n",
    "SELECT   \n",
    "        most_used_grapes_per_country.grape_id AS grape_id,\n",
    "        most_used_grapes_per_country.country_code as country_code\n",
    "                   \n",
    "FROM    most_used_grapes_per_country\n",
    "WHERE   grape_id IN (SELECT grape_id FROM most_common_grapes_WW)\n",
    "GROUP BY grape_id, country_code\n",
    "\n",
    "           \n",
    " \n",
    "\n",
    "\"\"\")\n",
    "cursor.execute(query5b)\n",
    "result = cursor.fetchall()\n",
    "print(\"Number of rows:\", len(result))\n",
    "print (result)\n",
    "df = pd.read_sql_query(query5b, connexion)\n",
    "df"
   ]
  },
  {
   "cell_type": "code",
   "execution_count": 17,
   "metadata": {},
   "outputs": [
    {
     "name": "stdout",
     "output_type": "stream",
     "text": [
      "Number of rows: 410\n",
      "[('South Australia', 7, 'au', 'au', 2), ('California', 24, 'us', 'us', 2), ('Napa Valley', 25, 'us', 'us', 2), ('Sonoma County', 26, 'us', 'us', 2), ('Oakville', 42, 'us', 'us', 2), ('Willamette Valley', 51, 'us', 'us', 2), ('Yamhill County', 55, 'us', 'us', 2), ('Lodi', 65, 'us', 'us', 2), ('Howell Mountain', 85, 'us', 'us', 2), ('Santa Cruz Mountains', 86, 'us', 'us', 2), ('Stags Leap District', 88, 'us', 'us', 2), ('Calistoga', 91, 'us', 'us', 2), ('Russian River Valley', 94, 'us', 'us', 2), ('Los Carneros', 96, 'us', 'us', 2), ('Sta. Rita Hills', 99, 'us', 'us', 2), ('Alexander Valley', 100, 'us', 'us', 2), ('Rutherford', 105, 'us', 'us', 2), ('Walla Walla Valley', 324, 'us', 'us', 2), ('Columbia Valley', 327, 'us', 'us', 2), ('Barossa Valley', 397, 'au', 'au', 2), ('Ribera del Duero', 405, 'es', 'es', 2), ('Cachapoal Valley', 411, 'cl', 'cl', 2), ('Margaret River', 425, 'au', 'au', 2), ('Toro', 430, 'es', 'es', 2), ('Clare Valley', 444, 'au', 'au', 2), ('Mendoza', 454, 'ar', 'ar', 2), ('Priorat', 463, 'es', 'es', 2), ('Campo de Borja', 478, 'es', 'es', 2), ('Montilla-Moriles', 485, 'es', 'es', 2), ('Rioja', 492, 'es', 'es', 2), ('Stellenbosch', 533, 'za', 'za', 2), ('Franschhoek', 534, 'za', 'za', 2), ('Tokaj', 541, 'hu', 'hu', 2), ('Jumilla', 544, 'es', 'es', 2), ('Galilee', 550, 'il', 'il', 2), ('Paarl', 557, 'za', 'za', 2), ('Central Valley', 593, 'cl', 'cl', 2), ('Constantia', 625, 'za', 'za', 2), ('Bierzo', 628, 'es', 'es', 2), ('Penedès', 631, 'es', 'es', 2), ('Paso Robles', 684, 'us', 'us', 2), ('Curico Valley', 700, 'cl', 'cl', 2), ('Uco Valley', 713, 'ar', 'ar', 2), ('Maipo Valley', 721, 'cl', 'cl', 2), ('Dundee Hills', 726, 'us', 'us', 2), ('Colchagua Valley', 737, 'cl', 'cl', 2), ('Patagonia', 755, 'ar', 'ar', 2), ('Knights Valley', 758, 'us', 'us', 2), ('Salta', 770, 'ar', 'ar', 2), ('Montsant', 775, 'es', 'es', 2), ('Andalucía', 825, 'es', 'es', 2), ('Vino de España', 839, 'es', 'es', 2), ('Western Cape', 853, 'za', 'za', 2), ('Santa Barbara County', 857, 'us', 'us', 2), ('Rio Negro', 858, 'ar', 'ar', 2), ('Barossa', 870, 'au', 'au', 2), ('Epanomi', 926, 'gr', 'gr', 2), ('Dealu Mare', 974, 'ro', 'ro', 2), ('South Eastern', 1124, 'md', 'md', 2), ('Tulbagh', 1364, 'za', 'za', 2), ('Moldova', 1437, 'md', 'md', 2), ('Aconcagua Valley', 1573, 'cl', 'cl', 2), ('Srednja I Juzna Dalmacija', 1575, 'hr', 'hr', 2), ('Agrelo', 1596, 'ar', 'ar', 2), ('Perdriel', 1600, 'ar', 'ar', 2), ('Tupungato', 1610, 'ar', 'ar', 2), ('Cava', 1706, 'es', 'es', 2), ('Mallorca', 1723, 'es', 'es', 2), ('Rueda', 1729, 'es', 'es', 2), ('Valdeorras', 1735, 'es', 'es', 2), ('El Terrerazo', 1744, 'es', 'es', 2), ('Empordà', 1786, 'es', 'es', 2), ('Sonoma Coast', 1930, 'us', 'us', 2), ('Fort Ross-Seaview', 1931, 'us', 'us', 2), ('Puente Alto', 3068, 'cl', 'cl', 2), ('Fthiotida', 3436, 'gr', 'gr', 2), ('Pedro Ximénez Sherry (PX)', 3505, 'es', 'es', 2), ('Palo Cortado Sherry', 3506, 'es', 'es', 2), ('Paraje Altamira', 4262, 'ar', 'ar', 2), ('Greyton', 4363, 'za', 'za', 2), ('Cream Sherry', 4595, 'es', 'es', 2), ('Apalta Valley', 4670, 'cl', 'cl', 2), ('South Australia', 7, 'au', 'au', 5), ('California', 24, 'us', 'us', 5), ('Napa Valley', 25, 'us', 'us', 5), ('Sonoma County', 26, 'us', 'us', 5), ('Oakville', 42, 'us', 'us', 5), ('Willamette Valley', 51, 'us', 'us', 5), ('Yamhill County', 55, 'us', 'us', 5), ('Lodi', 65, 'us', 'us', 5), ('Howell Mountain', 85, 'us', 'us', 5), ('Santa Cruz Mountains', 86, 'us', 'us', 5), ('Stags Leap District', 88, 'us', 'us', 5), ('Calistoga', 91, 'us', 'us', 5), ('Russian River Valley', 94, 'us', 'us', 5), ('Los Carneros', 96, 'us', 'us', 5), ('Sta. Rita Hills', 99, 'us', 'us', 5), ('Alexander Valley', 100, 'us', 'us', 5), ('Rutherford', 105, 'us', 'us', 5), ('Walla Walla Valley', 324, 'us', 'us', 5), ('Columbia Valley', 327, 'us', 'us', 5), ('Bordeaux', 383, 'fr', 'fr', 5), ('Margaux', 384, 'fr', 'fr', 5), ('Bourgogne', 385, 'fr', 'fr', 5), ('Alsace', 387, 'fr', 'fr', 5), ('Piemonte', 389, 'it', 'it', 5), ('Pauillac', 393, 'fr', 'fr', 5), ('Toscana', 394, 'it', 'it', 5), ('Barossa Valley', 397, 'au', 'au', 5), ('Saint-Julien', 399, 'fr', 'fr', 5), ('Châteauneuf-du-Pape', 401, 'fr', 'fr', 5), ('Champagne', 409, 'fr', 'fr', 5), ('Margaret River', 425, 'au', 'au', 5), ('Côtes-du-Rhône', 429, 'fr', 'fr', 5), ('Sauternes', 432, 'fr', 'fr', 5), ('Saint-Joseph', 439, 'fr', 'fr', 5), ('Campania', 443, 'it', 'it', 5), ('Clare Valley', 444, 'au', 'au', 5), ('Lazio', 445, 'it', 'it', 5), ('Graves', 451, 'fr', 'fr', 5), ('Côtes de Bourg', 452, 'fr', 'fr', 5), ('Mendoza', 454, 'ar', 'ar', 5), ('Saint-Estèphe', 456, 'fr', 'fr', 5), ('Veneto', 460, 'it', 'it', 5), ('Pessac-Léognan', 471, 'fr', 'fr', 5), ('Valpolicella', 483, 'it', 'it', 5), ('Umbria', 488, 'it', 'it', 5), ('Vacqueyras', 500, 'fr', 'fr', 5), ('Barolo', 504, 'it', 'it', 5), ('Hermitage', 535, 'fr', 'fr', 5), ('Puglia', 548, 'it', 'it', 5), ('Pomerol', 555, 'fr', 'fr', 5), ('Trentino-Alto Adige', 576, 'it', 'it', 5), ('Terre Siciliane', 579, 'it', 'it', 5), ('Langhe', 613, 'it', 'it', 5), ('Abruzzo', 619, 'it', 'it', 5), ('Sancerre', 635, 'fr', 'fr', 5), ('Chassagne-Montrachet', 636, 'fr', 'fr', 5), ('Salento', 640, 'it', 'it', 5), ('Friuli-Venezia Giulia', 642, 'it', 'it', 5), ('Bandol', 648, 'fr', 'fr', 5), ('Südtirol - Alto Adige', 661, 'it', 'it', 5), ('Bolgheri', 673, 'it', 'it', 5), ('Paso Robles', 684, 'us', 'us', 5), ('Côte-Rôtie', 693, 'fr', 'fr', 5), ('Marche', 712, 'it', 'it', 5), ('Uco Valley', 713, 'ar', 'ar', 5), ('Barbaresco', 722, 'it', 'it', 5), ('Dundee Hills', 726, 'us', 'us', 5), ('Valtellina', 746, 'it', 'it', 5), ('Patagonia', 755, 'ar', 'ar', 5), ('Knights Valley', 758, 'us', 'us', 5), ('Pouilly-Fumé', 759, 'fr', 'fr', 5), ('Salta', 770, 'ar', 'ar', 5), ('Saumur-Champigny', 773, 'fr', 'fr', 5), ('Château-Grillet', 782, 'fr', 'fr', 5), ('Condrieu', 801, 'fr', 'fr', 5), ('Rosso Piceno', 808, 'it', 'it', 5), ('Franciacorta', 817, 'it', 'it', 5), ('Saint-Émilion Grand Cru', 827, 'fr', 'fr', 5), ('Santa Barbara County', 857, 'us', 'us', 5), ('Rio Negro', 858, 'ar', 'ar', 5), ('Emilia-Romagna', 862, 'it', 'it', 5), ('Barossa', 870, 'au', 'au', 5), (\"Valle d'Aosta\", 903, 'it', 'it', 5), ('Trentino', 907, 'it', 'it', 5), ('South Eastern', 1124, 'md', 'md', 5), ('Moldova', 1437, 'md', 'md', 5), ('Agrelo', 1596, 'ar', 'ar', 5), ('Perdriel', 1600, 'ar', 'ar', 5), ('Tupungato', 1610, 'ar', 'ar', 5), ('Brunello di Montalcino', 1796, 'it', 'it', 5), ('Chianti Classico', 1798, 'it', 'it', 5), ('Vino Nobile di Montepulciano', 1801, 'it', 'it', 5), ('Montefalco Sagrantino', 1802, 'it', 'it', 5), ('Amarone della Valpolicella', 1804, 'it', 'it', 5), ('Recioto della Valpolicella', 1808, 'it', 'it', 5), ('Gattinara', 1819, 'it', 'it', 5), (\"Barbera d'Asti\", 1829, 'it', 'it', 5), ('Valtellina Superiore', 1836, 'it', 'it', 5), ('Sforzato della Valtellina', 1837, 'it', 'it', 5), ('Taurasi', 1843, 'it', 'it', 5), ('Greco di Tufo', 1844, 'it', 'it', 5), ('Sonoma Coast', 1930, 'us', 'us', 5), ('Fort Ross-Seaview', 1931, 'us', 'us', 5), ('Barsac', 2141, 'fr', 'fr', 5), ('Chambertin Grand Cru', 2201, 'fr', 'fr', 5), ('Chambertin-Clos de Bèze Grand Cru', 2202, 'fr', 'fr', 5), ('Chapelle-Chambertin Grand Cru', 2203, 'fr', 'fr', 5), ('Charmes-Chambertin Grand Cru', 2204, 'fr', 'fr', 5), ('Griotte-Chambertin Grand Cru', 2205, 'fr', 'fr', 5), ('Mazis-Chambertin Grand Cru', 2207, 'fr', 'fr', 5), ('Morey-Saint-Denis', 2209, 'fr', 'fr', 5), ('Clos de la Roche Grand Cru', 2211, 'fr', 'fr', 5), ('Clos de Lambrays Grand Cru', 2212, 'fr', 'fr', 5), ('Clos de Tart Grand Cru', 2213, 'fr', 'fr', 5), ('Clos Saint-Denis Grand Cru', 2214, 'fr', 'fr', 5), ('Chambolle-Musigny', 2215, 'fr', 'fr', 5), ('Bonnes-Mares Grand Cru', 2216, 'fr', 'fr', 5), ('Musigny Grand Cru', 2217, 'fr', 'fr', 5), ('Clos Vougeot Grand Cru', 2219, 'fr', 'fr', 5), ('Échezeaux Grand Cru', 2221, 'fr', 'fr', 5), ('Grands-Échezeaux Grand Cru', 2222, 'fr', 'fr', 5), ('Vosne-Romanée', 2223, 'fr', 'fr', 5), ('La Grande Rue Grand Cru', 2224, 'fr', 'fr', 5), ('Richebourg Grand Cru', 2227, 'fr', 'fr', 5), ('Romanée-Saint-Vivant Grand Cru', 2229, 'fr', 'fr', 5), ('Nuits-Saint-Georges', 2230, 'fr', 'fr', 5), ('Corton-Charlemagne Grand Cru', 2236, 'fr', 'fr', 5), ('Corton Grand Cru', 2237, 'fr', 'fr', 5), ('Meursault', 2246, 'fr', 'fr', 5), ('Puligny-Montrachet', 2248, 'fr', 'fr', 5), ('Savennières-Coulée-de-Serrant', 2300, 'fr', 'fr', 5), ('Côtes du Jura', 2410, 'fr', 'fr', 5), ('Trento', 2471, 'it', 'it', 5), (\"Barbera d'Alba\", 2585, 'it', 'it', 5), (\"Nebbiolo d'Alba\", 2614, 'it', 'it', 5), ('Verdicchio dei Castelli di Jesi', 2660, 'it', 'it', 5), ('Orcia', 2679, 'it', 'it', 5), ('Vin Santo di Montepulciano', 2693, 'it', 'it', 5), (\"Montepulciano d'Abruzzo\", 2734, 'it', 'it', 5), (\"Trebbiano d'Abruzzo\", 2735, 'it', 'it', 5), ('Primitivo di Manduria', 2753, 'it', 'it', 5), ('Cannonau di Sardegna', 2779, 'it', 'it', 5), ('Contessa Entellina', 2810, 'it', 'it', 5), ('Marsala', 2818, 'it', 'it', 5), ('Venezia Giulia', 2869, 'it', 'it', 5), ('Isola dei Nuraghi', 2894, 'it', 'it', 5), ('Colli della Toscana Centrale', 2915, 'it', 'it', 5), ('Maremma Toscana', 2916, 'it', 'it', 5), ('Bolgheri Sassicaia', 2999, 'it', 'it', 5), ('Vin de France', 3009, 'fr', 'fr', 5), ('Vosne-Romanée Premier Cru', 3015, 'fr', 'fr', 5), ('Chambolle-Musigny Premier Cru', 3016, 'fr', 'fr', 5), ('Pommard Premier Cru', 3021, 'fr', 'fr', 5), ('Puligny-Montrachet Premier Cru', 3022, 'fr', 'fr', 5), ('Chassagne-Montrachet Premier Cru', 3024, 'fr', 'fr', 5), ('Bâtard-Montrachet Grand Cru', 3036, 'fr', 'fr', 5), ('Chevalier-Montrachet Grand Cru', 3037, 'fr', 'fr', 5), ('Montrachet Grand Cru', 3041, 'fr', 'fr', 5), ('Hérault', 3077, 'fr', 'fr', 5), ('Rosso Veronese', 3107, 'it', 'it', 5), ('Bienvenues-Bâtard-Montrachet Grand Cru', 3138, 'fr', 'fr', 5), ('Valpolicella Classico', 3235, 'it', 'it', 5), ('Amarone della Valpolicella Classico', 3237, 'it', 'it', 5), ('Amarone della Valpolicella Valpantena', 3238, 'it', 'it', 5), ('Luberon', 3265, 'fr', 'fr', 5), ('Pézenas', 3336, 'fr', 'fr', 5), ('Recioto della Valpolicella Classico', 3344, 'it', 'it', 5), ('Bolgheri Superiore', 3345, 'it', 'it', 5), (\"Vosne-Romanée 1er Cru 'Malconsorts'\", 3510, 'fr', 'fr', 5), (\"Vosne-Romanée 1er Cru 'Les Beaux Monts'\", 3516, 'fr', 'fr', 5), (\"Vosne-Romanée 1er Cru 'Les Suchots'\", 3521, 'fr', 'fr', 5), (\"Chablis Grand Cru 'Les Clos'\", 3558, 'fr', 'fr', 5), (\"Chablis Grand Cru 'Valmur'\", 3560, 'fr', 'fr', 5), (\"Beaune 1er Cru 'Le Clos des Mouches'\", 3601, 'fr', 'fr', 5), (\"Chambolle-Musigny 1er Cru 'Les Amoureuses'\", 3678, 'fr', 'fr', 5), (\"Chambolle-Musigny 1er Cru 'Les Feusselottes'\", 3687, 'fr', 'fr', 5), (\"Chambolle-Musigny 1er Cru 'Les Sentiers'\", 3695, 'fr', 'fr', 5), (\"Chassagne-Montrachet 1er Cru 'La Maltroie'\", 3720, 'fr', 'fr', 5), (\"Chassagne-Montrachet 1er Cru 'Morgeot'\", 3745, 'fr', 'fr', 5), (\"Gevrey-Chambertin 1er Cru 'Aux Combottes'\", 3763, 'fr', 'fr', 5), (\"Meursault 1er Cru 'Charmes'\", 3864, 'fr', 'fr', 5), (\"Meursault 1er Cru 'Genevrières'\", 3866, 'fr', 'fr', 5), (\"Meursault 1er Cru 'Perrières'\", 3877, 'fr', 'fr', 5), (\"Nuits-Saint-Georges 1er Cru 'Aux Boudots'\", 3967, 'fr', 'fr', 5), (\"Nuits-Saint-Georges 1er Cru 'Aux Murgers'\", 3972, 'fr', 'fr', 5), (\"Nuits-Saint-Georges 1er Cru 'Aux Thorey'\", 3974, 'fr', 'fr', 5), (\"Nuits-Saint-Georges 1er Cru 'Clos des Corvées'\", 3981, 'fr', 'fr', 5), (\"Nuits-Saint-Georges 1er Cru 'Clos des Porrets Saint-Georges'\", 3985, 'fr', 'fr', 5), (\"Puligny-Montrachet 1er Cru 'Champ Gain'\", 4048, 'fr', 'fr', 5), (\"Puligny-Montrachet 1er Cru 'La Garenne'\", 4053, 'fr', 'fr', 5), (\"Puligny-Montrachet 1er Cru 'La Truffière'\", 4054, 'fr', 'fr', 5), (\"Volnay 1er Cru 'Les Caillerets'\", 4171, 'fr', 'fr', 5), ('Costa Toscana', 4240, 'it', 'it', 5), ('Paraje Altamira', 4262, 'ar', 'ar', 5), ('Charlemagne Grand Cru', 4311, 'fr', 'fr', 5), ('Passito di Pantelleria', 4615, 'it', 'it', 5), (\"Champagne Grand Cru 'Aÿ'\", 4621, 'fr', 'fr', 5), (\"Champagne Grand Cru 'Ambonnay'\", 4624, 'fr', 'fr', 5), (\"Champagne Grand Cru 'Avize'\", 4625, 'fr', 'fr', 5), (\"Champagne Grand Cru 'Le Mesnil-sur-Oger'\", 4631, 'fr', 'fr', 5), ('Champagne Grand Cru', 4638, 'fr', 'fr', 5), ('Champagne Premier Cru', 4639, 'fr', 'fr', 5), ('California', 24, 'us', 'us', 14), ('Napa Valley', 25, 'us', 'us', 14), ('Sonoma County', 26, 'us', 'us', 14), ('Oakville', 42, 'us', 'us', 14), ('Willamette Valley', 51, 'us', 'us', 14), ('Yamhill County', 55, 'us', 'us', 14), ('Lodi', 65, 'us', 'us', 14), ('Howell Mountain', 85, 'us', 'us', 14), ('Santa Cruz Mountains', 86, 'us', 'us', 14), ('Stags Leap District', 88, 'us', 'us', 14), ('Calistoga', 91, 'us', 'us', 14), ('Russian River Valley', 94, 'us', 'us', 14), ('Los Carneros', 96, 'us', 'us', 14), ('Sta. Rita Hills', 99, 'us', 'us', 14), ('Alexander Valley', 100, 'us', 'us', 14), ('Rutherford', 105, 'us', 'us', 14), ('Walla Walla Valley', 324, 'us', 'us', 14), ('Columbia Valley', 327, 'us', 'us', 14), ('Bordeaux', 383, 'fr', 'fr', 14), ('Margaux', 384, 'fr', 'fr', 14), ('Bourgogne', 385, 'fr', 'fr', 14), ('Alsace', 387, 'fr', 'fr', 14), ('Pauillac', 393, 'fr', 'fr', 14), ('Saint-Julien', 399, 'fr', 'fr', 14), ('Châteauneuf-du-Pape', 401, 'fr', 'fr', 14), ('Champagne', 409, 'fr', 'fr', 14), ('Côtes-du-Rhône', 429, 'fr', 'fr', 14), ('Sauternes', 432, 'fr', 'fr', 14), ('Saint-Joseph', 439, 'fr', 'fr', 14), ('Graves', 451, 'fr', 'fr', 14), ('Côtes de Bourg', 452, 'fr', 'fr', 14), ('Saint-Estèphe', 456, 'fr', 'fr', 14), ('Pessac-Léognan', 471, 'fr', 'fr', 14), ('Vacqueyras', 500, 'fr', 'fr', 14), ('Hermitage', 535, 'fr', 'fr', 14), ('Pomerol', 555, 'fr', 'fr', 14), ('Sancerre', 635, 'fr', 'fr', 14), ('Chassagne-Montrachet', 636, 'fr', 'fr', 14), ('Bandol', 648, 'fr', 'fr', 14), ('Paso Robles', 684, 'us', 'us', 14), ('Côte-Rôtie', 693, 'fr', 'fr', 14), ('Dundee Hills', 726, 'us', 'us', 14), ('Knights Valley', 758, 'us', 'us', 14), ('Pouilly-Fumé', 759, 'fr', 'fr', 14), ('Saumur-Champigny', 773, 'fr', 'fr', 14), ('Château-Grillet', 782, 'fr', 'fr', 14), ('Condrieu', 801, 'fr', 'fr', 14), ('Saint-Émilion Grand Cru', 827, 'fr', 'fr', 14), ('Santa Barbara County', 857, 'us', 'us', 14), ('Valais', 959, 'ch', 'ch', 14), ('Ticino', 1414, 'ch', 'ch', 14), ('Sonoma Coast', 1930, 'us', 'us', 14), ('Fort Ross-Seaview', 1931, 'us', 'us', 14), ('Barsac', 2141, 'fr', 'fr', 14), ('Chambertin Grand Cru', 2201, 'fr', 'fr', 14), ('Chambertin-Clos de Bèze Grand Cru', 2202, 'fr', 'fr', 14), ('Chapelle-Chambertin Grand Cru', 2203, 'fr', 'fr', 14), ('Charmes-Chambertin Grand Cru', 2204, 'fr', 'fr', 14), ('Griotte-Chambertin Grand Cru', 2205, 'fr', 'fr', 14), ('Mazis-Chambertin Grand Cru', 2207, 'fr', 'fr', 14), ('Morey-Saint-Denis', 2209, 'fr', 'fr', 14), ('Clos de la Roche Grand Cru', 2211, 'fr', 'fr', 14), ('Clos de Lambrays Grand Cru', 2212, 'fr', 'fr', 14), ('Clos de Tart Grand Cru', 2213, 'fr', 'fr', 14), ('Clos Saint-Denis Grand Cru', 2214, 'fr', 'fr', 14), ('Chambolle-Musigny', 2215, 'fr', 'fr', 14), ('Bonnes-Mares Grand Cru', 2216, 'fr', 'fr', 14), ('Musigny Grand Cru', 2217, 'fr', 'fr', 14), ('Clos Vougeot Grand Cru', 2219, 'fr', 'fr', 14), ('Échezeaux Grand Cru', 2221, 'fr', 'fr', 14), ('Grands-Échezeaux Grand Cru', 2222, 'fr', 'fr', 14), ('Vosne-Romanée', 2223, 'fr', 'fr', 14), ('La Grande Rue Grand Cru', 2224, 'fr', 'fr', 14), ('Richebourg Grand Cru', 2227, 'fr', 'fr', 14), ('Romanée-Saint-Vivant Grand Cru', 2229, 'fr', 'fr', 14), ('Nuits-Saint-Georges', 2230, 'fr', 'fr', 14), ('Corton-Charlemagne Grand Cru', 2236, 'fr', 'fr', 14), ('Corton Grand Cru', 2237, 'fr', 'fr', 14), ('Meursault', 2246, 'fr', 'fr', 14), ('Puligny-Montrachet', 2248, 'fr', 'fr', 14), ('Savennières-Coulée-de-Serrant', 2300, 'fr', 'fr', 14), ('Côtes du Jura', 2410, 'fr', 'fr', 14), ('Vin de France', 3009, 'fr', 'fr', 14), ('Vosne-Romanée Premier Cru', 3015, 'fr', 'fr', 14), ('Chambolle-Musigny Premier Cru', 3016, 'fr', 'fr', 14), ('Pommard Premier Cru', 3021, 'fr', 'fr', 14), ('Puligny-Montrachet Premier Cru', 3022, 'fr', 'fr', 14), ('Chassagne-Montrachet Premier Cru', 3024, 'fr', 'fr', 14), ('Bâtard-Montrachet Grand Cru', 3036, 'fr', 'fr', 14), ('Chevalier-Montrachet Grand Cru', 3037, 'fr', 'fr', 14), ('Montrachet Grand Cru', 3041, 'fr', 'fr', 14), ('Hérault', 3077, 'fr', 'fr', 14), ('Bienvenues-Bâtard-Montrachet Grand Cru', 3138, 'fr', 'fr', 14), ('Luberon', 3265, 'fr', 'fr', 14), ('Pézenas', 3336, 'fr', 'fr', 14), (\"Vosne-Romanée 1er Cru 'Malconsorts'\", 3510, 'fr', 'fr', 14), (\"Vosne-Romanée 1er Cru 'Les Beaux Monts'\", 3516, 'fr', 'fr', 14), (\"Vosne-Romanée 1er Cru 'Les Suchots'\", 3521, 'fr', 'fr', 14), (\"Chablis Grand Cru 'Les Clos'\", 3558, 'fr', 'fr', 14), (\"Chablis Grand Cru 'Valmur'\", 3560, 'fr', 'fr', 14), (\"Beaune 1er Cru 'Le Clos des Mouches'\", 3601, 'fr', 'fr', 14), (\"Chambolle-Musigny 1er Cru 'Les Amoureuses'\", 3678, 'fr', 'fr', 14), (\"Chambolle-Musigny 1er Cru 'Les Feusselottes'\", 3687, 'fr', 'fr', 14), (\"Chambolle-Musigny 1er Cru 'Les Sentiers'\", 3695, 'fr', 'fr', 14), (\"Chassagne-Montrachet 1er Cru 'La Maltroie'\", 3720, 'fr', 'fr', 14), (\"Chassagne-Montrachet 1er Cru 'Morgeot'\", 3745, 'fr', 'fr', 14), (\"Gevrey-Chambertin 1er Cru 'Aux Combottes'\", 3763, 'fr', 'fr', 14), (\"Meursault 1er Cru 'Charmes'\", 3864, 'fr', 'fr', 14), (\"Meursault 1er Cru 'Genevrières'\", 3866, 'fr', 'fr', 14), (\"Meursault 1er Cru 'Perrières'\", 3877, 'fr', 'fr', 14), (\"Nuits-Saint-Georges 1er Cru 'Aux Boudots'\", 3967, 'fr', 'fr', 14), (\"Nuits-Saint-Georges 1er Cru 'Aux Murgers'\", 3972, 'fr', 'fr', 14), (\"Nuits-Saint-Georges 1er Cru 'Aux Thorey'\", 3974, 'fr', 'fr', 14), (\"Nuits-Saint-Georges 1er Cru 'Clos des Corvées'\", 3981, 'fr', 'fr', 14), (\"Nuits-Saint-Georges 1er Cru 'Clos des Porrets Saint-Georges'\", 3985, 'fr', 'fr', 14), (\"Puligny-Montrachet 1er Cru 'Champ Gain'\", 4048, 'fr', 'fr', 14), (\"Puligny-Montrachet 1er Cru 'La Garenne'\", 4053, 'fr', 'fr', 14), (\"Puligny-Montrachet 1er Cru 'La Truffière'\", 4054, 'fr', 'fr', 14), (\"Volnay 1er Cru 'Les Caillerets'\", 4171, 'fr', 'fr', 14), ('Charlemagne Grand Cru', 4311, 'fr', 'fr', 14), (\"Champagne Grand Cru 'Aÿ'\", 4621, 'fr', 'fr', 14), (\"Champagne Grand Cru 'Ambonnay'\", 4624, 'fr', 'fr', 14), (\"Champagne Grand Cru 'Avize'\", 4625, 'fr', 'fr', 14), (\"Champagne Grand Cru 'Le Mesnil-sur-Oger'\", 4631, 'fr', 'fr', 14), ('Champagne Grand Cru', 4638, 'fr', 'fr', 14), ('Champagne Premier Cru', 4639, 'fr', 'fr', 14)]\n"
     ]
    },
    {
     "data": {
      "text/html": [
       "<div>\n",
       "<style scoped>\n",
       "    .dataframe tbody tr th:only-of-type {\n",
       "        vertical-align: middle;\n",
       "    }\n",
       "\n",
       "    .dataframe tbody tr th {\n",
       "        vertical-align: top;\n",
       "    }\n",
       "\n",
       "    .dataframe thead th {\n",
       "        text-align: right;\n",
       "    }\n",
       "</style>\n",
       "<table border=\"1\" class=\"dataframe\">\n",
       "  <thead>\n",
       "    <tr style=\"text-align: right;\">\n",
       "      <th></th>\n",
       "      <th>region_name</th>\n",
       "      <th>region_id</th>\n",
       "      <th>region_country_code</th>\n",
       "      <th>prev_country_code</th>\n",
       "      <th>grape_id</th>\n",
       "    </tr>\n",
       "  </thead>\n",
       "  <tbody>\n",
       "    <tr>\n",
       "      <th>0</th>\n",
       "      <td>South Australia</td>\n",
       "      <td>7</td>\n",
       "      <td>au</td>\n",
       "      <td>au</td>\n",
       "      <td>2</td>\n",
       "    </tr>\n",
       "    <tr>\n",
       "      <th>1</th>\n",
       "      <td>California</td>\n",
       "      <td>24</td>\n",
       "      <td>us</td>\n",
       "      <td>us</td>\n",
       "      <td>2</td>\n",
       "    </tr>\n",
       "    <tr>\n",
       "      <th>2</th>\n",
       "      <td>Napa Valley</td>\n",
       "      <td>25</td>\n",
       "      <td>us</td>\n",
       "      <td>us</td>\n",
       "      <td>2</td>\n",
       "    </tr>\n",
       "    <tr>\n",
       "      <th>3</th>\n",
       "      <td>Sonoma County</td>\n",
       "      <td>26</td>\n",
       "      <td>us</td>\n",
       "      <td>us</td>\n",
       "      <td>2</td>\n",
       "    </tr>\n",
       "    <tr>\n",
       "      <th>4</th>\n",
       "      <td>Oakville</td>\n",
       "      <td>42</td>\n",
       "      <td>us</td>\n",
       "      <td>us</td>\n",
       "      <td>2</td>\n",
       "    </tr>\n",
       "    <tr>\n",
       "      <th>...</th>\n",
       "      <td>...</td>\n",
       "      <td>...</td>\n",
       "      <td>...</td>\n",
       "      <td>...</td>\n",
       "      <td>...</td>\n",
       "    </tr>\n",
       "    <tr>\n",
       "      <th>405</th>\n",
       "      <td>Champagne Grand Cru 'Ambonnay'</td>\n",
       "      <td>4624</td>\n",
       "      <td>fr</td>\n",
       "      <td>fr</td>\n",
       "      <td>14</td>\n",
       "    </tr>\n",
       "    <tr>\n",
       "      <th>406</th>\n",
       "      <td>Champagne Grand Cru 'Avize'</td>\n",
       "      <td>4625</td>\n",
       "      <td>fr</td>\n",
       "      <td>fr</td>\n",
       "      <td>14</td>\n",
       "    </tr>\n",
       "    <tr>\n",
       "      <th>407</th>\n",
       "      <td>Champagne Grand Cru 'Le Mesnil-sur-Oger'</td>\n",
       "      <td>4631</td>\n",
       "      <td>fr</td>\n",
       "      <td>fr</td>\n",
       "      <td>14</td>\n",
       "    </tr>\n",
       "    <tr>\n",
       "      <th>408</th>\n",
       "      <td>Champagne Grand Cru</td>\n",
       "      <td>4638</td>\n",
       "      <td>fr</td>\n",
       "      <td>fr</td>\n",
       "      <td>14</td>\n",
       "    </tr>\n",
       "    <tr>\n",
       "      <th>409</th>\n",
       "      <td>Champagne Premier Cru</td>\n",
       "      <td>4639</td>\n",
       "      <td>fr</td>\n",
       "      <td>fr</td>\n",
       "      <td>14</td>\n",
       "    </tr>\n",
       "  </tbody>\n",
       "</table>\n",
       "<p>410 rows × 5 columns</p>\n",
       "</div>"
      ],
      "text/plain": [
       "                                  region_name  region_id region_country_code  \\\n",
       "0                             South Australia          7                  au   \n",
       "1                                  California         24                  us   \n",
       "2                                 Napa Valley         25                  us   \n",
       "3                               Sonoma County         26                  us   \n",
       "4                                    Oakville         42                  us   \n",
       "..                                        ...        ...                 ...   \n",
       "405            Champagne Grand Cru 'Ambonnay'       4624                  fr   \n",
       "406               Champagne Grand Cru 'Avize'       4625                  fr   \n",
       "407  Champagne Grand Cru 'Le Mesnil-sur-Oger'       4631                  fr   \n",
       "408                       Champagne Grand Cru       4638                  fr   \n",
       "409                     Champagne Premier Cru       4639                  fr   \n",
       "\n",
       "    prev_country_code  grape_id  \n",
       "0                  au         2  \n",
       "1                  us         2  \n",
       "2                  us         2  \n",
       "3                  us         2  \n",
       "4                  us         2  \n",
       "..                ...       ...  \n",
       "405                fr        14  \n",
       "406                fr        14  \n",
       "407                fr        14  \n",
       "408                fr        14  \n",
       "409                fr        14  \n",
       "\n",
       "[410 rows x 5 columns]"
      ]
     },
     "execution_count": 17,
     "metadata": {},
     "output_type": "execute_result"
    }
   ],
   "source": [
    "# 5c - Best 5 wines per type of grapes -  region list  for countries related to most common grapes WW\n",
    "query5c = (\"\"\"\n",
    "\n",
    "WITH countries_most_common_grapes AS (\n",
    "    WITH most_common_grapes_WW AS (\n",
    "            SELECT  DISTINCT \n",
    "                    grapes.name,\n",
    "                    most_used_grapes_per_country.grape_id,\n",
    "                    most_used_grapes_per_country.wines_count AS grapes_count\n",
    "                \n",
    "            FROM    most_used_grapes_per_country\n",
    "                    JOIN grapes ON most_used_grapes_per_country.grape_id = grapes.id\n",
    "            ORDER BY grapes_count DESC\n",
    "            LIMIT 3\n",
    "    )          \n",
    "    SELECT   \n",
    "            most_used_grapes_per_country.grape_id AS grape_id,\n",
    "            most_used_grapes_per_country.country_code as country_code\n",
    "                    \n",
    "    FROM    most_used_grapes_per_country\n",
    "    WHERE   grape_id IN (SELECT grape_id FROM most_common_grapes_WW)\n",
    "    GROUP BY grape_id, country_code\n",
    ")\n",
    "           \n",
    "SELECT\n",
    "    regions.name AS region_name,\n",
    "    regions.id AS region_id,\n",
    "    regions.country_code AS region_country_code,\n",
    "    countries_most_common_grapes.country_code AS prev_country_code,\n",
    "    countries_most_common_grapes.grape_id AS grape_id\n",
    "    \n",
    "    \n",
    "FROM    \n",
    "    regions\n",
    "    JOIN countries_most_common_grapes ON regions.country_code = countries_most_common_grapes.country_code\n",
    "    \n",
    "ORDER BY grape_id, region_id, region_country_code\n",
    "\n",
    "           \n",
    "        \n",
    "\"\"\")\n",
    "\n",
    "\n",
    "cursor.execute(query5c)\n",
    "result = cursor.fetchall()\n",
    "print(\"Number of rows:\", len(result))\n",
    "print (result)\n",
    "df = pd.read_sql_query(query5c, connexion)\n",
    "df"
   ]
  },
  {
   "cell_type": "code",
   "execution_count": 97,
   "metadata": {},
   "outputs": [
    {
     "name": "stdout",
     "output_type": "stream",
     "text": [
      "Number of rows: 15\n",
      "[(2, 1, 'Scarecrow Cabernet Sauvignon 2015', 4.8, 243, 'Cabernet Sauvignon', 4.8, 2941, 'Rutherford', 'us', 'us'), (2, 2, 'Colgin IX Estate Red 2016', 4.8, 131, 'IX Estate Red', 4.7, 2810, 'Napa Valley', 'us', 'us'), (2, 3, 'Harlan Estate Harlan Estate Red 1998', 4.8, 104, 'Harlan Estate Red', 4.7, 7231, 'Napa Valley', 'us', 'us'), (2, 4, 'Artadi Viña El Pison 2018', 4.8, 64, 'Viña El Pison', 4.6, 3027, 'Vino de España', 'es', 'es'), (2, 5, 'Opus One Opus One 2015', 4.7, 4948, 'Opus One', 4.6, 77053, 'Napa Valley', 'us', 'us'), (5, 1, 'Biondi-Santi Brunello di Montalcino Riserva 1955', 4.9, 35, 'Brunello di Montalcino Riserva', 4.6, 3375, 'Brunello di Montalcino', 'it', 'it'), (5, 2, \"Château Doisy-Daëne L'Extravagant de Doisy-Daëne Sauternes 2001\", 4.9, 32, \"L'Extravagant de Doisy-Daëne Sauternes\", 4.6, 465, 'Sauternes', 'fr', 'fr'), (5, 3, 'Pétrus Pomerol 1990', 4.8, 1190, 'Pomerol', 4.7, 32157, 'Pomerol', 'fr', 'fr'), (5, 4, 'Salon Le Mesnil Blanc de Blancs (Cuvée S) Brut Champagne 1996', 4.8, 1004, 'Le Mesnil Blanc de Blancs (Cuvée S) Brut Champagne', 4.7, 9564, \"Champagne Grand Cru 'Le Mesnil-sur-Oger'\", 'fr', 'fr'), (5, 5, 'Château Lafite Rothschild Pauillac (Premier Grand Cru Classé) 2003', 4.8, 1000, 'Pauillac (Premier Grand Cru Classé)', 4.6, 39283, 'Pauillac', 'fr', 'fr'), (14, 1, \"Château Doisy-Daëne L'Extravagant de Doisy-Daëne Sauternes 2001\", 4.9, 32, \"L'Extravagant de Doisy-Daëne Sauternes\", 4.6, 465, 'Sauternes', 'fr', 'fr'), (14, 2, 'Pétrus Pomerol 1990', 4.8, 1190, 'Pomerol', 4.7, 32157, 'Pomerol', 'fr', 'fr'), (14, 3, 'Salon Le Mesnil Blanc de Blancs (Cuvée S) Brut Champagne 1996', 4.8, 1004, 'Le Mesnil Blanc de Blancs (Cuvée S) Brut Champagne', 4.7, 9564, \"Champagne Grand Cru 'Le Mesnil-sur-Oger'\", 'fr', 'fr'), (14, 4, 'Château Lafite Rothschild Pauillac (Premier Grand Cru Classé) 2003', 4.8, 1000, 'Pauillac (Premier Grand Cru Classé)', 4.6, 39283, 'Pauillac', 'fr', 'fr'), (14, 5, 'Château Latour Grand Vin Pauillac (Premier Grand Cru Classé) 2003', 4.8, 920, 'Grand Vin Pauillac (Premier Grand Cru Classé)', 4.6, 38521, 'Pauillac', 'fr', 'fr')]\n"
     ]
    },
    {
     "data": {
      "text/html": [
       "<div>\n",
       "<style scoped>\n",
       "    .dataframe tbody tr th:only-of-type {\n",
       "        vertical-align: middle;\n",
       "    }\n",
       "\n",
       "    .dataframe tbody tr th {\n",
       "        vertical-align: top;\n",
       "    }\n",
       "\n",
       "    .dataframe thead th {\n",
       "        text-align: right;\n",
       "    }\n",
       "</style>\n",
       "<table border=\"1\" class=\"dataframe\">\n",
       "  <thead>\n",
       "    <tr style=\"text-align: right;\">\n",
       "      <th></th>\n",
       "      <th>grape_id</th>\n",
       "      <th>rn</th>\n",
       "      <th>wintage_name</th>\n",
       "      <th>wintages_ratings</th>\n",
       "      <th>vintages_ratings_count</th>\n",
       "      <th>wines_name</th>\n",
       "      <th>wines_ratings</th>\n",
       "      <th>wines_ratings_count</th>\n",
       "      <th>region_name</th>\n",
       "      <th>region_country_code</th>\n",
       "      <th>prev_country_code</th>\n",
       "    </tr>\n",
       "  </thead>\n",
       "  <tbody>\n",
       "    <tr>\n",
       "      <th>0</th>\n",
       "      <td>2</td>\n",
       "      <td>1</td>\n",
       "      <td>Scarecrow Cabernet Sauvignon 2015</td>\n",
       "      <td>4.8</td>\n",
       "      <td>243</td>\n",
       "      <td>Cabernet Sauvignon</td>\n",
       "      <td>4.8</td>\n",
       "      <td>2941</td>\n",
       "      <td>Rutherford</td>\n",
       "      <td>us</td>\n",
       "      <td>us</td>\n",
       "    </tr>\n",
       "    <tr>\n",
       "      <th>1</th>\n",
       "      <td>2</td>\n",
       "      <td>2</td>\n",
       "      <td>Colgin IX Estate Red 2016</td>\n",
       "      <td>4.8</td>\n",
       "      <td>131</td>\n",
       "      <td>IX Estate Red</td>\n",
       "      <td>4.7</td>\n",
       "      <td>2810</td>\n",
       "      <td>Napa Valley</td>\n",
       "      <td>us</td>\n",
       "      <td>us</td>\n",
       "    </tr>\n",
       "    <tr>\n",
       "      <th>2</th>\n",
       "      <td>2</td>\n",
       "      <td>3</td>\n",
       "      <td>Harlan Estate Harlan Estate Red 1998</td>\n",
       "      <td>4.8</td>\n",
       "      <td>104</td>\n",
       "      <td>Harlan Estate Red</td>\n",
       "      <td>4.7</td>\n",
       "      <td>7231</td>\n",
       "      <td>Napa Valley</td>\n",
       "      <td>us</td>\n",
       "      <td>us</td>\n",
       "    </tr>\n",
       "    <tr>\n",
       "      <th>3</th>\n",
       "      <td>2</td>\n",
       "      <td>4</td>\n",
       "      <td>Artadi Viña El Pison 2018</td>\n",
       "      <td>4.8</td>\n",
       "      <td>64</td>\n",
       "      <td>Viña El Pison</td>\n",
       "      <td>4.6</td>\n",
       "      <td>3027</td>\n",
       "      <td>Vino de España</td>\n",
       "      <td>es</td>\n",
       "      <td>es</td>\n",
       "    </tr>\n",
       "    <tr>\n",
       "      <th>4</th>\n",
       "      <td>2</td>\n",
       "      <td>5</td>\n",
       "      <td>Opus One Opus One 2015</td>\n",
       "      <td>4.7</td>\n",
       "      <td>4948</td>\n",
       "      <td>Opus One</td>\n",
       "      <td>4.6</td>\n",
       "      <td>77053</td>\n",
       "      <td>Napa Valley</td>\n",
       "      <td>us</td>\n",
       "      <td>us</td>\n",
       "    </tr>\n",
       "    <tr>\n",
       "      <th>5</th>\n",
       "      <td>5</td>\n",
       "      <td>1</td>\n",
       "      <td>Biondi-Santi Brunello di Montalcino Riserva 1955</td>\n",
       "      <td>4.9</td>\n",
       "      <td>35</td>\n",
       "      <td>Brunello di Montalcino Riserva</td>\n",
       "      <td>4.6</td>\n",
       "      <td>3375</td>\n",
       "      <td>Brunello di Montalcino</td>\n",
       "      <td>it</td>\n",
       "      <td>it</td>\n",
       "    </tr>\n",
       "    <tr>\n",
       "      <th>6</th>\n",
       "      <td>5</td>\n",
       "      <td>2</td>\n",
       "      <td>Château Doisy-Daëne L'Extravagant de Doisy-Daë...</td>\n",
       "      <td>4.9</td>\n",
       "      <td>32</td>\n",
       "      <td>L'Extravagant de Doisy-Daëne Sauternes</td>\n",
       "      <td>4.6</td>\n",
       "      <td>465</td>\n",
       "      <td>Sauternes</td>\n",
       "      <td>fr</td>\n",
       "      <td>fr</td>\n",
       "    </tr>\n",
       "    <tr>\n",
       "      <th>7</th>\n",
       "      <td>5</td>\n",
       "      <td>3</td>\n",
       "      <td>Pétrus Pomerol 1990</td>\n",
       "      <td>4.8</td>\n",
       "      <td>1190</td>\n",
       "      <td>Pomerol</td>\n",
       "      <td>4.7</td>\n",
       "      <td>32157</td>\n",
       "      <td>Pomerol</td>\n",
       "      <td>fr</td>\n",
       "      <td>fr</td>\n",
       "    </tr>\n",
       "    <tr>\n",
       "      <th>8</th>\n",
       "      <td>5</td>\n",
       "      <td>4</td>\n",
       "      <td>Salon Le Mesnil Blanc de Blancs (Cuvée S) Brut...</td>\n",
       "      <td>4.8</td>\n",
       "      <td>1004</td>\n",
       "      <td>Le Mesnil Blanc de Blancs (Cuvée S) Brut Champ...</td>\n",
       "      <td>4.7</td>\n",
       "      <td>9564</td>\n",
       "      <td>Champagne Grand Cru 'Le Mesnil-sur-Oger'</td>\n",
       "      <td>fr</td>\n",
       "      <td>fr</td>\n",
       "    </tr>\n",
       "    <tr>\n",
       "      <th>9</th>\n",
       "      <td>5</td>\n",
       "      <td>5</td>\n",
       "      <td>Château Lafite Rothschild Pauillac (Premier Gr...</td>\n",
       "      <td>4.8</td>\n",
       "      <td>1000</td>\n",
       "      <td>Pauillac (Premier Grand Cru Classé)</td>\n",
       "      <td>4.6</td>\n",
       "      <td>39283</td>\n",
       "      <td>Pauillac</td>\n",
       "      <td>fr</td>\n",
       "      <td>fr</td>\n",
       "    </tr>\n",
       "    <tr>\n",
       "      <th>10</th>\n",
       "      <td>14</td>\n",
       "      <td>1</td>\n",
       "      <td>Château Doisy-Daëne L'Extravagant de Doisy-Daë...</td>\n",
       "      <td>4.9</td>\n",
       "      <td>32</td>\n",
       "      <td>L'Extravagant de Doisy-Daëne Sauternes</td>\n",
       "      <td>4.6</td>\n",
       "      <td>465</td>\n",
       "      <td>Sauternes</td>\n",
       "      <td>fr</td>\n",
       "      <td>fr</td>\n",
       "    </tr>\n",
       "    <tr>\n",
       "      <th>11</th>\n",
       "      <td>14</td>\n",
       "      <td>2</td>\n",
       "      <td>Pétrus Pomerol 1990</td>\n",
       "      <td>4.8</td>\n",
       "      <td>1190</td>\n",
       "      <td>Pomerol</td>\n",
       "      <td>4.7</td>\n",
       "      <td>32157</td>\n",
       "      <td>Pomerol</td>\n",
       "      <td>fr</td>\n",
       "      <td>fr</td>\n",
       "    </tr>\n",
       "    <tr>\n",
       "      <th>12</th>\n",
       "      <td>14</td>\n",
       "      <td>3</td>\n",
       "      <td>Salon Le Mesnil Blanc de Blancs (Cuvée S) Brut...</td>\n",
       "      <td>4.8</td>\n",
       "      <td>1004</td>\n",
       "      <td>Le Mesnil Blanc de Blancs (Cuvée S) Brut Champ...</td>\n",
       "      <td>4.7</td>\n",
       "      <td>9564</td>\n",
       "      <td>Champagne Grand Cru 'Le Mesnil-sur-Oger'</td>\n",
       "      <td>fr</td>\n",
       "      <td>fr</td>\n",
       "    </tr>\n",
       "    <tr>\n",
       "      <th>13</th>\n",
       "      <td>14</td>\n",
       "      <td>4</td>\n",
       "      <td>Château Lafite Rothschild Pauillac (Premier Gr...</td>\n",
       "      <td>4.8</td>\n",
       "      <td>1000</td>\n",
       "      <td>Pauillac (Premier Grand Cru Classé)</td>\n",
       "      <td>4.6</td>\n",
       "      <td>39283</td>\n",
       "      <td>Pauillac</td>\n",
       "      <td>fr</td>\n",
       "      <td>fr</td>\n",
       "    </tr>\n",
       "    <tr>\n",
       "      <th>14</th>\n",
       "      <td>14</td>\n",
       "      <td>5</td>\n",
       "      <td>Château Latour Grand Vin Pauillac (Premier Gra...</td>\n",
       "      <td>4.8</td>\n",
       "      <td>920</td>\n",
       "      <td>Grand Vin Pauillac (Premier Grand Cru Classé)</td>\n",
       "      <td>4.6</td>\n",
       "      <td>38521</td>\n",
       "      <td>Pauillac</td>\n",
       "      <td>fr</td>\n",
       "      <td>fr</td>\n",
       "    </tr>\n",
       "  </tbody>\n",
       "</table>\n",
       "</div>"
      ],
      "text/plain": [
       "    grape_id  rn                                       wintage_name  \\\n",
       "0          2   1                  Scarecrow Cabernet Sauvignon 2015   \n",
       "1          2   2                          Colgin IX Estate Red 2016   \n",
       "2          2   3               Harlan Estate Harlan Estate Red 1998   \n",
       "3          2   4                          Artadi Viña El Pison 2018   \n",
       "4          2   5                             Opus One Opus One 2015   \n",
       "5          5   1   Biondi-Santi Brunello di Montalcino Riserva 1955   \n",
       "6          5   2  Château Doisy-Daëne L'Extravagant de Doisy-Daë...   \n",
       "7          5   3                                Pétrus Pomerol 1990   \n",
       "8          5   4  Salon Le Mesnil Blanc de Blancs (Cuvée S) Brut...   \n",
       "9          5   5  Château Lafite Rothschild Pauillac (Premier Gr...   \n",
       "10        14   1  Château Doisy-Daëne L'Extravagant de Doisy-Daë...   \n",
       "11        14   2                                Pétrus Pomerol 1990   \n",
       "12        14   3  Salon Le Mesnil Blanc de Blancs (Cuvée S) Brut...   \n",
       "13        14   4  Château Lafite Rothschild Pauillac (Premier Gr...   \n",
       "14        14   5  Château Latour Grand Vin Pauillac (Premier Gra...   \n",
       "\n",
       "    wintages_ratings  vintages_ratings_count  \\\n",
       "0                4.8                     243   \n",
       "1                4.8                     131   \n",
       "2                4.8                     104   \n",
       "3                4.8                      64   \n",
       "4                4.7                    4948   \n",
       "5                4.9                      35   \n",
       "6                4.9                      32   \n",
       "7                4.8                    1190   \n",
       "8                4.8                    1004   \n",
       "9                4.8                    1000   \n",
       "10               4.9                      32   \n",
       "11               4.8                    1190   \n",
       "12               4.8                    1004   \n",
       "13               4.8                    1000   \n",
       "14               4.8                     920   \n",
       "\n",
       "                                           wines_name  wines_ratings  \\\n",
       "0                                  Cabernet Sauvignon            4.8   \n",
       "1                                       IX Estate Red            4.7   \n",
       "2                                   Harlan Estate Red            4.7   \n",
       "3                                       Viña El Pison            4.6   \n",
       "4                                            Opus One            4.6   \n",
       "5                      Brunello di Montalcino Riserva            4.6   \n",
       "6              L'Extravagant de Doisy-Daëne Sauternes            4.6   \n",
       "7                                             Pomerol            4.7   \n",
       "8   Le Mesnil Blanc de Blancs (Cuvée S) Brut Champ...            4.7   \n",
       "9                 Pauillac (Premier Grand Cru Classé)            4.6   \n",
       "10             L'Extravagant de Doisy-Daëne Sauternes            4.6   \n",
       "11                                            Pomerol            4.7   \n",
       "12  Le Mesnil Blanc de Blancs (Cuvée S) Brut Champ...            4.7   \n",
       "13                Pauillac (Premier Grand Cru Classé)            4.6   \n",
       "14      Grand Vin Pauillac (Premier Grand Cru Classé)            4.6   \n",
       "\n",
       "    wines_ratings_count                               region_name  \\\n",
       "0                  2941                                Rutherford   \n",
       "1                  2810                               Napa Valley   \n",
       "2                  7231                               Napa Valley   \n",
       "3                  3027                            Vino de España   \n",
       "4                 77053                               Napa Valley   \n",
       "5                  3375                    Brunello di Montalcino   \n",
       "6                   465                                 Sauternes   \n",
       "7                 32157                                   Pomerol   \n",
       "8                  9564  Champagne Grand Cru 'Le Mesnil-sur-Oger'   \n",
       "9                 39283                                  Pauillac   \n",
       "10                  465                                 Sauternes   \n",
       "11                32157                                   Pomerol   \n",
       "12                 9564  Champagne Grand Cru 'Le Mesnil-sur-Oger'   \n",
       "13                39283                                  Pauillac   \n",
       "14                38521                                  Pauillac   \n",
       "\n",
       "   region_country_code prev_country_code  \n",
       "0                   us                us  \n",
       "1                   us                us  \n",
       "2                   us                us  \n",
       "3                   es                es  \n",
       "4                   us                us  \n",
       "5                   it                it  \n",
       "6                   fr                fr  \n",
       "7                   fr                fr  \n",
       "8                   fr                fr  \n",
       "9                   fr                fr  \n",
       "10                  fr                fr  \n",
       "11                  fr                fr  \n",
       "12                  fr                fr  \n",
       "13                  fr                fr  \n",
       "14                  fr                fr  "
      ]
     },
     "execution_count": 97,
     "metadata": {},
     "output_type": "execute_result"
    }
   ],
   "source": [
    "# 5c - Best 5 wines per type of grapes - all together and extracting the 5 best for each grapes from all region in  the region list\n",
    "query5d = (\"\"\"\n",
    "\n",
    "WITH countries_most_common_grapes AS (\n",
    "    WITH most_common_grapes_WW AS (\n",
    "            SELECT  DISTINCT \n",
    "                    grapes.name,\n",
    "                    most_used_grapes_per_country.grape_id,\n",
    "                    most_used_grapes_per_country.wines_count AS grapes_count\n",
    "                \n",
    "            FROM    most_used_grapes_per_country\n",
    "                    JOIN grapes ON most_used_grapes_per_country.grape_id = grapes.id\n",
    "            ORDER BY grapes_count DESC\n",
    "            LIMIT 3\n",
    "    )          \n",
    "    SELECT   \n",
    "            most_used_grapes_per_country.grape_id AS grape_id,\n",
    "            most_used_grapes_per_country.country_code as country_code\n",
    "                    \n",
    "    FROM    most_used_grapes_per_country\n",
    "    WHERE   grape_id IN (SELECT grape_id FROM most_common_grapes_WW)\n",
    "    GROUP BY grape_id, country_code\n",
    "),\n",
    "\n",
    "ranked_wines AS ( \n",
    "        SELECT\n",
    "                countries_most_common_grapes.grape_id AS grape_id,\n",
    "                ROW_NUMBER() OVER(\n",
    "                        PARTITION BY countries_most_common_grapes.grape_id \n",
    "                        ORDER BY vintages.ratings_average DESC, \n",
    "                        vintages.ratings_count DESC\n",
    "                        ) as rn,\n",
    "                vintages.name as wintage_name,\n",
    "                vintages.ratings_average AS wintages_ratings,\n",
    "                vintages.ratings_count as vintages_ratings_count,\n",
    "                wines.name as wines_name,\n",
    "                wines.ratings_average AS wines_ratings,\n",
    "                wines.ratings_count as wines_ratings_count,\n",
    "                regions.name AS region_name,\n",
    "                regions.country_code AS region_country_code,\n",
    "                countries_most_common_grapes.country_code AS prev_country_code\n",
    "                --wines.region_id as wines_region_id,\n",
    "                --regions.id AS region_id,\n",
    "                \n",
    "                   \n",
    "                \n",
    "        FROM    regions\n",
    "                JOIN vintages ON wines.id = vintages.wine_id\n",
    "                JOIN wines ON regions.id = wines.region_id\n",
    "                JOIN countries  ON regions.country_code = countries.code\n",
    "                --JOIN countries_most_common_grapes ON regions.country_code = countries_most_common_grapes.country_code\n",
    "                JOIN countries_most_common_grapes ON countries.code = countries_most_common_grapes.country_code\n",
    "                \n",
    ")\n",
    "           \n",
    "SELECT * FROM ranked_wines WHERE rn <= 5\n",
    "        \n",
    "\"\"\")\n",
    "\n",
    "\n",
    "cursor.execute(query5d)\n",
    "result = cursor.fetchall()\n",
    "print(\"Number of rows:\", len(result))\n",
    "print (result)\n",
    "df = pd.read_sql_query(query5d, connexion)\n",
    "df"
   ]
  },
  {
   "cell_type": "code",
   "execution_count": 91,
   "metadata": {},
   "outputs": [
    {
     "name": "stdout",
     "output_type": "stream",
     "text": [
      "Number of rows: 17\n"
     ]
    },
    {
     "data": {
      "application/vnd.plotly.v1+json": {
       "config": {
        "plotlyServerURL": "https://plot.ly"
       },
       "data": [
        {
         "alignmentgroup": "True",
         "hovertemplate": "=%{marker.color}<extra></extra>",
         "legendgroup": "",
         "marker": {
          "color": [
           4.500000000000001,
           4.5,
           4.4905405405405405,
           4.4799999999999995,
           4.472727272727273,
           4.459090909090909,
           4.458333333333333,
           4.447129909365562,
           4.4436170212765935,
           4.435714285714287,
           4.43125,
           4.430026109660581,
           4.417391304347826,
           4.4,
           4.4,
           4.35,
           4.3
          ],
          "coloraxis": "coloraxis",
          "pattern": {
           "shape": ""
          }
         },
         "name": "",
         "offsetgroup": "",
         "orientation": "v",
         "showlegend": false,
         "textposition": "auto",
         "type": "bar",
         "x": [
          "Allemagne",
          "Israël",
          "États-Unis",
          "Moldavie",
          "Hongrie",
          "Afrique du Sud",
          "Australie",
          "France",
          "Espagne",
          "Portugal",
          "Chili",
          "Italie",
          "Argentine",
          "Grèce",
          "Roumanie",
          "Suisse",
          "Croatie"
         ],
         "xaxis": "x",
         "y": [
          4.500000000000001,
          4.5,
          4.4905405405405405,
          4.4799999999999995,
          4.472727272727273,
          4.459090909090909,
          4.458333333333333,
          4.447129909365562,
          4.4436170212765935,
          4.435714285714287,
          4.43125,
          4.430026109660581,
          4.417391304347826,
          4.4,
          4.4,
          4.35,
          4.3
         ],
         "yaxis": "y"
        }
       ],
       "layout": {
        "annotations": [
         {
          "align": "left",
          "ax": 0,
          "ay": 0,
          "bordercolor": "white",
          "borderpad": 4,
          "borderwidth": 1,
          "font": {
           "color": "black",
           "size": 14
          },
          "showarrow": false,
          "text": "<b>Rating</b>",
          "x": -0.04,
          "xref": "paper",
          "y": 1.15,
          "yref": "paper"
         }
        ],
        "barmode": "relative",
        "coloraxis": {
         "colorbar": {
          "title": {
           "text": ""
          }
         },
         "colorscale": [
          [
           0,
           "rgb(243, 203, 211)"
          ],
          [
           0.16666666666666666,
           "rgb(234, 169, 189)"
          ],
          [
           0.3333333333333333,
           "rgb(221, 136, 172)"
          ],
          [
           0.5,
           "rgb(202, 105, 157)"
          ],
          [
           0.6666666666666666,
           "rgb(177, 77, 142)"
          ],
          [
           0.8333333333333334,
           "rgb(145, 53, 125)"
          ],
          [
           1,
           "rgb(108, 33, 103)"
          ]
         ]
        },
        "legend": {
         "tracegroupgap": 0
        },
        "template": {
         "data": {
          "bar": [
           {
            "error_x": {
             "color": "#2a3f5f"
            },
            "error_y": {
             "color": "#2a3f5f"
            },
            "marker": {
             "line": {
              "color": "#E5ECF6",
              "width": 0.5
             },
             "pattern": {
              "fillmode": "overlay",
              "size": 10,
              "solidity": 0.2
             }
            },
            "type": "bar"
           }
          ],
          "barpolar": [
           {
            "marker": {
             "line": {
              "color": "#E5ECF6",
              "width": 0.5
             },
             "pattern": {
              "fillmode": "overlay",
              "size": 10,
              "solidity": 0.2
             }
            },
            "type": "barpolar"
           }
          ],
          "carpet": [
           {
            "aaxis": {
             "endlinecolor": "#2a3f5f",
             "gridcolor": "white",
             "linecolor": "white",
             "minorgridcolor": "white",
             "startlinecolor": "#2a3f5f"
            },
            "baxis": {
             "endlinecolor": "#2a3f5f",
             "gridcolor": "white",
             "linecolor": "white",
             "minorgridcolor": "white",
             "startlinecolor": "#2a3f5f"
            },
            "type": "carpet"
           }
          ],
          "choropleth": [
           {
            "colorbar": {
             "outlinewidth": 0,
             "ticks": ""
            },
            "type": "choropleth"
           }
          ],
          "contour": [
           {
            "colorbar": {
             "outlinewidth": 0,
             "ticks": ""
            },
            "colorscale": [
             [
              0,
              "#0d0887"
             ],
             [
              0.1111111111111111,
              "#46039f"
             ],
             [
              0.2222222222222222,
              "#7201a8"
             ],
             [
              0.3333333333333333,
              "#9c179e"
             ],
             [
              0.4444444444444444,
              "#bd3786"
             ],
             [
              0.5555555555555556,
              "#d8576b"
             ],
             [
              0.6666666666666666,
              "#ed7953"
             ],
             [
              0.7777777777777778,
              "#fb9f3a"
             ],
             [
              0.8888888888888888,
              "#fdca26"
             ],
             [
              1,
              "#f0f921"
             ]
            ],
            "type": "contour"
           }
          ],
          "contourcarpet": [
           {
            "colorbar": {
             "outlinewidth": 0,
             "ticks": ""
            },
            "type": "contourcarpet"
           }
          ],
          "heatmap": [
           {
            "colorbar": {
             "outlinewidth": 0,
             "ticks": ""
            },
            "colorscale": [
             [
              0,
              "#0d0887"
             ],
             [
              0.1111111111111111,
              "#46039f"
             ],
             [
              0.2222222222222222,
              "#7201a8"
             ],
             [
              0.3333333333333333,
              "#9c179e"
             ],
             [
              0.4444444444444444,
              "#bd3786"
             ],
             [
              0.5555555555555556,
              "#d8576b"
             ],
             [
              0.6666666666666666,
              "#ed7953"
             ],
             [
              0.7777777777777778,
              "#fb9f3a"
             ],
             [
              0.8888888888888888,
              "#fdca26"
             ],
             [
              1,
              "#f0f921"
             ]
            ],
            "type": "heatmap"
           }
          ],
          "heatmapgl": [
           {
            "colorbar": {
             "outlinewidth": 0,
             "ticks": ""
            },
            "colorscale": [
             [
              0,
              "#0d0887"
             ],
             [
              0.1111111111111111,
              "#46039f"
             ],
             [
              0.2222222222222222,
              "#7201a8"
             ],
             [
              0.3333333333333333,
              "#9c179e"
             ],
             [
              0.4444444444444444,
              "#bd3786"
             ],
             [
              0.5555555555555556,
              "#d8576b"
             ],
             [
              0.6666666666666666,
              "#ed7953"
             ],
             [
              0.7777777777777778,
              "#fb9f3a"
             ],
             [
              0.8888888888888888,
              "#fdca26"
             ],
             [
              1,
              "#f0f921"
             ]
            ],
            "type": "heatmapgl"
           }
          ],
          "histogram": [
           {
            "marker": {
             "pattern": {
              "fillmode": "overlay",
              "size": 10,
              "solidity": 0.2
             }
            },
            "type": "histogram"
           }
          ],
          "histogram2d": [
           {
            "colorbar": {
             "outlinewidth": 0,
             "ticks": ""
            },
            "colorscale": [
             [
              0,
              "#0d0887"
             ],
             [
              0.1111111111111111,
              "#46039f"
             ],
             [
              0.2222222222222222,
              "#7201a8"
             ],
             [
              0.3333333333333333,
              "#9c179e"
             ],
             [
              0.4444444444444444,
              "#bd3786"
             ],
             [
              0.5555555555555556,
              "#d8576b"
             ],
             [
              0.6666666666666666,
              "#ed7953"
             ],
             [
              0.7777777777777778,
              "#fb9f3a"
             ],
             [
              0.8888888888888888,
              "#fdca26"
             ],
             [
              1,
              "#f0f921"
             ]
            ],
            "type": "histogram2d"
           }
          ],
          "histogram2dcontour": [
           {
            "colorbar": {
             "outlinewidth": 0,
             "ticks": ""
            },
            "colorscale": [
             [
              0,
              "#0d0887"
             ],
             [
              0.1111111111111111,
              "#46039f"
             ],
             [
              0.2222222222222222,
              "#7201a8"
             ],
             [
              0.3333333333333333,
              "#9c179e"
             ],
             [
              0.4444444444444444,
              "#bd3786"
             ],
             [
              0.5555555555555556,
              "#d8576b"
             ],
             [
              0.6666666666666666,
              "#ed7953"
             ],
             [
              0.7777777777777778,
              "#fb9f3a"
             ],
             [
              0.8888888888888888,
              "#fdca26"
             ],
             [
              1,
              "#f0f921"
             ]
            ],
            "type": "histogram2dcontour"
           }
          ],
          "mesh3d": [
           {
            "colorbar": {
             "outlinewidth": 0,
             "ticks": ""
            },
            "type": "mesh3d"
           }
          ],
          "parcoords": [
           {
            "line": {
             "colorbar": {
              "outlinewidth": 0,
              "ticks": ""
             }
            },
            "type": "parcoords"
           }
          ],
          "pie": [
           {
            "automargin": true,
            "type": "pie"
           }
          ],
          "scatter": [
           {
            "fillpattern": {
             "fillmode": "overlay",
             "size": 10,
             "solidity": 0.2
            },
            "type": "scatter"
           }
          ],
          "scatter3d": [
           {
            "line": {
             "colorbar": {
              "outlinewidth": 0,
              "ticks": ""
             }
            },
            "marker": {
             "colorbar": {
              "outlinewidth": 0,
              "ticks": ""
             }
            },
            "type": "scatter3d"
           }
          ],
          "scattercarpet": [
           {
            "marker": {
             "colorbar": {
              "outlinewidth": 0,
              "ticks": ""
             }
            },
            "type": "scattercarpet"
           }
          ],
          "scattergeo": [
           {
            "marker": {
             "colorbar": {
              "outlinewidth": 0,
              "ticks": ""
             }
            },
            "type": "scattergeo"
           }
          ],
          "scattergl": [
           {
            "marker": {
             "colorbar": {
              "outlinewidth": 0,
              "ticks": ""
             }
            },
            "type": "scattergl"
           }
          ],
          "scattermapbox": [
           {
            "marker": {
             "colorbar": {
              "outlinewidth": 0,
              "ticks": ""
             }
            },
            "type": "scattermapbox"
           }
          ],
          "scatterpolar": [
           {
            "marker": {
             "colorbar": {
              "outlinewidth": 0,
              "ticks": ""
             }
            },
            "type": "scatterpolar"
           }
          ],
          "scatterpolargl": [
           {
            "marker": {
             "colorbar": {
              "outlinewidth": 0,
              "ticks": ""
             }
            },
            "type": "scatterpolargl"
           }
          ],
          "scatterternary": [
           {
            "marker": {
             "colorbar": {
              "outlinewidth": 0,
              "ticks": ""
             }
            },
            "type": "scatterternary"
           }
          ],
          "surface": [
           {
            "colorbar": {
             "outlinewidth": 0,
             "ticks": ""
            },
            "colorscale": [
             [
              0,
              "#0d0887"
             ],
             [
              0.1111111111111111,
              "#46039f"
             ],
             [
              0.2222222222222222,
              "#7201a8"
             ],
             [
              0.3333333333333333,
              "#9c179e"
             ],
             [
              0.4444444444444444,
              "#bd3786"
             ],
             [
              0.5555555555555556,
              "#d8576b"
             ],
             [
              0.6666666666666666,
              "#ed7953"
             ],
             [
              0.7777777777777778,
              "#fb9f3a"
             ],
             [
              0.8888888888888888,
              "#fdca26"
             ],
             [
              1,
              "#f0f921"
             ]
            ],
            "type": "surface"
           }
          ],
          "table": [
           {
            "cells": {
             "fill": {
              "color": "#EBF0F8"
             },
             "line": {
              "color": "white"
             }
            },
            "header": {
             "fill": {
              "color": "#C8D4E3"
             },
             "line": {
              "color": "white"
             }
            },
            "type": "table"
           }
          ]
         },
         "layout": {
          "annotationdefaults": {
           "arrowcolor": "#2a3f5f",
           "arrowhead": 0,
           "arrowwidth": 1
          },
          "autotypenumbers": "strict",
          "coloraxis": {
           "colorbar": {
            "outlinewidth": 0,
            "ticks": ""
           }
          },
          "colorscale": {
           "diverging": [
            [
             0,
             "#8e0152"
            ],
            [
             0.1,
             "#c51b7d"
            ],
            [
             0.2,
             "#de77ae"
            ],
            [
             0.3,
             "#f1b6da"
            ],
            [
             0.4,
             "#fde0ef"
            ],
            [
             0.5,
             "#f7f7f7"
            ],
            [
             0.6,
             "#e6f5d0"
            ],
            [
             0.7,
             "#b8e186"
            ],
            [
             0.8,
             "#7fbc41"
            ],
            [
             0.9,
             "#4d9221"
            ],
            [
             1,
             "#276419"
            ]
           ],
           "sequential": [
            [
             0,
             "#0d0887"
            ],
            [
             0.1111111111111111,
             "#46039f"
            ],
            [
             0.2222222222222222,
             "#7201a8"
            ],
            [
             0.3333333333333333,
             "#9c179e"
            ],
            [
             0.4444444444444444,
             "#bd3786"
            ],
            [
             0.5555555555555556,
             "#d8576b"
            ],
            [
             0.6666666666666666,
             "#ed7953"
            ],
            [
             0.7777777777777778,
             "#fb9f3a"
            ],
            [
             0.8888888888888888,
             "#fdca26"
            ],
            [
             1,
             "#f0f921"
            ]
           ],
           "sequentialminus": [
            [
             0,
             "#0d0887"
            ],
            [
             0.1111111111111111,
             "#46039f"
            ],
            [
             0.2222222222222222,
             "#7201a8"
            ],
            [
             0.3333333333333333,
             "#9c179e"
            ],
            [
             0.4444444444444444,
             "#bd3786"
            ],
            [
             0.5555555555555556,
             "#d8576b"
            ],
            [
             0.6666666666666666,
             "#ed7953"
            ],
            [
             0.7777777777777778,
             "#fb9f3a"
            ],
            [
             0.8888888888888888,
             "#fdca26"
            ],
            [
             1,
             "#f0f921"
            ]
           ]
          },
          "colorway": [
           "#636efa",
           "#EF553B",
           "#00cc96",
           "#ab63fa",
           "#FFA15A",
           "#19d3f3",
           "#FF6692",
           "#B6E880",
           "#FF97FF",
           "#FECB52"
          ],
          "font": {
           "color": "#2a3f5f"
          },
          "geo": {
           "bgcolor": "white",
           "lakecolor": "white",
           "landcolor": "#E5ECF6",
           "showlakes": true,
           "showland": true,
           "subunitcolor": "white"
          },
          "hoverlabel": {
           "align": "left"
          },
          "hovermode": "closest",
          "mapbox": {
           "style": "light"
          },
          "paper_bgcolor": "white",
          "plot_bgcolor": "#E5ECF6",
          "polar": {
           "angularaxis": {
            "gridcolor": "white",
            "linecolor": "white",
            "ticks": ""
           },
           "bgcolor": "#E5ECF6",
           "radialaxis": {
            "gridcolor": "white",
            "linecolor": "white",
            "ticks": ""
           }
          },
          "scene": {
           "xaxis": {
            "backgroundcolor": "#E5ECF6",
            "gridcolor": "white",
            "gridwidth": 2,
            "linecolor": "white",
            "showbackground": true,
            "ticks": "",
            "zerolinecolor": "white"
           },
           "yaxis": {
            "backgroundcolor": "#E5ECF6",
            "gridcolor": "white",
            "gridwidth": 2,
            "linecolor": "white",
            "showbackground": true,
            "ticks": "",
            "zerolinecolor": "white"
           },
           "zaxis": {
            "backgroundcolor": "#E5ECF6",
            "gridcolor": "white",
            "gridwidth": 2,
            "linecolor": "white",
            "showbackground": true,
            "ticks": "",
            "zerolinecolor": "white"
           }
          },
          "shapedefaults": {
           "line": {
            "color": "#2a3f5f"
           }
          },
          "ternary": {
           "aaxis": {
            "gridcolor": "white",
            "linecolor": "white",
            "ticks": ""
           },
           "baxis": {
            "gridcolor": "white",
            "linecolor": "white",
            "ticks": ""
           },
           "bgcolor": "#E5ECF6",
           "caxis": {
            "gridcolor": "white",
            "linecolor": "white",
            "ticks": ""
           }
          },
          "title": {
           "x": 0.05
          },
          "xaxis": {
           "automargin": true,
           "gridcolor": "white",
           "linecolor": "white",
           "ticks": "",
           "title": {
            "standoff": 15
           },
           "zerolinecolor": "white",
           "zerolinewidth": 2
          },
          "yaxis": {
           "automargin": true,
           "gridcolor": "white",
           "linecolor": "white",
           "ticks": "",
           "title": {
            "standoff": 15
           },
           "zerolinecolor": "white",
           "zerolinewidth": 2
          }
         }
        },
        "title": {
         "font": {
          "size": 26
         },
         "text": "<b>Wines Rating per Country</b>",
         "x": 0.5,
         "xanchor": "center",
         "y": 0.95,
         "yanchor": "top"
        },
        "xaxis": {
         "anchor": "y",
         "domain": [
          0,
          1
         ],
         "title": {
          "text": ""
         }
        },
        "yaxis": {
         "anchor": "x",
         "domain": [
          0,
          1
         ],
         "dtick": 0.5,
         "range": [
          4,
          4.500000000000001
         ],
         "title": {
          "text": ""
         }
        }
       }
      }
     },
     "metadata": {},
     "output_type": "display_data"
    }
   ],
   "source": [
    "# 6a - Country rates on wines vizualisation \n",
    "query6a= (\"\"\"\n",
    "SELECT  countries.name AS Country,\n",
    "        countries.wines_count AS wines_nb,\n",
    "        countries.wineries_count AS wineries_nb,\n",
    "        AVG(wines.ratings_average)  AS ratings_avg, \n",
    "        AVG(wines.ratings_count) AS ratings_count_avg\n",
    "        \n",
    "        \n",
    "FROM    countries\n",
    "        JOIN regions ON countries.code = regions.country_code\n",
    "        JOIN wines ON regions.id = wines.region_id\n",
    "\n",
    "GROUP BY countries.name\n",
    "ORDER BY AVG(wines.ratings_average) DESC, AVG(wines.ratings_count) DESC\n",
    "\n",
    "\"\"\") \n",
    "\n",
    "cursor.execute(query6a)\n",
    "result = cursor.fetchall()\n",
    "print(\"Number of rows:\", len(result))\n",
    "#print (result)\n",
    "df = pd.read_sql_query(query6a, connexion)\n",
    "df\n",
    "\n",
    "\n",
    "\n",
    "\n",
    "fig1 = px.bar(df.sort_values('ratings_avg', ascending=False), \n",
    "             x='Country', \n",
    "             y='ratings_avg', \n",
    "             title='Wines Rating per Country',\n",
    "             labels={'ratings_avg': '', 'Country': ''},\n",
    "             color='ratings_avg',\n",
    "             color_continuous_scale=px.colors.sequential.Magenta)\n",
    "\n",
    "# Improve the layout\n",
    "fig1.update_yaxes(range=[4, max(df['ratings_avg'])], dtick=0.5)\n",
    "fig1.update_layout(\n",
    "    title={\n",
    "        'text': \"<b>Wines Rating per Country</b>\",\n",
    "        'y':0.95,\n",
    "        'x':0.5,\n",
    "        'xanchor': 'center',\n",
    "        'yanchor': 'top',\n",
    "        'font': {'size': 26}\n",
    "        })\n",
    "\n",
    "fig1.add_annotation(\n",
    "    xref='paper',\n",
    "    yref='paper',\n",
    "    x=-0.04,\n",
    "    y=1.15,\n",
    "    text='<b>Rating</b>',\n",
    "    showarrow=False,\n",
    "    font=dict(\n",
    "        size=14,\n",
    "        color=\"black\"\n",
    "    ),\n",
    "    align='left',\n",
    "    ax=0,\n",
    "    ay=0,\n",
    "    bordercolor='white',\n",
    "    borderwidth=1,\n",
    "    borderpad=4\n",
    ")\n",
    "\n",
    "fig1.show()\n",
    "\n",
    "\n",
    "# fig2 = px.scatter(df, x=\"wineries_nb\", y=\"wines_nb\", trendline=\"ols\", \n",
    "#                   title='Correlation between Number of Wineries and Wines',\n",
    "#                   color_discrete_sequence=['blue'], # set the color of the first trace to blue\n",
    "#                   labels={'wines_nb': 'Wines Numbers'}) # set the name of the first trace\n",
    "# fig2.show()\n",
    "\n",
    "\n",
    "# df['ratings_avg_normalized'] = (df['ratings_avg'] - df['ratings_avg'].min()) / (df['ratings_avg'].max() - df['ratings_avg'].min())\n",
    "# df['ratings_count_avg_normalized'] = (df['ratings_count_avg'] - df['ratings_count_avg'].min()) / (df['ratings_count_avg'].max() - df['ratings_count_avg'].min())\n",
    "# fig3 = px.scatter(df, x=\"wineries_nb\", y=\"ratings_count_avg_normalized\", trendline=\"ols\", \n",
    "#                   title='Correlation between Ratings and Number of Wineries',\n",
    "#                   color_discrete_sequence=['blue'], # set the color of the first trace to blue\n",
    "#                   labels={'ratings_count_avg_normalized': ''}) # set the name of the first trace\n",
    "# fig3.add_annotation(\n",
    "#     xref='paper',\n",
    "#     yref='paper',\n",
    "#     x=-0.06,\n",
    "#     y=1.1,\n",
    "#     text='Rating Normalized',\n",
    "#     showarrow=False,\n",
    "#     font=dict(\n",
    "#         size=14,\n",
    "#         color=\"black\"\n",
    "#     ),\n",
    "#     align='left',\n",
    "#     ax=0,\n",
    "#     ay=0,\n",
    "#     bordercolor='white',\n",
    "#     borderwidth=1,\n",
    "#     borderpad=4\n",
    "# )\n",
    "# fig3.add_trace(\n",
    "#     go.Scatter(\n",
    "#         x=df[\"wineries_nb\"],\n",
    "#         y=df[\"ratings_count_avg_normalized\"],\n",
    "#         mode='markers',\n",
    "#         marker=dict(\n",
    "#             color='lightpink',\n",
    "#         ),\n",
    "#         name='Average Ratings counts' # set the name of the second trace\n",
    "#     )\n",
    "# )\n",
    "# fig3.add_trace(\n",
    "#     go.Scatter(\n",
    "#         x=df[\"wineries_nb\"],\n",
    "#         y=df[\"ratings_avg_normalized\"],\n",
    "#         mode='markers',\n",
    "#         marker=dict(\n",
    "#             color='magenta',\n",
    "#         ),\n",
    "#         name='Average Ratings' # set the name of the second trace\n",
    "#     )\n",
    "# )\n",
    "# fig3.show()"
   ]
  },
  {
   "cell_type": "code",
   "execution_count": 87,
   "metadata": {},
   "outputs": [
    {
     "name": "stdout",
     "output_type": "stream",
     "text": [
      "Number of rows: 17\n"
     ]
    },
    {
     "data": {
      "application/vnd.plotly.v1+json": {
       "config": {
        "plotlyServerURL": "https://plot.ly"
       },
       "data": [
        {
         "alignmentgroup": "True",
         "hovertemplate": "=%{marker.color}<extra></extra>",
         "legendgroup": "",
         "marker": {
          "color": [
           4.5,
           4.4,
           4.321428571428572,
           4.120000000000001,
           3.932258064516129,
           3.8714285714285714,
           3.698214285714285,
           3.6562499999999996,
           3.630266075388031,
           3.3809160305343484,
           3.171428571428571,
           3.0650485436893224,
           2.8312500000000003,
           2.3,
           2.2,
           1.6958333333333335,
           0
          ],
          "coloraxis": "coloraxis",
          "pattern": {
           "shape": ""
          }
         },
         "name": "",
         "offsetgroup": "",
         "orientation": "v",
         "showlegend": false,
         "textposition": "auto",
         "type": "bar",
         "x": [
          "Roumanie",
          "Croatie",
          "Argentine",
          "Chili",
          "Portugal",
          "Moldavie",
          "États-Unis",
          "Afrique du Sud",
          "Italie",
          "Espagne",
          "Hongrie",
          "France",
          "Australie",
          "Grèce",
          "Suisse",
          "Allemagne",
          "Israël"
         ],
         "xaxis": "x",
         "y": [
          4.5,
          4.4,
          4.321428571428572,
          4.120000000000001,
          3.932258064516129,
          3.8714285714285714,
          3.698214285714285,
          3.6562499999999996,
          3.630266075388031,
          3.3809160305343484,
          3.171428571428571,
          3.0650485436893224,
          2.8312500000000003,
          2.3,
          2.2,
          1.6958333333333335,
          0
         ],
         "yaxis": "y"
        }
       ],
       "layout": {
        "annotations": [
         {
          "align": "left",
          "ax": 0,
          "ay": 0,
          "bordercolor": "white",
          "borderpad": 4,
          "borderwidth": 1,
          "font": {
           "color": "black",
           "size": 14
          },
          "showarrow": false,
          "text": "<b>Rating</b>",
          "x": -0.04,
          "xref": "paper",
          "y": 1.15,
          "yref": "paper"
         }
        ],
        "barmode": "relative",
        "coloraxis": {
         "colorbar": {
          "title": {
           "text": ""
          }
         },
         "colorscale": [
          [
           0,
           "rgb(243, 203, 211)"
          ],
          [
           0.16666666666666666,
           "rgb(234, 169, 189)"
          ],
          [
           0.3333333333333333,
           "rgb(221, 136, 172)"
          ],
          [
           0.5,
           "rgb(202, 105, 157)"
          ],
          [
           0.6666666666666666,
           "rgb(177, 77, 142)"
          ],
          [
           0.8333333333333334,
           "rgb(145, 53, 125)"
          ],
          [
           1,
           "rgb(108, 33, 103)"
          ]
         ]
        },
        "legend": {
         "tracegroupgap": 0
        },
        "template": {
         "data": {
          "bar": [
           {
            "error_x": {
             "color": "#2a3f5f"
            },
            "error_y": {
             "color": "#2a3f5f"
            },
            "marker": {
             "line": {
              "color": "#E5ECF6",
              "width": 0.5
             },
             "pattern": {
              "fillmode": "overlay",
              "size": 10,
              "solidity": 0.2
             }
            },
            "type": "bar"
           }
          ],
          "barpolar": [
           {
            "marker": {
             "line": {
              "color": "#E5ECF6",
              "width": 0.5
             },
             "pattern": {
              "fillmode": "overlay",
              "size": 10,
              "solidity": 0.2
             }
            },
            "type": "barpolar"
           }
          ],
          "carpet": [
           {
            "aaxis": {
             "endlinecolor": "#2a3f5f",
             "gridcolor": "white",
             "linecolor": "white",
             "minorgridcolor": "white",
             "startlinecolor": "#2a3f5f"
            },
            "baxis": {
             "endlinecolor": "#2a3f5f",
             "gridcolor": "white",
             "linecolor": "white",
             "minorgridcolor": "white",
             "startlinecolor": "#2a3f5f"
            },
            "type": "carpet"
           }
          ],
          "choropleth": [
           {
            "colorbar": {
             "outlinewidth": 0,
             "ticks": ""
            },
            "type": "choropleth"
           }
          ],
          "contour": [
           {
            "colorbar": {
             "outlinewidth": 0,
             "ticks": ""
            },
            "colorscale": [
             [
              0,
              "#0d0887"
             ],
             [
              0.1111111111111111,
              "#46039f"
             ],
             [
              0.2222222222222222,
              "#7201a8"
             ],
             [
              0.3333333333333333,
              "#9c179e"
             ],
             [
              0.4444444444444444,
              "#bd3786"
             ],
             [
              0.5555555555555556,
              "#d8576b"
             ],
             [
              0.6666666666666666,
              "#ed7953"
             ],
             [
              0.7777777777777778,
              "#fb9f3a"
             ],
             [
              0.8888888888888888,
              "#fdca26"
             ],
             [
              1,
              "#f0f921"
             ]
            ],
            "type": "contour"
           }
          ],
          "contourcarpet": [
           {
            "colorbar": {
             "outlinewidth": 0,
             "ticks": ""
            },
            "type": "contourcarpet"
           }
          ],
          "heatmap": [
           {
            "colorbar": {
             "outlinewidth": 0,
             "ticks": ""
            },
            "colorscale": [
             [
              0,
              "#0d0887"
             ],
             [
              0.1111111111111111,
              "#46039f"
             ],
             [
              0.2222222222222222,
              "#7201a8"
             ],
             [
              0.3333333333333333,
              "#9c179e"
             ],
             [
              0.4444444444444444,
              "#bd3786"
             ],
             [
              0.5555555555555556,
              "#d8576b"
             ],
             [
              0.6666666666666666,
              "#ed7953"
             ],
             [
              0.7777777777777778,
              "#fb9f3a"
             ],
             [
              0.8888888888888888,
              "#fdca26"
             ],
             [
              1,
              "#f0f921"
             ]
            ],
            "type": "heatmap"
           }
          ],
          "heatmapgl": [
           {
            "colorbar": {
             "outlinewidth": 0,
             "ticks": ""
            },
            "colorscale": [
             [
              0,
              "#0d0887"
             ],
             [
              0.1111111111111111,
              "#46039f"
             ],
             [
              0.2222222222222222,
              "#7201a8"
             ],
             [
              0.3333333333333333,
              "#9c179e"
             ],
             [
              0.4444444444444444,
              "#bd3786"
             ],
             [
              0.5555555555555556,
              "#d8576b"
             ],
             [
              0.6666666666666666,
              "#ed7953"
             ],
             [
              0.7777777777777778,
              "#fb9f3a"
             ],
             [
              0.8888888888888888,
              "#fdca26"
             ],
             [
              1,
              "#f0f921"
             ]
            ],
            "type": "heatmapgl"
           }
          ],
          "histogram": [
           {
            "marker": {
             "pattern": {
              "fillmode": "overlay",
              "size": 10,
              "solidity": 0.2
             }
            },
            "type": "histogram"
           }
          ],
          "histogram2d": [
           {
            "colorbar": {
             "outlinewidth": 0,
             "ticks": ""
            },
            "colorscale": [
             [
              0,
              "#0d0887"
             ],
             [
              0.1111111111111111,
              "#46039f"
             ],
             [
              0.2222222222222222,
              "#7201a8"
             ],
             [
              0.3333333333333333,
              "#9c179e"
             ],
             [
              0.4444444444444444,
              "#bd3786"
             ],
             [
              0.5555555555555556,
              "#d8576b"
             ],
             [
              0.6666666666666666,
              "#ed7953"
             ],
             [
              0.7777777777777778,
              "#fb9f3a"
             ],
             [
              0.8888888888888888,
              "#fdca26"
             ],
             [
              1,
              "#f0f921"
             ]
            ],
            "type": "histogram2d"
           }
          ],
          "histogram2dcontour": [
           {
            "colorbar": {
             "outlinewidth": 0,
             "ticks": ""
            },
            "colorscale": [
             [
              0,
              "#0d0887"
             ],
             [
              0.1111111111111111,
              "#46039f"
             ],
             [
              0.2222222222222222,
              "#7201a8"
             ],
             [
              0.3333333333333333,
              "#9c179e"
             ],
             [
              0.4444444444444444,
              "#bd3786"
             ],
             [
              0.5555555555555556,
              "#d8576b"
             ],
             [
              0.6666666666666666,
              "#ed7953"
             ],
             [
              0.7777777777777778,
              "#fb9f3a"
             ],
             [
              0.8888888888888888,
              "#fdca26"
             ],
             [
              1,
              "#f0f921"
             ]
            ],
            "type": "histogram2dcontour"
           }
          ],
          "mesh3d": [
           {
            "colorbar": {
             "outlinewidth": 0,
             "ticks": ""
            },
            "type": "mesh3d"
           }
          ],
          "parcoords": [
           {
            "line": {
             "colorbar": {
              "outlinewidth": 0,
              "ticks": ""
             }
            },
            "type": "parcoords"
           }
          ],
          "pie": [
           {
            "automargin": true,
            "type": "pie"
           }
          ],
          "scatter": [
           {
            "fillpattern": {
             "fillmode": "overlay",
             "size": 10,
             "solidity": 0.2
            },
            "type": "scatter"
           }
          ],
          "scatter3d": [
           {
            "line": {
             "colorbar": {
              "outlinewidth": 0,
              "ticks": ""
             }
            },
            "marker": {
             "colorbar": {
              "outlinewidth": 0,
              "ticks": ""
             }
            },
            "type": "scatter3d"
           }
          ],
          "scattercarpet": [
           {
            "marker": {
             "colorbar": {
              "outlinewidth": 0,
              "ticks": ""
             }
            },
            "type": "scattercarpet"
           }
          ],
          "scattergeo": [
           {
            "marker": {
             "colorbar": {
              "outlinewidth": 0,
              "ticks": ""
             }
            },
            "type": "scattergeo"
           }
          ],
          "scattergl": [
           {
            "marker": {
             "colorbar": {
              "outlinewidth": 0,
              "ticks": ""
             }
            },
            "type": "scattergl"
           }
          ],
          "scattermapbox": [
           {
            "marker": {
             "colorbar": {
              "outlinewidth": 0,
              "ticks": ""
             }
            },
            "type": "scattermapbox"
           }
          ],
          "scatterpolar": [
           {
            "marker": {
             "colorbar": {
              "outlinewidth": 0,
              "ticks": ""
             }
            },
            "type": "scatterpolar"
           }
          ],
          "scatterpolargl": [
           {
            "marker": {
             "colorbar": {
              "outlinewidth": 0,
              "ticks": ""
             }
            },
            "type": "scatterpolargl"
           }
          ],
          "scatterternary": [
           {
            "marker": {
             "colorbar": {
              "outlinewidth": 0,
              "ticks": ""
             }
            },
            "type": "scatterternary"
           }
          ],
          "surface": [
           {
            "colorbar": {
             "outlinewidth": 0,
             "ticks": ""
            },
            "colorscale": [
             [
              0,
              "#0d0887"
             ],
             [
              0.1111111111111111,
              "#46039f"
             ],
             [
              0.2222222222222222,
              "#7201a8"
             ],
             [
              0.3333333333333333,
              "#9c179e"
             ],
             [
              0.4444444444444444,
              "#bd3786"
             ],
             [
              0.5555555555555556,
              "#d8576b"
             ],
             [
              0.6666666666666666,
              "#ed7953"
             ],
             [
              0.7777777777777778,
              "#fb9f3a"
             ],
             [
              0.8888888888888888,
              "#fdca26"
             ],
             [
              1,
              "#f0f921"
             ]
            ],
            "type": "surface"
           }
          ],
          "table": [
           {
            "cells": {
             "fill": {
              "color": "#EBF0F8"
             },
             "line": {
              "color": "white"
             }
            },
            "header": {
             "fill": {
              "color": "#C8D4E3"
             },
             "line": {
              "color": "white"
             }
            },
            "type": "table"
           }
          ]
         },
         "layout": {
          "annotationdefaults": {
           "arrowcolor": "#2a3f5f",
           "arrowhead": 0,
           "arrowwidth": 1
          },
          "autotypenumbers": "strict",
          "coloraxis": {
           "colorbar": {
            "outlinewidth": 0,
            "ticks": ""
           }
          },
          "colorscale": {
           "diverging": [
            [
             0,
             "#8e0152"
            ],
            [
             0.1,
             "#c51b7d"
            ],
            [
             0.2,
             "#de77ae"
            ],
            [
             0.3,
             "#f1b6da"
            ],
            [
             0.4,
             "#fde0ef"
            ],
            [
             0.5,
             "#f7f7f7"
            ],
            [
             0.6,
             "#e6f5d0"
            ],
            [
             0.7,
             "#b8e186"
            ],
            [
             0.8,
             "#7fbc41"
            ],
            [
             0.9,
             "#4d9221"
            ],
            [
             1,
             "#276419"
            ]
           ],
           "sequential": [
            [
             0,
             "#0d0887"
            ],
            [
             0.1111111111111111,
             "#46039f"
            ],
            [
             0.2222222222222222,
             "#7201a8"
            ],
            [
             0.3333333333333333,
             "#9c179e"
            ],
            [
             0.4444444444444444,
             "#bd3786"
            ],
            [
             0.5555555555555556,
             "#d8576b"
            ],
            [
             0.6666666666666666,
             "#ed7953"
            ],
            [
             0.7777777777777778,
             "#fb9f3a"
            ],
            [
             0.8888888888888888,
             "#fdca26"
            ],
            [
             1,
             "#f0f921"
            ]
           ],
           "sequentialminus": [
            [
             0,
             "#0d0887"
            ],
            [
             0.1111111111111111,
             "#46039f"
            ],
            [
             0.2222222222222222,
             "#7201a8"
            ],
            [
             0.3333333333333333,
             "#9c179e"
            ],
            [
             0.4444444444444444,
             "#bd3786"
            ],
            [
             0.5555555555555556,
             "#d8576b"
            ],
            [
             0.6666666666666666,
             "#ed7953"
            ],
            [
             0.7777777777777778,
             "#fb9f3a"
            ],
            [
             0.8888888888888888,
             "#fdca26"
            ],
            [
             1,
             "#f0f921"
            ]
           ]
          },
          "colorway": [
           "#636efa",
           "#EF553B",
           "#00cc96",
           "#ab63fa",
           "#FFA15A",
           "#19d3f3",
           "#FF6692",
           "#B6E880",
           "#FF97FF",
           "#FECB52"
          ],
          "font": {
           "color": "#2a3f5f"
          },
          "geo": {
           "bgcolor": "white",
           "lakecolor": "white",
           "landcolor": "#E5ECF6",
           "showlakes": true,
           "showland": true,
           "subunitcolor": "white"
          },
          "hoverlabel": {
           "align": "left"
          },
          "hovermode": "closest",
          "mapbox": {
           "style": "light"
          },
          "paper_bgcolor": "white",
          "plot_bgcolor": "#E5ECF6",
          "polar": {
           "angularaxis": {
            "gridcolor": "white",
            "linecolor": "white",
            "ticks": ""
           },
           "bgcolor": "#E5ECF6",
           "radialaxis": {
            "gridcolor": "white",
            "linecolor": "white",
            "ticks": ""
           }
          },
          "scene": {
           "xaxis": {
            "backgroundcolor": "#E5ECF6",
            "gridcolor": "white",
            "gridwidth": 2,
            "linecolor": "white",
            "showbackground": true,
            "ticks": "",
            "zerolinecolor": "white"
           },
           "yaxis": {
            "backgroundcolor": "#E5ECF6",
            "gridcolor": "white",
            "gridwidth": 2,
            "linecolor": "white",
            "showbackground": true,
            "ticks": "",
            "zerolinecolor": "white"
           },
           "zaxis": {
            "backgroundcolor": "#E5ECF6",
            "gridcolor": "white",
            "gridwidth": 2,
            "linecolor": "white",
            "showbackground": true,
            "ticks": "",
            "zerolinecolor": "white"
           }
          },
          "shapedefaults": {
           "line": {
            "color": "#2a3f5f"
           }
          },
          "ternary": {
           "aaxis": {
            "gridcolor": "white",
            "linecolor": "white",
            "ticks": ""
           },
           "baxis": {
            "gridcolor": "white",
            "linecolor": "white",
            "ticks": ""
           },
           "bgcolor": "#E5ECF6",
           "caxis": {
            "gridcolor": "white",
            "linecolor": "white",
            "ticks": ""
           }
          },
          "title": {
           "x": 0.05
          },
          "xaxis": {
           "automargin": true,
           "gridcolor": "white",
           "linecolor": "white",
           "ticks": "",
           "title": {
            "standoff": 15
           },
           "zerolinecolor": "white",
           "zerolinewidth": 2
          },
          "yaxis": {
           "automargin": true,
           "gridcolor": "white",
           "linecolor": "white",
           "ticks": "",
           "title": {
            "standoff": 15
           },
           "zerolinecolor": "white",
           "zerolinewidth": 2
          }
         }
        },
        "title": {
         "font": {
          "size": 26
         },
         "text": "<b>Vintages Rating per Country</b>",
         "x": 0.5,
         "xanchor": "center",
         "y": 0.95,
         "yanchor": "top"
        },
        "xaxis": {
         "anchor": "y",
         "domain": [
          0,
          1
         ],
         "title": {
          "text": ""
         }
        },
        "yaxis": {
         "anchor": "x",
         "domain": [
          0,
          1
         ],
         "dtick": 0.5,
         "range": [
          0,
          5
         ],
         "title": {
          "text": ""
         }
        }
       }
      }
     },
     "metadata": {},
     "output_type": "display_data"
    }
   ],
   "source": [
    "# 6b - Country rates on vintage visualization\n",
    "query6a= (\"\"\"\n",
    "SELECT  countries.name AS Country,\n",
    "        AVG(vintages.ratings_average)  AS ratings_avg, \n",
    "        AVG(vintages.ratings_count) AS ratings_count_avg\n",
    "        \n",
    "        \n",
    "        \n",
    "FROM    countries\n",
    "        JOIN regions ON countries.code = regions.country_code\n",
    "        JOIN wines ON regions.id = wines.region_id\n",
    "        JOIN vintages ON wines.id = vintages.wine_id\n",
    "\n",
    "GROUP BY countries.name\n",
    "ORDER BY AVG(wines.ratings_average) DESC, AVG(wines.ratings_count) DESC\n",
    "\n",
    "\"\"\") \n",
    "\n",
    "\n",
    "cursor.execute(query6a)\n",
    "result = cursor.fetchall()\n",
    "print(\"Number of rows:\", len(result))\n",
    "#print (result)\n",
    "df = pd.read_sql_query(query6a, connexion)\n",
    "df\n",
    "\n",
    "\n",
    "fig1 = px.bar(df.sort_values('ratings_avg', ascending=False), \n",
    "             x='Country', \n",
    "             y='ratings_avg', \n",
    "             title='Vintages Rating per Country',\n",
    "             labels={'ratings_avg': '', 'Country': ''},\n",
    "             color='ratings_avg',\n",
    "             color_continuous_scale=px.colors.sequential.Magenta)\n",
    "\n",
    "# Improve the layout\n",
    "fig1.update_yaxes(range=[0, 5], dtick=0.5)\n",
    "fig1.update_layout(\n",
    "    title={\n",
    "        'text': \"<b>Vintages Rating per Country</b>\",\n",
    "        'y':0.95,\n",
    "        'x':0.5,\n",
    "        'xanchor': 'center',\n",
    "        'yanchor': 'top',\n",
    "        'font': {'size': 26}\n",
    "        })\n",
    "\n",
    "fig1.add_annotation(\n",
    "    xref='paper',\n",
    "    yref='paper',\n",
    "    x=-0.04,\n",
    "    y=1.15,\n",
    "    text='<b>Rating</b>',\n",
    "    showarrow=False,\n",
    "    font=dict(\n",
    "        size=14,\n",
    "        color=\"black\"\n",
    "    ),\n",
    "    align='left',\n",
    "    ax=0,\n",
    "    ay=0,\n",
    "    bordercolor='white',\n",
    "    borderwidth=1,\n",
    "    borderpad=4\n",
    ")\n",
    "\n",
    "fig1.show()"
   ]
  },
  {
   "cell_type": "code",
   "execution_count": 107,
   "metadata": {},
   "outputs": [
    {
     "name": "stdout",
     "output_type": "stream",
     "text": [
      "Number of rows: 3\n",
      "[(2, 'Harlan Estate Harlan Estate Red 1998', 4.8, 104, 'Harlan Estate Red', 4.7, 7231, 'Napa Valley', 'us'), (2, 'Scarecrow Cabernet Sauvignon 2015', 4.8, 243, 'Cabernet Sauvignon', 4.8, 2941, 'Rutherford', 'us'), (2, 'Colgin IX Estate Red 2016', 4.8, 131, 'IX Estate Red', 4.7, 2810, 'Napa Valley', 'us')]\n"
     ]
    },
    {
     "data": {
      "text/html": [
       "<div>\n",
       "<style scoped>\n",
       "    .dataframe tbody tr th:only-of-type {\n",
       "        vertical-align: middle;\n",
       "    }\n",
       "\n",
       "    .dataframe tbody tr th {\n",
       "        vertical-align: top;\n",
       "    }\n",
       "\n",
       "    .dataframe thead th {\n",
       "        text-align: right;\n",
       "    }\n",
       "</style>\n",
       "<table border=\"1\" class=\"dataframe\">\n",
       "  <thead>\n",
       "    <tr style=\"text-align: right;\">\n",
       "      <th></th>\n",
       "      <th>grape_id</th>\n",
       "      <th>wintage_name</th>\n",
       "      <th>vintages_ratings</th>\n",
       "      <th>vintages_ratings_count</th>\n",
       "      <th>wines_name</th>\n",
       "      <th>ratings</th>\n",
       "      <th>ratings_count</th>\n",
       "      <th>region_name</th>\n",
       "      <th>region_country_code</th>\n",
       "    </tr>\n",
       "  </thead>\n",
       "  <tbody>\n",
       "    <tr>\n",
       "      <th>0</th>\n",
       "      <td>2</td>\n",
       "      <td>Harlan Estate Harlan Estate Red 1998</td>\n",
       "      <td>4.8</td>\n",
       "      <td>104</td>\n",
       "      <td>Harlan Estate Red</td>\n",
       "      <td>4.7</td>\n",
       "      <td>7231</td>\n",
       "      <td>Napa Valley</td>\n",
       "      <td>us</td>\n",
       "    </tr>\n",
       "    <tr>\n",
       "      <th>1</th>\n",
       "      <td>2</td>\n",
       "      <td>Scarecrow Cabernet Sauvignon 2015</td>\n",
       "      <td>4.8</td>\n",
       "      <td>243</td>\n",
       "      <td>Cabernet Sauvignon</td>\n",
       "      <td>4.8</td>\n",
       "      <td>2941</td>\n",
       "      <td>Rutherford</td>\n",
       "      <td>us</td>\n",
       "    </tr>\n",
       "    <tr>\n",
       "      <th>2</th>\n",
       "      <td>2</td>\n",
       "      <td>Colgin IX Estate Red 2016</td>\n",
       "      <td>4.8</td>\n",
       "      <td>131</td>\n",
       "      <td>IX Estate Red</td>\n",
       "      <td>4.7</td>\n",
       "      <td>2810</td>\n",
       "      <td>Napa Valley</td>\n",
       "      <td>us</td>\n",
       "    </tr>\n",
       "  </tbody>\n",
       "</table>\n",
       "</div>"
      ],
      "text/plain": [
       "   grape_id                          wintage_name  vintages_ratings  \\\n",
       "0         2  Harlan Estate Harlan Estate Red 1998               4.8   \n",
       "1         2     Scarecrow Cabernet Sauvignon 2015               4.8   \n",
       "2         2             Colgin IX Estate Red 2016               4.8   \n",
       "\n",
       "   vintages_ratings_count          wines_name  ratings  ratings_count  \\\n",
       "0                     104   Harlan Estate Red      4.7           7231   \n",
       "1                     243  Cabernet Sauvignon      4.8           2941   \n",
       "2                     131       IX Estate Red      4.7           2810   \n",
       "\n",
       "   region_name region_country_code  \n",
       "0  Napa Valley                  us  \n",
       "1   Rutherford                  us  \n",
       "2  Napa Valley                  us  "
      ]
     },
     "execution_count": 107,
     "metadata": {},
     "output_type": "execute_result"
    }
   ],
   "source": [
    "#7 - Cabernet sauvignon recommendation\n",
    "\n",
    "query5d = (\"\"\"\n",
    "\n",
    "WITH countries_most_common_grapes AS (\n",
    "    SELECT   \n",
    "            most_used_grapes_per_country.grape_id AS grape_id,\n",
    "            most_used_grapes_per_country.country_code as country_code\n",
    "                    \n",
    "    FROM    most_used_grapes_per_country\n",
    "    WHERE   grape_id = 2 \n",
    "    \n",
    "),\n",
    "\n",
    "ranked_vintage AS ( \n",
    "        SELECT\n",
    "                countries_most_common_grapes.grape_id AS grape_id,\n",
    "                vintages.name as wintage_name,\n",
    "                vintages.ratings_average AS vintages_ratings,\n",
    "                vintages.ratings_count as vintages_ratings_count,\n",
    "                wines.name as wines_name,\n",
    "                wines.ratings_average AS ratings,\n",
    "                wines.ratings_count as ratings_count,\n",
    "                regions.name AS region_name,\n",
    "                regions.country_code AS region_country_code\n",
    "                --countries_most_common_grapes.country_code AS prev_country_code\n",
    "                --wines.region_id as wines_region_id,\n",
    "                --regions.id AS region_id,\n",
    "                \n",
    "                   \n",
    "                \n",
    "        FROM    regions\n",
    "                JOIN vintages ON wines.id = vintages.wine_id\n",
    "                JOIN wines ON regions.id = wines.region_id\n",
    "                --JOIN countries  ON regions.country_code = countries.code\n",
    "                JOIN countries_most_common_grapes ON regions.country_code = countries_most_common_grapes.country_code\n",
    ")\n",
    "           \n",
    "SELECT * FROM ranked_vintage \n",
    "ORDER BY vintages_ratings DESC\n",
    "LIMIT 3\n",
    "        \n",
    "\"\"\")\n",
    "\n",
    "\n",
    "cursor.execute(query5d)\n",
    "result = cursor.fetchall()\n",
    "print(\"Number of rows:\", len(result))\n",
    "print (result)\n",
    "df = pd.read_sql_query(query5d, connexion)\n",
    "df"
   ]
  }
 ],
 "metadata": {
  "kernelspec": {
   "display_name": "venv",
   "language": "python",
   "name": "python3"
  },
  "language_info": {
   "codemirror_mode": {
    "name": "ipython",
    "version": 3
   },
   "file_extension": ".py",
   "mimetype": "text/x-python",
   "name": "python",
   "nbconvert_exporter": "python",
   "pygments_lexer": "ipython3",
   "version": "3.11.5"
  }
 },
 "nbformat": 4,
 "nbformat_minor": 2
}
