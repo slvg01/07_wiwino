{
 "cells": [
  {
   "cell_type": "code",
   "execution_count": null,
   "metadata": {
    "execution": {
     "iopub.execute_input": "2024-03-27T14:56:43.314553Z",
     "iopub.status.busy": "2024-03-27T14:56:43.313391Z",
     "iopub.status.idle": "2024-03-27T14:56:53.067079Z",
     "shell.execute_reply": "2024-03-27T14:56:53.064105Z"
    }
   },
   "outputs": [],
   "source": [
    "import pandas as pd\n",
    "import plotly.express as px\n",
    "import nbformat\n",
    "import statsmodels\n",
    "import plotly.graph_objects as go\n",
    "\n",
    "df=pd.read_csv('queries6.csv')\n",
    "fig1 = px.bar(df.sort_values('ratings_avg', ascending=False), \n",
    "             x='Country', \n",
    "             y='ratings_avg', \n",
    "             title='Wines Rating per Country',\n",
    "             labels={'ratings_avg': '', 'Country': ''},\n",
    "             color='ratings_avg',\n",
    "             color_continuous_scale=px.colors.sequential.Magenta)\n",
    "\n",
    "# Improve the layout\n",
    "fig1.update_yaxes(range=[4, max(df['ratings_avg'])], dtick=0.5)\n",
    "fig1.update_layout(\n",
    "    title={\n",
    "        'text': \"<b>Wines Rating per country of production</b>\",\n",
    "        'y':0.95,\n",
    "        'x':0.5,\n",
    "        'xanchor': 'center',\n",
    "        'yanchor': 'top',\n",
    "        'font': {'size': 26}\n",
    "        })\n",
    "\n",
    "fig1.add_annotation(\n",
    "    xref='paper',\n",
    "    yref='paper',\n",
    "    x=-0.04,\n",
    "    y=1.15,\n",
    "    text='<b>Rating</b>',\n",
    "    showarrow=False,\n",
    "    font=dict(\n",
    "        size=14,\n",
    "        color=\"black\"\n",
    "    ),\n",
    "    align='left',\n",
    "    ax=0,\n",
    "    ay=0,\n",
    "    bordercolor='white',\n",
    "    borderwidth=1,\n",
    "    borderpad=4\n",
    ")\n",
    "\n",
    "fig1.show()\n",
    "\n",
    "\n",
    "\n"
   ]
  }
 ],
 "metadata": {
  "language_info": {
   "codemirror_mode": {
    "name": "ipython",
    "version": 3
   },
   "file_extension": ".py",
   "mimetype": "text/x-python",
   "name": "python",
   "nbconvert_exporter": "python",
   "pygments_lexer": "ipython3",
   "version": "3.11.5"
  }
 },
 "nbformat": 4,
 "nbformat_minor": 2
}
